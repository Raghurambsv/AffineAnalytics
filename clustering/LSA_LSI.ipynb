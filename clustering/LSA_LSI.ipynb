{
 "cells": [
  {
   "cell_type": "code",
   "execution_count": 1,
   "metadata": {},
   "outputs": [],
   "source": [
    "#https://www.datacamp.com/community/tutorials/discovering-hidden-topics-python\n",
    "#https://nlpforhackers.io/topic-modeling/"
   ]
  },
  {
   "cell_type": "code",
   "execution_count": 2,
   "metadata": {},
   "outputs": [
    {
     "name": "stderr",
     "output_type": "stream",
     "text": [
      "[nltk_data] Downloading package stopwords to\n",
      "[nltk_data]     C:\\Users\\raghuram\\AppData\\Roaming\\nltk_data...\n",
      "[nltk_data]   Package stopwords is already up-to-date!\n"
     ]
    }
   ],
   "source": [
    "#import modules\n",
    "import os.path\n",
    "from gensim import corpora\n",
    "from gensim.models import LsiModel\n",
    "from gensim.models import LdaModel\n",
    "from gensim.models import LdaMulticore\n",
    "from nltk.tokenize import RegexpTokenizer\n",
    "from nltk.corpus import stopwords\n",
    "import nltk\n",
    "nltk.download('stopwords')\n",
    "from nltk.stem.porter import PorterStemmer\n",
    "from gensim.models.coherencemodel import CoherenceModel\n",
    "import matplotlib.pyplot as plt\n",
    "import pandas as pd\n"
   ]
  },
  {
   "cell_type": "code",
   "execution_count": 3,
   "metadata": {
    "scrolled": true
   },
   "outputs": [
    {
     "name": "stdout",
     "output_type": "stream",
     "text": [
      "Total Number of Documents: 29\n"
     ]
    }
   ],
   "source": [
    "documents_list = []\n",
    "titles=[]\n",
    "with open('C://Users//raghuram//Desktop//clustering//sample.txt' ,\"r\",encoding=\"utf8\") as fin:\n",
    "    for line in fin.readlines():\n",
    "        text = line.strip()\n",
    "        documents_list.append(text)\n",
    "        titles.append( text[0:min(len(text),4)] )\n",
    "print(\"Total Number of Documents:\",len(documents_list))\n",
    "\n",
    "\n"
   ]
  },
  {
   "cell_type": "code",
   "execution_count": 4,
   "metadata": {},
   "outputs": [],
   "source": [
    "def preprocess_data(doc_set):\n",
    "    \"\"\"\n",
    "    Input  : docuemnt list\n",
    "    Purpose: preprocess text (tokenize, removing stopwords, and stemming)\n",
    "    Output : preprocessed text\n",
    "    \"\"\"\n",
    "    # initialize regex tokenizer \n",
    "    tokenizer = RegexpTokenizer(r'[a-zA-Z]\\w+') #(No Numbers)\n",
    "    # create English stop words list\n",
    "    \n",
    "    en_stop=stopwords.words('english')\n",
    "    en_stop.extend(['from', 'subject', 're', 'edu', 'use','raghu'])\n",
    "    \n",
    "    # Create p_stemmer of class PorterStemmer\n",
    "    p_stemmer = PorterStemmer()\n",
    "    # list for tokenized documents in loop\n",
    "    texts = []\n",
    "    # loop through document list\n",
    "    for i in doc_set:\n",
    "        # clean and tokenize document string\n",
    "        raw = i.lower()\n",
    "        tokens = tokenizer.tokenize(raw)\n",
    "         # remove stop words from tokens\n",
    "        stopped_tokens = [i for i in tokens if not i in en_stop]\n",
    "              \n",
    "        # stem tokens\n",
    "        stemmed_tokens = [p_stemmer.stem(i) for i in stopped_tokens]\n",
    "        \n",
    "        # remove less than 3 size letter\n",
    "        stemmed_tokens=[i for i in stemmed_tokens if len(i)>3 ]\n",
    "        \n",
    "        # add tokens to list\n",
    "        texts.append(stemmed_tokens)\n",
    "    return texts"
   ]
  },
  {
   "cell_type": "code",
   "execution_count": 5,
   "metadata": {},
   "outputs": [],
   "source": [
    "doc_clean=preprocess_data(documents_list)\n"
   ]
  },
  {
   "cell_type": "code",
   "execution_count": 6,
   "metadata": {},
   "outputs": [
    {
     "data": {
      "text/plain": [
       "'\\n#Exclude common words across documents\\n\\nfrom sklearn.feature_extraction.text import CountVectorizer\\nvectorizer = CountVectorizer(min_df=8)\\nvectorizer.fit(documents_list)\\nprint(len(vectorizer.get_feature_names()))\\nprint(vectorizer.get_feature_names())\\n\\nexclude_very_common_words=vectorizer.get_feature_names()\\n'"
      ]
     },
     "execution_count": 6,
     "metadata": {},
     "output_type": "execute_result"
    }
   ],
   "source": [
    "'''\n",
    "#Exclude common words across documents\n",
    "\n",
    "from sklearn.feature_extraction.text import CountVectorizer\n",
    "vectorizer = CountVectorizer(min_df=8)\n",
    "vectorizer.fit(documents_list)\n",
    "print(len(vectorizer.get_feature_names()))\n",
    "print(vectorizer.get_feature_names())\n",
    "\n",
    "exclude_very_common_words=vectorizer.get_feature_names()\n",
    "'''"
   ]
  },
  {
   "cell_type": "code",
   "execution_count": 16,
   "metadata": {},
   "outputs": [
    {
     "data": {
      "text/plain": [
       "2973"
      ]
     },
     "execution_count": 16,
     "metadata": {},
     "output_type": "execute_result"
    }
   ],
   "source": [
    "#prepare_corpus\n",
    "# Creating the term dictionary of our courpus, where every unique term is assigned an index. dictionary = corpora.Dictionary(doc_clean)\n",
    "dictionary = corpora.Dictionary(doc_clean)\n",
    "doc_term_matrix = [dictionary.doc2bow(doc) for doc in doc_clean]\n",
    "len(dictionary)\n"
   ]
  },
  {
   "cell_type": "code",
   "execution_count": 8,
   "metadata": {},
   "outputs": [],
   "source": [
    "#To FIND THE BEST no_of_topics score\n",
    "def compute_coherence_values(dictionary, doc_term_matrix, doc_clean, stop, start=2, step=3):\n",
    "    \"\"\"\n",
    "    Input   : dictionary : Gensim dictionary\n",
    "              corpus : Gensim corpus\n",
    "              texts : List of input texts\n",
    "              stop : Max num of topics\n",
    "    purpose : Compute c_v coherence for various number of topics\n",
    "    Output  : model_list : List of LSA topic models\n",
    "              coherence_values : Coherence values corresponding to the LDA model with respective number of topics\n",
    "    \"\"\"\n",
    "    coherence_values = []\n",
    "    model_list = []\n",
    "    for num_topics in range(start, stop, step):\n",
    "        # generate LSA model\n",
    "        model = LsiModel(doc_term_matrix, num_topics=num_topics, id2word = dictionary)  # train model\n",
    "        model_list.append(model)\n",
    "        coherencemodel = CoherenceModel(model=model, texts=doc_clean, dictionary=dictionary, coherence='c_v')\n",
    "        coherence_values.append(coherencemodel.get_coherence())\n",
    "    return model_list, coherence_values"
   ]
  },
  {
   "cell_type": "code",
   "execution_count": 9,
   "metadata": {},
   "outputs": [
    {
     "name": "stdout",
     "output_type": "stream",
     "text": [
      "List of models [<gensim.models.lsimodel.LsiModel object at 0x000002EBE199C940>, <gensim.models.lsimodel.LsiModel object at 0x000002EBE1A346D8>, <gensim.models.lsimodel.LsiModel object at 0x000002EBDAD8B0F0>, <gensim.models.lsimodel.LsiModel object at 0x000002EBE1A2E208>, <gensim.models.lsimodel.LsiModel object at 0x000002EBE1A2B7F0>, <gensim.models.lsimodel.LsiModel object at 0x000002EBE1A22C18>, <gensim.models.lsimodel.LsiModel object at 0x000002EBE1A51CF8>, <gensim.models.lsimodel.LsiModel object at 0x000002EBE1A51C50>, <gensim.models.lsimodel.LsiModel object at 0x000002EBE1A24668>, <gensim.models.lsimodel.LsiModel object at 0x000002EBE1A4EA20>, <gensim.models.lsimodel.LsiModel object at 0x000002EBDE0E1748>, <gensim.models.lsimodel.LsiModel object at 0x000002EBE19A1EB8>]\n",
      "coherence values [0.7273714046900475, 0.44118499561973823, 0.4536528635999118, 0.43852088728962263, 0.4308803450322767, 0.4895805952376427, 0.4784099018380486, 0.45975584723845153, 0.45182390049927407, 0.4471990644266226, 0.4174625447087789, 0.4707720742143751]\n"
     ]
    }
   ],
   "source": [
    "#generate coherence scores across models to determine OPTIMUM number_of_topics.\n",
    "model_list, coherence_values=compute_coherence_values(dictionary, doc_term_matrix, doc_clean, stop=25, start=2, step=2)\n",
    "print('List of models',model_list)\n",
    "print('coherence values',coherence_values)"
   ]
  },
  {
   "cell_type": "code",
   "execution_count": 10,
   "metadata": {},
   "outputs": [
    {
     "data": {
      "image/png": "[encoded data removed]",
      "text/plain": [
       "<Figure size 432x288 with 1 Axes>"
      ]
     },
     "metadata": {
      "needs_background": "light"
     },
     "output_type": "display_data"
    }
   ],
   "source": [
    "#Plot graph\n",
    "start=2\n",
    "stop=25\n",
    "step=2\n",
    "x = range(start, stop, step)\n",
    "plt.plot(x, coherence_values)\n",
    "plt.xlabel(\"Number of Topics\")\n",
    "plt.ylabel(\"Coherence score\")\n",
    "plt.legend((\"coherence_values\"), loc='best')\n",
    "plt.show()"
   ]
  },
  {
   "cell_type": "code",
   "execution_count": 31,
   "metadata": {},
   "outputs": [
    {
     "name": "stdout",
     "output_type": "stream",
     "text": [
      "LSA listed Topics\n",
      "=====================\n",
      "Topic 0 ==> (0, '0.222*\"cameron\" + 0.200*\"prime\" + 0.195*\"minist\"')\n",
      "Topic 1 ==> (1, '-0.405*\"ticket\" + -0.310*\"price\" + 0.253*\"cameron\"')\n",
      "Topic 2 ==> (2, '-0.361*\"ticket\" + 0.293*\"trump\" + 0.267*\"scientist\"')\n",
      "Topic 3 ==> (3, '0.374*\"scientist\" + -0.258*\"bank\" + 0.216*\"climat\"')\n",
      "Topic 4 ==> (4, '-0.383*\"poll\" + 0.288*\"scientist\" + -0.214*\"percentag\"')\n",
      "Topic 5 ==> (5, '0.379*\"educ\" + 0.211*\"univers\" + 0.206*\"school\"')\n",
      "Topic 6 ==> (6, '0.331*\"educ\" + -0.331*\"said\" + -0.279*\"trump\"')\n",
      "Topic 7 ==> (7, '0.195*\"sport\" + -0.183*\"brexit\" + 0.152*\"banker\"')\n",
      "\n",
      "LDA listed Topics\n",
      "=====================\n",
      "Topic 0 ==> (0, '0.007*\"ticket\" + 0.006*\"educ\" + 0.006*\"said\"')\n",
      "Topic 1 ==> (1, '0.009*\"said\" + 0.008*\"trump\" + 0.005*\"year\"')\n",
      "Topic 2 ==> (2, '0.005*\"year\" + 0.004*\"price\" + 0.004*\"said\"')\n",
      "Topic 3 ==> (3, '0.006*\"scientist\" + 0.006*\"year\" + 0.006*\"said\"')\n",
      "Topic 4 ==> (4, '0.006*\"said\" + 0.006*\"bank\" + 0.005*\"year\"')\n",
      "Topic 5 ==> (5, '0.006*\"bank\" + 0.006*\"trump\" + 0.006*\"said\"')\n",
      "Topic 6 ==> (6, '0.006*\"said\" + 0.006*\"year\" + 0.005*\"time\"')\n",
      "Topic 7 ==> (7, '0.006*\"said\" + 0.005*\"bank\" + 0.005*\"financi\"')\n",
      "\n",
      "CHUNKSIZE LDA listed Topics\n",
      "=====================\n",
      "Topic 0 ==> (0, '0.021*\"scientist\" + 0.012*\"climat\" + 0.010*\"scienc\"')\n",
      "Topic 1 ==> (1, '0.012*\"said\" + 0.009*\"cameron\" + 0.009*\"bank\"')\n",
      "Topic 2 ==> (2, '0.016*\"educ\" + 0.008*\"countri\" + 0.008*\"right\"')\n",
      "Topic 3 ==> (3, '0.014*\"poll\" + 0.009*\"lewandowski\" + 0.009*\"vote\"')\n",
      "Topic 4 ==> (4, '0.008*\"music\" + 0.007*\"year\" + 0.007*\"open\"')\n",
      "Topic 5 ==> (5, '0.012*\"trump\" + 0.011*\"said\" + 0.009*\"compani\"')\n",
      "Topic 6 ==> (6, '0.011*\"film\" + 0.010*\"test\" + 0.010*\"duvernay\"')\n",
      "Topic 7 ==> (7, '0.013*\"ticket\" + 0.012*\"price\" + 0.007*\"mobil\"')\n"
     ]
    }
   ],
   "source": [
    "#From above figure we get to know 6 topics is best optimum\n",
    "#So train the LSA & LDA for 7 topics\n",
    "\n",
    "number_of_topics=8;words=3\n",
    "#LSA\n",
    "lsamodel= LsiModel(doc_term_matrix, num_topics=number_of_topics, id2word = dictionary) \n",
    "print(\"LSA listed Topics\") \n",
    "print(\"=====================\")\n",
    "for i,model in enumerate(lsamodel.print_topics(num_topics=number_of_topics, num_words=words)):\n",
    "    print(\"Topic\",i,\"==>\",model)\n",
    "\n",
    "#LDA\n",
    "lda_model = LdaModel(doc_term_matrix, num_topics=number_of_topics, id2word = dictionary)\n",
    "print(\"\\nLDA listed Topics\") \n",
    "print(\"=====================\")\n",
    "for i,model in enumerate(lda_model.print_topics(num_topics=number_of_topics, num_words=words)): \n",
    "    print(\"Topic\",i,\"==>\",model)\n",
    "\n",
    "#LDA (with chunksize & passes(like epochs))    \n",
    "epoch_lda_model = LdaMulticore(corpus=doc_term_matrix,\n",
    "                                       id2word=dictionary,\n",
    "                                       num_topics=number_of_topics, \n",
    "                                       random_state=100,\n",
    "                                       chunksize=100,\n",
    "                                       passes=10,\n",
    "                                       per_word_topics=True)   \n",
    "print(\"\\nCHUNKSIZE LDA listed Topics\") \n",
    "print(\"=====================\")\n",
    "for i,model in enumerate(epoch_lda_model.print_topics(num_topics=number_of_topics, num_words=words)): \n",
    "    print(\"Topic\",i,\"==>\",model)"
   ]
  },
  {
   "cell_type": "markdown",
   "metadata": {},
   "source": [
    "# Lets now put the models to work and transform unseen documents to their topic distribution"
   ]
  },
  {
   "cell_type": "code",
   "execution_count": 148,
   "metadata": {},
   "outputs": [
    {
     "name": "stdout",
     "output_type": "stream",
     "text": [
      "LSA listed Topics\n",
      "=================\n",
      "[]\n",
      "\n",
      "LDA listed Topics\n",
      "=================\n",
      "[(0, 0.125), (1, 0.125), (2, 0.125), (3, 0.125), (4, 0.125), (5, 0.125), (6, 0.125), (7, 0.125)]\n",
      "\n",
      "LDA-Chunksize listed Topics\n",
      "=================\n",
      "([(0, 0.125), (1, 0.125), (2, 0.125), (3, 0.125), (4, 0.125), (5, 0.125), (6, 0.125), (7, 0.125)], [], [])\n"
     ]
    }
   ],
   "source": [
    "#If there is negative score given for the word...then that means that word was not present during the training\n",
    "text =\"The economy is working better than ever\"\n",
    "doc_list=[]\n",
    "for word in text.split():\n",
    "    doc_list.append(word)\n",
    "#bow=dictionary.doc2bow(clean_text(doc_list)\n",
    "bow=dictionary.doc2bow(doc_list)\n",
    "\n",
    "print(\"LSA listed Topics\")\n",
    "print(\"=================\")\n",
    "print(lsamodel[bow])\n",
    "\n",
    "print(\"\\nLDA listed Topics\")\n",
    "print(\"=================\")\n",
    "print(lda_model[bow])\n",
    "\n",
    "print(\"\\nLDA-Chunksize listed Topics\")\n",
    "print(\"=================\")\n",
    "print(epoch_lda_model[bow])"
   ]
  },
  {
   "cell_type": "code",
   "execution_count": 149,
   "metadata": {},
   "outputs": [
    {
     "name": "stdout",
     "output_type": "stream",
     "text": [
      "[(26, 0.5852072), (24, 0.54271686), (12, 0.49743098), (17, 0.48555863), (7, 0.4847793), (9, 0.48100603), (10, 0.42792708), (19, 0.42579332), (18, 0.41802928), (4, 0.36678)]\n",
      "\n",
      "The most similar document for the given BOW is Document Number: 26\n",
      "\n",
      " TEXT:\n",
      " Trump campaign manager sued to get on Massachusetts ballot as 21-year-old Donald Trump this week threatened to sue the Republican party over disputed results in a bitterly contested presidential primary that may yet end up in the courts if the party establishment denies him the nomination this summer. The has found that Trumpâ€™s pugnacious campaign manager, Corey Lewandowski, has more experience in this field than was previously known, having resorted to litigation in his only election as a candidate himself. Profiles of Lewandowski have noted that as a Republican college student, he ran for a seat in the Massachusetts legislature in 1994 but lost to Thomas Golden Jr, the Democratic candidate. Golden still represents their native Lowell in the stateâ€™s house of representatives. Lewandowski was not, however, the Republican candidate. Nobody was. According to court records, Lewandowski was denied a place on the ballot for the Republican primary that September. â€œMy memory is that he d\n"
     ]
    }
   ],
   "source": [
    "#Gensim offers a simple way of performing similarity queries using topic models.\n",
    "from gensim import similarities\n",
    "\n",
    "#feed the entire corpus(i.e document matrix) to MatrixSimilarity ==> To find the similar documents through LDA.\n",
    "lda_index = similarities.MatrixSimilarity(lda_model[doc_term_matrix])\n",
    " \n",
    "# Let's perform some queries (For given new word find its similarity score)\n",
    "similarities = lda_index[lda_model[bow]]\n",
    "# Sort the similarities\n",
    "similarities = sorted(enumerate(similarities), key=lambda item: -item[1])\n",
    " \n",
    "# Top most similar documents for the Document : \"The economy is working better than ever\"\n",
    "print(similarities[:10])\n",
    "# [(10, 0.9880539), (22, 0.9245134), (26, 0.3938291), (0, 0.26569474), (28, 0.12166141), (23, 0.08445983), (19, 0.08060737), (27, 0.07882397), (1, 0.07557659), (24, 0.06911537)]\n",
    "\n",
    "# Let's see what's the most similar document\n",
    "document_id, similarity = similarities[0]\n",
    "print('\\nThe most similar document for the given BOW is Document Number:',document_id)\n",
    "print('\\n','TEXT:\\n',documents_list[document_id][:1000])"
   ]
  },
  {
   "cell_type": "code",
   "execution_count": 14,
   "metadata": {},
   "outputs": [
    {
     "data": {
      "text/plain": [
       "'\\nExtracting out final sentence from topic 1\\nsentence1= final_matrix[final_matrix[\"abs_topic1\"]>=0.4]\\nsentence1[[\\'abs_topic1\\']]\\n'"
      ]
     },
     "execution_count": 14,
     "metadata": {},
     "output_type": "execute_result"
    }
   ],
   "source": [
    "#To choose things greaater than certain probability\n",
    "'''\n",
    "Extracting out final sentence from topic 1\n",
    "sentence1= final_matrix[final_matrix[\"abs_topic1\"]>=0.4]\n",
    "sentence1[['abs_topic1']]\n",
    "'''\n"
   ]
  },
  {
   "cell_type": "code",
   "execution_count": null,
   "metadata": {},
   "outputs": [],
   "source": []
  }
 ],
 "metadata": {
  "kernelspec": {
   "display_name": "Python 3",
   "language": "python",
   "name": "python3"
  },
  "language_info": {
   "codemirror_mode": {
    "name": "ipython",
    "version": 3
   },
   "file_extension": ".py",
   "mimetype": "text/x-python",
   "name": "python",
   "nbconvert_exporter": "python",
   "pygments_lexer": "ipython3",
   "version": "3.6.10"
  }
 },
 "nbformat": 4,
 "nbformat_minor": 4
}
