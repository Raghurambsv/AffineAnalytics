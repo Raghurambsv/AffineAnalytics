{
 "cells": [
  {
   "cell_type": "markdown",
   "metadata": {},
   "source": [
    "# Outline\n",
    "\n",
    "[1. Establishing Goals](#1.-Establishing-Goals)\n",
    "\n",
    "[2. Introduction to Dataset](#2.-Introduction-to-Dataset)\n",
    "\n",
    "[3. Exploratory Data Analysis](#3.-Exploratory-Data-Analysis)\n",
    "\n",
    "[4. Limit Data to Scope](#4.-Limit-Data-to-Scope)\n",
    "\n",
    "[5. Supervised Feature Generation](#5.-Supervised-Feature-Generation)\n",
    "    \n",
    "- [5.1 Common Bag of Words](#5.1-Common-Bag-of-Words)\n",
    "- [5.2 Turn Common Words into Features](#5.2-Turn-Common-Words-into-Features)\n",
    "- [5.3 Clustering on BOW](#5.3.-Clustering-on-BOW)\n",
    "- [5.4 Classification on BOW](#5.4.-Classification-on-BOW)\n",
    "\n",
    "[6. Unsupervised Feature Generation](#6.-Unsupervised-Feature-Generation)\n",
    "\n",
    "- [6.1 Latent Semantic Analysis](#6.1.-Latent-Semantic-Analysis)\n",
    "- [6.2 Clustering on LSA (BOW Content)](#6.2.-Clustering-on-LSA-(BOW-Content))\n",
    "- [6.3 Classification on LSA (BOW Content)](#6.3.-Classification-on-LSA-(BOW-Content))\n",
    "- [6.4 Clustering on LSA (All Content)](#6.4.-Clustering-on-LSA-(All-Content))\n",
    "- [6.5 Classification on LSA (All Content)](#6.5.-Classification-on-LSA-(All-Content))\n",
    "\n",
    "[7. Choosing Model](#7.-Choosing-Model)\n",
    "\n",
    "- [7.1 Comparing Scores](#7.1.-Comparing-Scores)\n",
    "- [7.2 Sorting by Test Accuracy](#7.2.-Sorting-by-Test_Accuracy)\n",
    "- [7.3 Winner](#7.3.-Winner)"
   ]
  },
  {
   "cell_type": "markdown",
   "metadata": {},
   "source": [
    "# 1. Establishing Goals\n",
    "\n",
    "In this project I'll attempt to build models to correctly predict the author of a given article. The scope will be limited to 10 authors. The techniques I'll compare will include `Bag-of-Words` VS `Latent Semantic Analysis` for feature-generation, and `Clustering` VS `Supervised Learning` for classification. I'll also experiment with different sample sizes, as feature-generation can be very sensitive to high dimensionality.\n",
    "\n",
    "# 2. Introduction to DataSet\n",
    "\n",
    "**From:** https://www.kaggle.com/snapcrack/all-the-news\n",
    "\n",
    "This dataset contains news articles scraped from various publications, labeled by publication and author name, as well as date and title.\n",
    "\n",
    "The original source on `kaggle.com` contains three `.csv` files. Accross the three, there are over 140,000 articles from a total of 15 publications. \n",
    "\n",
    "The dataset used here is only the first of those three files, which contains about a third of all the data at roughly `280MB`. This is more than enough data for the goals of this project."
   ]
  },
  {
   "cell_type": "markdown",
   "metadata": {},
   "source": [
    "# 3. Exploratory Data Analysis\n",
    "\n",
    "Let's get a quick overview of the data available."
   ]
  },
  {
   "cell_type": "code",
   "execution_count": 1,
   "metadata": {},
   "outputs": [],
   "source": [
    "# General-purpose Libraries\n",
    "import numpy as np\n",
    "import pandas as pd\n",
    "import scipy\n",
    "import sklearn\n",
    "import spacy\n",
    "import matplotlib.pyplot as plt\n",
    "import seaborn as sns\n",
    "import re\n",
    "from collections import Counter\n",
    "import spacy\n",
    "from time import time\n",
    "%matplotlib inline\n",
    "\n",
    "# Tools for processing data\n",
    "from sklearn.pipeline import make_pipeline\n",
    "from sklearn.preprocessing import Normalizer\n",
    "from sklearn.decomposition import TruncatedSVD, PCA\n",
    "from sklearn.model_selection import cross_val_score, train_test_split, GridSearchCV\n",
    "from sklearn.metrics import accuracy_score, recall_score, classification_report, confusion_matrix, make_scorer, adjusted_rand_score, silhouette_score, homogeneity_score, normalized_mutual_info_score\n",
    "# Classifiers, supervised and unsupervised\n",
    "from sklearn import ensemble\n",
    "from sklearn.linear_model import LogisticRegression\n",
    "from sklearn.svm import SVC\n",
    "from sklearn.feature_extraction.text import TfidfVectorizer\n",
    "from sklearn.cluster import KMeans\n",
    "from sklearn.cluster import MeanShift, estimate_bandwidth\n",
    "from sklearn.cluster import SpectralClustering\n",
    "from sklearn.cluster import AffinityPropagation\n",
    "\n",
    "import warnings\n",
    "warnings.filterwarnings(\"ignore\")"
   ]
  },
  {
   "cell_type": "code",
   "execution_count": 2,
   "metadata": {},
   "outputs": [],
   "source": [
    "# Read data into a DataFrame\n",
    "data = pd.read_csv('articles2.csv')"
   ]
  },
  {
   "cell_type": "code",
   "execution_count": 3,
   "metadata": {},
   "outputs": [
    {
     "data": {
      "text/html": [
       "<div>\n",
       "<style scoped>\n",
       "    .dataframe tbody tr th:only-of-type {\n",
       "        vertical-align: middle;\n",
       "    }\n",
       "\n",
       "    .dataframe tbody tr th {\n",
       "        vertical-align: top;\n",
       "    }\n",
       "\n",
       "    .dataframe thead th {\n",
       "        text-align: right;\n",
       "    }\n",
       "</style>\n",
       "<table border=\"1\" class=\"dataframe\">\n",
       "  <thead>\n",
       "    <tr style=\"text-align: right;\">\n",
       "      <th></th>\n",
       "      <th>Unnamed: 0</th>\n",
       "      <th>id</th>\n",
       "      <th>title</th>\n",
       "      <th>publication</th>\n",
       "      <th>author</th>\n",
       "      <th>date</th>\n",
       "      <th>year</th>\n",
       "      <th>month</th>\n",
       "      <th>url</th>\n",
       "      <th>content</th>\n",
       "    </tr>\n",
       "  </thead>\n",
       "  <tbody>\n",
       "    <tr>\n",
       "      <th>0</th>\n",
       "      <td>53293</td>\n",
       "      <td>73471</td>\n",
       "      <td>Patriots Day Is Best When It Digs Past the Her...</td>\n",
       "      <td>Atlantic</td>\n",
       "      <td>David Sims</td>\n",
       "      <td>2017-01-11</td>\n",
       "      <td>2017.0</td>\n",
       "      <td>1.0</td>\n",
       "      <td>NaN</td>\n",
       "      <td>Patriots Day, Peter Berg’s new thriller that r...</td>\n",
       "    </tr>\n",
       "    <tr>\n",
       "      <th>1</th>\n",
       "      <td>53294</td>\n",
       "      <td>73472</td>\n",
       "      <td>A Break in the Search for the Origin of Comple...</td>\n",
       "      <td>Atlantic</td>\n",
       "      <td>Ed Yong</td>\n",
       "      <td>2017-01-11</td>\n",
       "      <td>2017.0</td>\n",
       "      <td>1.0</td>\n",
       "      <td>NaN</td>\n",
       "      <td>In Norse mythology, humans and our world were ...</td>\n",
       "    </tr>\n",
       "    <tr>\n",
       "      <th>2</th>\n",
       "      <td>53295</td>\n",
       "      <td>73474</td>\n",
       "      <td>Obama’s Ingenious Mention of Atticus Finch</td>\n",
       "      <td>Atlantic</td>\n",
       "      <td>Spencer Kornhaber</td>\n",
       "      <td>2017-01-11</td>\n",
       "      <td>2017.0</td>\n",
       "      <td>1.0</td>\n",
       "      <td>NaN</td>\n",
       "      <td>“If our democracy is to work in this increasin...</td>\n",
       "    </tr>\n",
       "  </tbody>\n",
       "</table>\n",
       "</div>"
      ],
      "text/plain": [
       "   Unnamed: 0     id                                              title  \\\n",
       "0       53293  73471  Patriots Day Is Best When It Digs Past the Her...   \n",
       "1       53294  73472  A Break in the Search for the Origin of Comple...   \n",
       "2       53295  73474         Obama’s Ingenious Mention of Atticus Finch   \n",
       "\n",
       "  publication             author        date    year  month  url  \\\n",
       "0    Atlantic         David Sims  2017-01-11  2017.0    1.0  NaN   \n",
       "1    Atlantic            Ed Yong  2017-01-11  2017.0    1.0  NaN   \n",
       "2    Atlantic  Spencer Kornhaber  2017-01-11  2017.0    1.0  NaN   \n",
       "\n",
       "                                             content  \n",
       "0  Patriots Day, Peter Berg’s new thriller that r...  \n",
       "1  In Norse mythology, humans and our world were ...  \n",
       "2  “If our democracy is to work in this increasin...  "
      ]
     },
     "execution_count": 3,
     "metadata": {},
     "output_type": "execute_result"
    }
   ],
   "source": [
    "# Preview the data\n",
    "data.head(3)\n",
    "\n"
   ]
  },
  {
   "cell_type": "markdown",
   "metadata": {},
   "source": [
    "**Checking for Missing Data**\n",
    "\n",
    "- The content feature is complete. That's the most important thing. Some author names are missing. We'll make sure to choose 10 properly labeled."
   ]
  },
  {
   "cell_type": "code",
   "execution_count": 4,
   "metadata": {},
   "outputs": [
    {
     "name": "stdout",
     "output_type": "stream",
     "text": [
      "<class 'pandas.core.frame.DataFrame'>\n",
      "RangeIndex: 49999 entries, 0 to 49998\n",
      "Data columns (total 10 columns):\n",
      " #   Column       Non-Null Count  Dtype  \n",
      "---  ------       --------------  -----  \n",
      " 0   Unnamed: 0   49999 non-null  int64  \n",
      " 1   id           49999 non-null  int64  \n",
      " 2   title        49998 non-null  object \n",
      " 3   publication  49999 non-null  object \n",
      " 4   author       41401 non-null  object \n",
      " 5   date         47373 non-null  object \n",
      " 6   year         47373 non-null  float64\n",
      " 7   month        47373 non-null  float64\n",
      " 8   url          42988 non-null  object \n",
      " 9   content      49999 non-null  object \n",
      "dtypes: float64(2), int64(2), object(6)\n",
      "memory usage: 3.8+ MB\n"
     ]
    }
   ],
   "source": [
    "data.info()"
   ]
  },
  {
   "cell_type": "markdown",
   "metadata": {},
   "source": [
    "**Length of Articles**\n",
    "- In terms of number of characters, the average article has less than 4,000 letters."
   ]
  },
  {
   "cell_type": "code",
   "execution_count": 5,
   "metadata": {},
   "outputs": [
    {
     "name": "stdout",
     "output_type": "stream",
     "text": [
      "Statistical Summary of Article Lengths\n",
      "count     49999.000000\n",
      "mean       4216.535491\n",
      "std        5103.596233\n",
      "min           2.000000\n",
      "25%        1725.000000\n",
      "50%        3199.000000\n",
      "75%        5074.000000\n",
      "max      164658.000000\n",
      "dtype: float64\n"
     ]
    },
    {
     "data": {
      "image/png": "[encoded data removed]",
      "text/plain": [
       "<Figure size 432x288 with 1 Axes>"
      ]
     },
     "metadata": {
      "needs_background": "light"
     },
     "output_type": "display_data"
    },
    {
     "data": {
      "image/png": "[encoded data removed]",
      "text/plain": [
       "<Figure size 432x288 with 1 Axes>"
      ]
     },
     "metadata": {
      "needs_background": "light"
     },
     "output_type": "display_data"
    }
   ],
   "source": [
    "lengths = pd.Series([len(x) for x in data.content])\n",
    "print('Statistical Summary of Article Lengths')\n",
    "print(lengths.describe())\n",
    "\n",
    "sns.distplot(lengths,kde=False)\n",
    "plt.title('Distribution of Article Lengths (All)')\n",
    "plt.show()\n",
    "sns.distplot(lengths[lengths<10000],kde=False)\n",
    "plt.title('Distribution of Articles Lengths < 10,000 Characters')\n",
    "plt.show()"
   ]
  },
  {
   "cell_type": "markdown",
   "metadata": {},
   "source": [
    "# 4. Limit Data to Scope\n",
    "[Back to Outline](#Outline)\n",
    "\n",
    "Here I'll pick the 10 authors whose names I'll predict based on their content. This selection will remain the same for all the methods I'll compare.\n",
    "\n",
    "Since we only need 10 authors, I'll get the first 10 authors whose article-count is greater than X. 100 articles per author is a good number because more would take terribly long when fit to classifiers after `TF-IDF`. At the same time, `Bag-of-Words` is the slowest. However, for that I'll limit to 50 of these articles per author."
   ]
  },
  {
   "cell_type": "code",
   "execution_count": 6,
   "metadata": {
    "scrolled": true
   },
   "outputs": [
    {
     "name": "stdout",
     "output_type": "stream",
     "text": [
      "Lois Weiss             110\n",
      "Todd Starnes           110\n",
      "Emily Saul             109\n",
      "Chris Geidner          109\n",
      "Bourree Lam            106\n",
      "James Fallows          106\n",
      "Jaclyn Hendricks       105\n",
      "Alexandra DeSanctis    105\n",
      "Jamie Schram           104\n",
      "Carleton English       103\n",
      "Name: author, dtype: int64\n"
     ]
    }
   ],
   "source": [
    "# First ten authors with more than X articles\n",
    "print(data.author.value_counts()[data.author.value_counts()>100][-10:])"
   ]
  },
  {
   "cell_type": "code",
   "execution_count": 7,
   "metadata": {},
   "outputs": [
    {
     "data": {
      "text/html": [
       "<div>\n",
       "<style scoped>\n",
       "    .dataframe tbody tr th:only-of-type {\n",
       "        vertical-align: middle;\n",
       "    }\n",
       "\n",
       "    .dataframe tbody tr th {\n",
       "        vertical-align: top;\n",
       "    }\n",
       "\n",
       "    .dataframe thead th {\n",
       "        text-align: right;\n",
       "    }\n",
       "</style>\n",
       "<table border=\"1\" class=\"dataframe\">\n",
       "  <thead>\n",
       "    <tr style=\"text-align: right;\">\n",
       "      <th></th>\n",
       "      <th>title</th>\n",
       "      <th>content</th>\n",
       "      <th>author</th>\n",
       "    </tr>\n",
       "  </thead>\n",
       "  <tbody>\n",
       "    <tr>\n",
       "      <th>0</th>\n",
       "      <td>Here are the top real estate deals of 2016</td>\n",
       "      <td>Excitement has not been lacking in an industry...</td>\n",
       "      <td>Lois Weiss</td>\n",
       "    </tr>\n",
       "    <tr>\n",
       "      <th>1</th>\n",
       "      <td>Celebs losing beloved Plaza Hotel spa</td>\n",
       "      <td>The Plaza Hotel is losing its   spa. The Plaza...</td>\n",
       "      <td>Lois Weiss</td>\n",
       "    </tr>\n",
       "    <tr>\n",
       "      <th>2</th>\n",
       "      <td>Brookfield Place is becoming a mecca for men’s...</td>\n",
       "      <td>Downtown’s Brookfield Place, also owned by Bro...</td>\n",
       "      <td>Lois Weiss</td>\n",
       "    </tr>\n",
       "    <tr>\n",
       "      <th>3</th>\n",
       "      <td>Two new retailers setting up shop in Williamsburg</td>\n",
       "      <td>Two retailers are opening stores on Williamsbu...</td>\n",
       "      <td>Lois Weiss</td>\n",
       "    </tr>\n",
       "    <tr>\n",
       "      <th>4</th>\n",
       "      <td>245 Park Ave. poised to sell for over $2B</td>\n",
       "      <td>The first trophy office building of the year h...</td>\n",
       "      <td>Lois Weiss</td>\n",
       "    </tr>\n",
       "  </tbody>\n",
       "</table>\n",
       "</div>"
      ],
      "text/plain": [
       "                                               title  \\\n",
       "0         Here are the top real estate deals of 2016   \n",
       "1              Celebs losing beloved Plaza Hotel spa   \n",
       "2  Brookfield Place is becoming a mecca for men’s...   \n",
       "3  Two new retailers setting up shop in Williamsburg   \n",
       "4          245 Park Ave. poised to sell for over $2B   \n",
       "\n",
       "                                             content      author  \n",
       "0  Excitement has not been lacking in an industry...  Lois Weiss  \n",
       "1  The Plaza Hotel is losing its   spa. The Plaza...  Lois Weiss  \n",
       "2  Downtown’s Brookfield Place, also owned by Bro...  Lois Weiss  \n",
       "3  Two retailers are opening stores on Williamsbu...  Lois Weiss  \n",
       "4  The first trophy office building of the year h...  Lois Weiss  "
      ]
     },
     "execution_count": 7,
     "metadata": {},
     "output_type": "execute_result"
    }
   ],
   "source": [
    "# Make a DataFrame with articles by our chosen authors\n",
    "# Include author names and article titles.\n",
    "\n",
    "# Make a list of the 10 chosen author names\n",
    "names = data.author.value_counts()[data.author.value_counts()>100][-10:].index.tolist()\n",
    "\n",
    "# DataFrame for articles of all chosen authors\n",
    "authors_data = pd.DataFrame()\n",
    "for name in names:\n",
    "    # Select each author's data\n",
    "    articles = data[data.author==name][:100][['title','content','author']]\n",
    "    # Append it to the DataFrame\n",
    "    authors_data = authors_data.append(articles)\n",
    "\n",
    "authors_data = authors_data.reset_index().drop('index',1)\n",
    "    \n",
    "authors_data.head()"
   ]
  },
  {
   "cell_type": "code",
   "execution_count": 8,
   "metadata": {},
   "outputs": [
    {
     "name": "stdout",
     "output_type": "stream",
     "text": [
      "Number of articles: 1000\n",
      "Unique articles: 1000\n",
      "Unique authors: 10\n",
      "\n",
      "Articles by author:\n",
      "\n",
      "Jaclyn Hendricks       100\n",
      "Alexandra DeSanctis    100\n",
      "Bourree Lam            100\n",
      "James Fallows          100\n",
      "Jamie Schram           100\n",
      "Todd Starnes           100\n",
      "Lois Weiss             100\n",
      "Chris Geidner          100\n",
      "Emily Saul             100\n",
      "Carleton English       100\n",
      "Name: author, dtype: int64\n"
     ]
    }
   ],
   "source": [
    "# Look for duplicates\n",
    "print('Number of articles:',authors_data.shape[0])\n",
    "print('Unique articles:',len(np.unique(authors_data.index)))\n",
    "\n",
    "# Number of authors\n",
    "print('Unique authors:',len(np.unique(authors_data.author)))\n",
    "print('')\n",
    "print('Articles by author:\\n')\n",
    "\n",
    "# Articles counts by author\n",
    "print(authors_data.author.value_counts())"
   ]
  },
  {
   "cell_type": "markdown",
   "metadata": {},
   "source": [
    "**Look at the Size of Articles Chosen**"
   ]
  },
  {
   "cell_type": "code",
   "execution_count": 9,
   "metadata": {},
   "outputs": [
    {
     "name": "stdout",
     "output_type": "stream",
     "text": [
      "Statistical Summary of Article Lengths\n",
      "count     1000.000000\n",
      "mean      6563.094000\n",
      "std      12433.722696\n",
      "min        107.000000\n",
      "25%       1576.000000\n",
      "50%       2659.000000\n",
      "75%       4437.500000\n",
      "max      87479.000000\n",
      "dtype: float64\n"
     ]
    },
    {
     "data": {
      "image/png": "[encoded data removed]",
      "text/plain": [
       "<Figure size 432x288 with 1 Axes>"
      ]
     },
     "metadata": {
      "needs_background": "light"
     },
     "output_type": "display_data"
    },
    {
     "data": {
      "image/png": "[encoded data removed]",
      "text/plain": [
       "<Figure size 432x288 with 1 Axes>"
      ]
     },
     "metadata": {
      "needs_background": "light"
     },
     "output_type": "display_data"
    }
   ],
   "source": [
    "lengths = pd.Series([len(x) for x in authors_data.content])\n",
    "print('Statistical Summary of Article Lengths')\n",
    "print(lengths.describe())\n",
    "\n",
    "sns.distplot(lengths,kde=False)\n",
    "plt.title('Distribution of Article Lengths (All)')\n",
    "plt.show()\n",
    "sns.distplot(lengths[lengths<10000],kde=False)\n",
    "plt.title('Distribution of Articles Lengths < 10,000 Characters')\n",
    "plt.show()"
   ]
  },
  {
   "cell_type": "markdown",
   "metadata": {},
   "source": [
    "# 5. Supervised Feature Generation\n",
    "[Back to Outline](#Outline)\n",
    "\n",
    "Bag of words is a list of the most common words of a given source of text. To identify each author, I'll create a bag of words containing the most-common words of all authors combined. This set later becomes the basis for feature engineering.\n",
    "\n",
    "## 5.1 Common Bag of Words\n",
    "- Here I'll extract the most-common 1000 words from each author's corpus, store them in a list, and then eliminate duplicates."
   ]
  },
  {
   "cell_type": "code",
   "execution_count": 10,
   "metadata": {},
   "outputs": [
    {
     "ename": "ValueError",
     "evalue": "[E088] Text of length 3745117 exceeds maximum of 1000000. The v2.x parser and NER models require roughly 1GB of temporary memory per 100,000 characters in the input. This means long texts may cause memory allocation errors. If you're not using the parser or NER, it's probably safe to increase the `nlp.max_length` limit. The limit is in number of characters, so you can check whether your inputs are too long by checking `len(text)`.",
     "output_type": "error",
     "traceback": [
      "\u001b[1;31m---------------------------------------------------------------------------\u001b[0m",
      "\u001b[1;31mValueError\u001b[0m                                Traceback (most recent call last)",
      "\u001b[1;32m<ipython-input-10-68092bfecbfe>\u001b[0m in \u001b[0;36m<module>\u001b[1;34m\u001b[0m\n\u001b[0;32m     21\u001b[0m         \u001b[0mcorpus\u001b[0m \u001b[1;33m=\u001b[0m \u001b[0mcorpus\u001b[0m \u001b[1;33m+\u001b[0m \u001b[0marticle\u001b[0m\u001b[1;33m\u001b[0m\u001b[1;33m\u001b[0m\u001b[0m\n\u001b[0;32m     22\u001b[0m     \u001b[1;31m# Let Spacy parse the author's body of text\u001b[0m\u001b[1;33m\u001b[0m\u001b[1;33m\u001b[0m\u001b[1;33m\u001b[0m\u001b[0m\n\u001b[1;32m---> 23\u001b[1;33m     \u001b[0mdoc\u001b[0m \u001b[1;33m=\u001b[0m \u001b[0mnlp\u001b[0m\u001b[1;33m(\u001b[0m\u001b[0mcorpus\u001b[0m\u001b[1;33m)\u001b[0m\u001b[1;33m\u001b[0m\u001b[1;33m\u001b[0m\u001b[0m\n\u001b[0m\u001b[0;32m     24\u001b[0m \u001b[1;33m\u001b[0m\u001b[0m\n\u001b[0;32m     25\u001b[0m     \u001b[1;31m# Store the doc in the dictionary\u001b[0m\u001b[1;33m\u001b[0m\u001b[1;33m\u001b[0m\u001b[1;33m\u001b[0m\u001b[0m\n",
      "\u001b[1;32m~\\Anaconda3\\lib\\site-packages\\spacy\\language.py\u001b[0m in \u001b[0;36m__call__\u001b[1;34m(self, text, disable, component_cfg)\u001b[0m\n\u001b[0;32m    427\u001b[0m         \u001b[1;32mif\u001b[0m \u001b[0mlen\u001b[0m\u001b[1;33m(\u001b[0m\u001b[0mtext\u001b[0m\u001b[1;33m)\u001b[0m \u001b[1;33m>\u001b[0m \u001b[0mself\u001b[0m\u001b[1;33m.\u001b[0m\u001b[0mmax_length\u001b[0m\u001b[1;33m:\u001b[0m\u001b[1;33m\u001b[0m\u001b[1;33m\u001b[0m\u001b[0m\n\u001b[0;32m    428\u001b[0m             raise ValueError(\n\u001b[1;32m--> 429\u001b[1;33m                 \u001b[0mErrors\u001b[0m\u001b[1;33m.\u001b[0m\u001b[0mE088\u001b[0m\u001b[1;33m.\u001b[0m\u001b[0mformat\u001b[0m\u001b[1;33m(\u001b[0m\u001b[0mlength\u001b[0m\u001b[1;33m=\u001b[0m\u001b[0mlen\u001b[0m\u001b[1;33m(\u001b[0m\u001b[0mtext\u001b[0m\u001b[1;33m)\u001b[0m\u001b[1;33m,\u001b[0m \u001b[0mmax_length\u001b[0m\u001b[1;33m=\u001b[0m\u001b[0mself\u001b[0m\u001b[1;33m.\u001b[0m\u001b[0mmax_length\u001b[0m\u001b[1;33m)\u001b[0m\u001b[1;33m\u001b[0m\u001b[1;33m\u001b[0m\u001b[0m\n\u001b[0m\u001b[0;32m    430\u001b[0m             )\n\u001b[0;32m    431\u001b[0m         \u001b[0mdoc\u001b[0m \u001b[1;33m=\u001b[0m \u001b[0mself\u001b[0m\u001b[1;33m.\u001b[0m\u001b[0mmake_doc\u001b[0m\u001b[1;33m(\u001b[0m\u001b[0mtext\u001b[0m\u001b[1;33m)\u001b[0m\u001b[1;33m\u001b[0m\u001b[1;33m\u001b[0m\u001b[0m\n",
      "\u001b[1;31mValueError\u001b[0m: [E088] Text of length 3745117 exceeds maximum of 1000000. The v2.x parser and NER models require roughly 1GB of temporary memory per 100,000 characters in the input. This means long texts may cause memory allocation errors. If you're not using the parser or NER, it's probably safe to increase the `nlp.max_length` limit. The limit is in number of characters, so you can check whether your inputs are too long by checking `len(text)`."
     ]
    }
   ],
   "source": [
    "t0 = time()\n",
    "\n",
    "# Load spacy NLP object\n",
    "import spacy\n",
    "nlp=spacy.load('en_core_web_sm')\n",
    "\n",
    "# A list to store common words by all authors\n",
    "common_words = []\n",
    "\n",
    "# A dictionary to store the spacy_doc object of each author\n",
    "authors_docs = {}\n",
    "\n",
    "for name in names:\n",
    "    # Corpus is all the text written by that author\n",
    "    corpus = \"\"\n",
    "    # Grab all rows of current author, along the 'content' column\n",
    "    author_content = authors_data.loc[authors_data.author==name,'content']\n",
    "    \n",
    "    # Merge all articles in to the author's corpus\n",
    "    for article in author_content:\n",
    "        corpus = corpus + article\n",
    "    # Let Spacy parse the author's body of text\n",
    "    doc = nlp(corpus)\n",
    "    \n",
    "    # Store the doc in the dictionary\n",
    "    authors_docs[name] = doc\n",
    "        \n",
    "    # Filter out punctuation and stop words.\n",
    "    lemmas = [token.lemma_ for token in doc\n",
    "                if not token.is_punct and not token.is_stop]\n",
    "        \n",
    "    # Return the most common words of that author's corpus.\n",
    "    bow = [item[0] for item in Counter(lemmas).most_common(1000)]\n",
    "    \n",
    "    # Add them to the list of words by all authors.\n",
    "    for word in bow:\n",
    "        common_words.append(word)\n",
    "\n",
    "# Eliminate duplicates\n",
    "common_words = set(common_words)\n",
    "    \n",
    "print('Total number of common words:',len(common_words))\n",
    "print(\"done in %0.3fs\" % (time() - t0))"
   ]
  },
  {
   "cell_type": "markdown",
   "metadata": {},
   "source": [
    "- From a theorical total of 10,000 common-words, (1,000 from 10 authors) 3,405 were unique. So roughly a third of all words used by each author is actually part of their unique style."
   ]
  },
  {
   "cell_type": "code",
   "execution_count": null,
   "metadata": {},
   "outputs": [],
   "source": [
    "# Let's see our 10 authors in the dictionary\n",
    "lengths = []\n",
    "for k,v in authors_docs.items():\n",
    "    print(k,'corpus contains',len(v),' words.')\n",
    "    lengths.append(len(v))"
   ]
  },
  {
   "cell_type": "code",
   "execution_count": null,
   "metadata": {},
   "outputs": [],
   "source": [
    "sns.barplot(x=lengths,y=names,orient='h')\n",
    "plt.title('Word Count per Author in Chosen Data')\n",
    "plt.show()"
   ]
  },
  {
   "cell_type": "markdown",
   "metadata": {},
   "source": [
    "## 5.2 Turn Common Words into Features\n",
    "\n",
    "**Approach**\n",
    "\n",
    "Due to the curse of dimensionality, doing this step with all our 1,000 articles would take prohibitively long. (10 authors * 100 articles/ea = 1,000 articles)  At 30 seconds per article, my personal machine would need 8.5 hours of processing. Therefore I'll limit this part to 50 articles per author. This should still convey enough information for a decent predictive model.\n",
    "\n",
    "**About 'Common Bag of Words'**\n",
    "\n",
    "This technique consists of creating a feature out of each common word and then counting the number of times each common word appears in each article. Each cell will represent the number of times the lemma of the given column appears in the article of the current row. We have over 3,000 common words, and will be using 500 articles total. (50 per author) Plus each article may have a varying number of words in it. That's a lot of text to compare and count."
   ]
  },
  {
   "cell_type": "code",
   "execution_count": null,
   "metadata": {},
   "outputs": [],
   "source": [
    "# check for lower case words\n",
    "common_words = pd.Series(pd.DataFrame(columns=common_words).columns)\n",
    "print('Count of all common_words:',len(common_words))\n",
    "print('Count of lowercase common_words:',np.sum([word.islower() for word in common_words]))\n",
    "\n",
    "# Turn all common_words into lower case\n",
    "common_words = [word.lower() for word in common_words]\n",
    "print('Count of lowercase common_words (After Conversion):',np.sum([word.islower() for word in common_words]))"
   ]
  },
  {
   "cell_type": "markdown",
   "metadata": {},
   "source": [
    "- Notice that after converting to lowercase the total number of lowercase words still isn't the same as the total. This means there are around 100 non alphabetic words inside our bag. This is probably made up of numbers and words with punctuations within.\n",
    "\n"
   ]
  },
  {
   "cell_type": "code",
   "execution_count": null,
   "metadata": {},
   "outputs": [],
   "source": [
    "# We must remove these in to avoid conflicts with existing features.\n",
    "if 'author' in common_words:\n",
    "    common_words.remove('author')\n",
    "if 'title' in common_words:\n",
    "    common_words.remove('title')\n",
    "if 'content' in common_words:\n",
    "    common_words.remove('content')"
   ]
  },
  {
   "cell_type": "code",
   "execution_count": null,
   "metadata": {},
   "outputs": [],
   "source": [
    "# Count the number of times a common_word appears in each article\n",
    "# (about 3Hrs processing)\n",
    "\n",
    "bow_counts = pd.DataFrame()\n",
    "for name in names:\n",
    "    # Select X articles of that author\n",
    "    articles = authors_data.loc[authors_data.author==name,:][:50]\n",
    "    bow_counts = bow_counts.append(articles)\n",
    "bow_counts = bow_counts.reset_index().drop('index',1)\n",
    "\n",
    "# Use common_words as the columns of a temporary DataFrame\n",
    "df = pd.DataFrame(columns=common_words)\n",
    "\n",
    "# Join BOW features with the author's content\n",
    "bow_counts = bow_counts.join(df)\n",
    "\n",
    "# Initialize rows with zeroes\n",
    "bow_counts.loc[:,common_words] = 0\n",
    "\n",
    "# Fill the DataFrame with counts of each feature in each article\n",
    "t0 = time()\n",
    "for i, article in enumerate(bow_counts.content):\n",
    "    doc = nlp(article)\n",
    "    for token in doc:\n",
    "        if token.lemma_.lower() in common_words:\n",
    "            bow_counts.loc[i,token.lemma_.lower()] += 1\n",
    "    # Print a message every X articles\n",
    "    if i % 50 == 0:\n",
    "        if time()-t0 < 3600: # if less than an hour in seconds\n",
    "            print(\"Article \",i,\" done after \",(time()-t0)/60,' minutes.')\n",
    "        else:\n",
    "            print(\"Article \",i,\" done after \",(time()-t0)/60/60,' hours.')"
   ]
  },
  {
   "cell_type": "markdown",
   "metadata": {},
   "source": [
    "- This is the data that we can use to train clusters and classifiers. Each entry is an article, each column is a common word, and each cell is a count of the current common word in the current article."
   ]
  },
  {
   "cell_type": "code",
   "execution_count": null,
   "metadata": {},
   "outputs": [],
   "source": [
    "bow_counts.head(3)"
   ]
  },
  {
   "cell_type": "markdown",
   "metadata": {},
   "source": [
    "**Optional:**\n",
    "\n",
    "- Store contents of `bow_counts`"
   ]
  },
  {
   "cell_type": "code",
   "execution_count": null,
   "metadata": {},
   "outputs": [],
   "source": [
    "# This saves the long-awaited data into a pickle file for easy recovery\n",
    "#bow_counts.to_pickle('bow_counts')\n",
    "\n",
    "# Read it back in with the following\n",
    "#bow_counts = pd.read_pickle('bow_counts')"
   ]
  },
  {
   "cell_type": "code",
   "execution_count": null,
   "metadata": {
    "scrolled": true
   },
   "outputs": [],
   "source": [
    "# Make sure we have 50 articles per author\n",
    "bow_counts.author.value_counts()"
   ]
  },
  {
   "cell_type": "markdown",
   "metadata": {},
   "source": [
    "## 5.3. Clustering on BOW\n",
    "\n",
    "[Back to Outline](#Outline)\n",
    "\n",
    "- Before classifying, I'll start with clustering. Here I'll create clusters out of the BOW data and see if those clusters resemble the actual author's content. Clusters have no labels, but similar content tends to fall into the same clusters. Therefore in an ideal clustering solution, each author's articles would all fall into a single cluster."
   ]
  },
  {
   "cell_type": "code",
   "execution_count": null,
   "metadata": {},
   "outputs": [],
   "source": [
    "# Establish outcome and predictors\n",
    "y = bow_counts['author']\n",
    "X = bow_counts.drop(['content','author','title'], 1)\n",
    "\n",
    "X_train, X_test, y_train, y_test = train_test_split(X, y,\n",
    "                                                    test_size=0.24,\n",
    "                                                    random_state=0,\n",
    "                                                    stratify=y)"
   ]
  },
  {
   "cell_type": "code",
   "execution_count": null,
   "metadata": {},
   "outputs": [],
   "source": [
    "# Make sure classes are balanced after train-test-split\n",
    "y_test.value_counts()"
   ]
  },
  {
   "cell_type": "markdown",
   "metadata": {},
   "source": [
    "**DataFrame to Store our Results**\n",
    "\n",
    "This `DataFrame` will hold results from all algorithms implemented ahead. For clustering algorithms, the train/test and cross_val columns will be left blank because clustering requires no train/test split. On the other hand, classifiers will inded store their own `ARI, Homogeneity, Silhouette, and Mutual_Info` scores. `Features` will represent the method for feature-engineering, whether BOW or LSA. And the `n_train` column will represent the number of samples in the train size."
   ]
  },
  {
   "cell_type": "code",
   "execution_count": null,
   "metadata": {},
   "outputs": [],
   "source": [
    "# Store our results in a DataFrame\n",
    "metrics = ['Algorithm','n_train','Features','ARI','Homogeneity',\n",
    "           'Silhouette','Mutual_Info','Cross_Val','Train_Accuracy',\n",
    "           'Test_Accuracy']\n",
    "performance = pd.DataFrame(columns=metrics)"
   ]
  },
  {
   "cell_type": "markdown",
   "metadata": {},
   "source": [
    "**Approach to Clustering**\n",
    "\n",
    "In cluster analysis, there usually is no training or test data split. Because you do cluster analysis when you do not have labels, so you cannot \"train\".Training is a concept from machine learning, and train-test splitting is used to avoid overfitting. But if you are not learning labels, you cannot overfit. Properly used cluster analysis is a knowledge discovery method. You want to discover some new structure in your data, not rediscover something that is already labeled."
   ]
  },
  {
   "cell_type": "markdown",
   "metadata": {},
   "source": [
    "### 5.3.1. Unsupervised Parameter Search Function\n",
    "\n",
    "[Back to Outline](#Outline)\n",
    "\n",
    "- This function will find the parameters that produce the highest `Normalized Mutual Infomation` score from our clusters. This score is a good baseline from which to compare clustering VS classification because it correlates with good clutering as well as higher accuracy scores.\n",
    "- It'll print the relevant statistics as well as a contingency matrix of the result and lastly store our results in an external DataFrame."
   ]
  },
  {
   "cell_type": "code",
   "execution_count": null,
   "metadata": {},
   "outputs": [],
   "source": [
    "# Function to quickly evaluate clustering solutions\n",
    "def evaluate_clust(clust,params,features,i):\n",
    "    t0 = time()\n",
    "    print('\\n','-'*40,'\\n',clust.__class__.__name__,'\\n','-'*40)\n",
    "    \n",
    "    # Find best parameters based on scoring of choice\n",
    "    score = make_scorer(normalized_mutual_info_score)\n",
    "    search = GridSearchCV(clust,params,scoring=score,cv=3).fit(X,y)\n",
    "    print(\"Best parameters:\",search.best_params_)\n",
    "    y_pred = search.best_estimator_.fit_predict(X)\n",
    "\n",
    "    ari = adjusted_rand_score(y, y_pred)\n",
    "    performance.loc[i,'ARI'] = ari \n",
    "    print(\"Adjusted Rand-Index: %.3f\" % ari)\n",
    "    \n",
    "    hom = homogeneity_score(y,y_pred)\n",
    "    performance.loc[i,'Homogeneity'] = hom\n",
    "    print(\"Homogeneity Score: %.3f\" % hom)\n",
    "    \n",
    "    sil = silhouette_score(X,y_pred)\n",
    "    performance.loc[i,'Silhouette'] = sil\n",
    "    print(\"Silhouette Score: %.3f\" % sil)\n",
    "    \n",
    "    nmi = normalized_mutual_info_score(y,y_pred)\n",
    "    performance.loc[i,'Mutual_Info'] = nmi\n",
    "    print(\"Normed Mutual-Info Score: %.3f\" % nmi)\n",
    "    \n",
    "    performance.loc[i,'n_train'] = len(X)\n",
    "    performance.loc[i,'Features'] = features\n",
    "    performance.loc[i,'Algorithm'] = clust.__class__.__name__\n",
    "    \n",
    "    # Print contingency matrix\n",
    "    crosstab = pd.crosstab(y, y_pred)\n",
    "    plt.figure(figsize=(8,5))\n",
    "    sns.heatmap(crosstab, annot=True,fmt='d', cmap=plt.cm.copper)\n",
    "    plt.show()\n",
    "    print(time()-t0,\"seconds.\")"
   ]
  },
  {
   "cell_type": "markdown",
   "metadata": {},
   "source": [
    "### 5.3.2. KMeans CBOW\n",
    "\n",
    "[Back to Outline](#Outline)"
   ]
  },
  {
   "cell_type": "code",
   "execution_count": null,
   "metadata": {},
   "outputs": [],
   "source": [
    "clust=KMeans()\n",
    "params={\n",
    "    'n_clusters': np.arange(10,30,5),\n",
    "    'init': ['k-means++','random'],\n",
    "    'n_init':[10,20],\n",
    "    'precompute_distances':[True,False]\n",
    "}\n",
    "evaluate_clust(clust,params,features='BOW',i=0)"
   ]
  },
  {
   "cell_type": "markdown",
   "metadata": {},
   "source": [
    "### 5.3.3. Mean Shift CBOW\n",
    "\n",
    "[Back to Outline](#Outline)"
   ]
  },
  {
   "cell_type": "code",
   "execution_count": null,
   "metadata": {
    "scrolled": false
   },
   "outputs": [],
   "source": [
    "#Declare and fit the model\n",
    "clust = MeanShift()\n",
    "\n",
    "params={}\n",
    "evaluate_clust(clust,params,features='BOW',i=1)"
   ]
  },
  {
   "cell_type": "markdown",
   "metadata": {},
   "source": [
    "- The above is a really bad solution. 30 clusters were created but most of our articles were assigned to the first cluster.\n",
    "\n",
    "### 5.3.4. Affinity Propagation CBOW\n",
    "\n",
    "[Back to Outline](#Outline)"
   ]
  },
  {
   "cell_type": "code",
   "execution_count": null,
   "metadata": {},
   "outputs": [],
   "source": [
    "#Declare and fit the model.\n",
    "clust = AffinityPropagation()\n",
    "\n",
    "params = {\n",
    "    'damping':[.5,.7,.9],\n",
    "    'max_iter':[200,500]\n",
    "}\n",
    "evaluate_clust(clust,params,features='BOW',i=2)"
   ]
  },
  {
   "cell_type": "markdown",
   "metadata": {},
   "source": [
    "- The above solution generated too many clusters to be properly visualized. However, the `Mutual_Info` score is quite decent because datapoints may be falling onto pockets that resemble the true labels.\n",
    "\n",
    "### 5.3.5. Spectral Clustering CBOW\n",
    "\n",
    "[Back to Outline](#Outline)\n",
    "\n",
    "- SpectralClustering can't be used with GridSearchCV because it lacks a .fit method. Therefore I won't use the function here."
   ]
  },
  {
   "cell_type": "code",
   "execution_count": null,
   "metadata": {},
   "outputs": [],
   "source": [
    "clust= SpectralClustering()\n",
    "\n",
    "params = {\n",
    "    'n_clusters':np.arange(10,26,5),\n",
    "    #'eigen_solver':['arpack','lobpcg',None],\n",
    "    'n_init':[15,25],\n",
    "    'assign_labels':['kmeans','discretize']\n",
    "}\n",
    "\n",
    "features='BOW'\n",
    "\n",
    "i=3\n",
    "\n",
    "t0=time()\n",
    "\n",
    "y_pred = clust.fit_predict(X)\n",
    "\n",
    "ari = adjusted_rand_score(y, y_pred)\n",
    "performance.loc[i,'ARI'] = ari \n",
    "print(\"Adjusted Rand-Index: %.3f\" % ari)\n",
    "\n",
    "hom = homogeneity_score(y,y_pred)\n",
    "performance.loc[i,'Homogeneity'] = hom\n",
    "print(\"Homogeneity Score: %.3f\" % hom)\n",
    "\n",
    "sil = silhouette_score(X,y_pred)\n",
    "performance.loc[i,'Silhouette'] = sil\n",
    "print(\"Silhouette Score: %.3f\" % sil)\n",
    "\n",
    "nmi = normalized_mutual_info_score(y,y_pred)\n",
    "performance.loc[i,'Mutual_Info'] = nmi\n",
    "print(\"Normed Mutual-Info Score: %.3f\" % nmi)\n",
    "\n",
    "performance.loc[i,'n_train'] = len(X)\n",
    "performance.loc[i,'Features'] = features\n",
    "performance.loc[i,'Algorithm'] = clust.__class__.__name__\n",
    "\n",
    "# Print contingency matrix\n",
    "crosstab = pd.crosstab(y, y_pred)\n",
    "plt.figure(figsize=(8,5))\n",
    "sns.heatmap(crosstab, annot=True,fmt='d', cmap=plt.cm.copper)\n",
    "plt.show()\n",
    "print(time()-t0,\"seconds.\")"
   ]
  },
  {
   "cell_type": "code",
   "execution_count": null,
   "metadata": {},
   "outputs": [],
   "source": [
    "performance.iloc[:,:7]"
   ]
  },
  {
   "cell_type": "markdown",
   "metadata": {},
   "source": [
    "- Based on `Mutual_Info`, our highest score came from `AffinityPropagation`. However, the large number of clusters dividing our articles makes the solution a bit impractical.\n",
    "- Fortunately we can perform supervised classification on this dataset because we actually do know who wrote these articles.\n",
    "\n",
    "## 5.4. Classification on BOW\n",
    "\n",
    "[Back to Outline](#Outline)"
   ]
  },
  {
   "cell_type": "markdown",
   "metadata": {},
   "source": [
    "### 5.4.1. Supervised Parameter Search Function\n",
    "\n",
    "- The following function will print cross-validation, train and test accuracy scores in addition to the clustering scores we've been utilizing previously.\n",
    "- The `GridSearchCV` will also find the parameters that produce the highest `Normalized Mutual Information` score.\n",
    "- There is a very clear correlation between the `Mutual_Info` score and the `Test_Accuracy` from our classifiers.\n",
    "- Notice that here the `n_train` will be smaller than in the previous section because here we are actually doing a train/test split, whereas in the previous section we used `fit_predict(X)` on the clustering algorithms."
   ]
  },
  {
   "cell_type": "code",
   "execution_count": null,
   "metadata": {},
   "outputs": [],
   "source": [
    "def score_optimization(clf,params,features,i):\n",
    "    t0 = time()\n",
    "    # Heading\n",
    "    print('\\n','-'*40,'\\n',clf.__class__.__name__,'\\n','-'*40)\n",
    "    \n",
    "    # Find best parameters based on scoring of choice\n",
    "    score = make_scorer(normalized_mutual_info_score)\n",
    "    search = GridSearchCV(clf,params,\n",
    "                          scoring=score,cv=3).fit(X,y)\n",
    "    # Extract best estimator\n",
    "    best = search.best_estimator_\n",
    "    print(\"Best parameters:\",search.best_params_)\n",
    "\n",
    "    # Cross-validate on all the data\n",
    "    cv = cross_val_score(X=X,y=y,estimator=best,cv=5)\n",
    "    print(\"\\nCross-val scores(All Data):\",cv)\n",
    "    print(\"Mean cv score:\",cv.mean())\n",
    "    performance.loc[i,'Cross_Val'] = cv.mean() \n",
    "    \n",
    "    # Get train accuracy\n",
    "    best = best.fit(X_train,y_train)\n",
    "    train = best.score(X=X_train,y=y_train)\n",
    "    performance.loc[i,'Train_Accuracy'] = train \n",
    "    print(\"\\nTrain Accuracy Score:\",train)\n",
    "\n",
    "    # Get test accuracy\n",
    "    test = best.score(X=X_test,y=y_test)\n",
    "    performance.loc[i,'Test_Accuracy'] = test \n",
    "    print(\"\\nTest Accuracy Score:\",test)\n",
    "    \n",
    "    y_pred = best.predict(X_test)\n",
    "    \n",
    "    ari = adjusted_rand_score(y_test, y_pred)\n",
    "    performance.loc[i,'ARI'] = ari \n",
    "    print(\"\\nAdjusted Rand-Index: %.3f\" % ari)\n",
    "    \n",
    "    hom = homogeneity_score(y_test,y_pred)\n",
    "    performance.loc[i,'Homogeneity'] = hom\n",
    "    print(\"Homogeneity Score: %.3f\" % hom)\n",
    "    \n",
    "    sil = silhouette_score(X_test,y_pred)\n",
    "    performance.loc[i,'Silhouette'] = sil\n",
    "    print(\"Silhouette Score: %.3f\" % sil)\n",
    "    \n",
    "    nmi = normalized_mutual_info_score(y_test,y_pred)\n",
    "    performance.loc[i,'Mutual_Info'] = nmi\n",
    "    print(\"Normed Mutual-Info Score: %.3f\" % nmi)\n",
    "\n",
    "    #print(classification_report(y_test, y_pred))\n",
    "\n",
    "    conf_matrix = pd.crosstab(y_test,y_pred)\n",
    "    sns.heatmap(conf_matrix, annot=True, fmt='d', cmap=plt.cm.copper)\n",
    "    plt.show()\n",
    "    \n",
    "    performance.loc[i,'n_train'] = len(X_train)\n",
    "    performance.loc[i,'Features'] = features\n",
    "    performance.loc[i,'Algorithm'] = clf.__class__.__name__\n",
    "    print(time()-t0,'seconds.')"
   ]
  },
  {
   "cell_type": "markdown",
   "metadata": {},
   "source": [
    "### 5.4.2. Logistic Regression CBOW\n",
    "\n",
    "[Back to Outline](#Outline)"
   ]
  },
  {
   "cell_type": "code",
   "execution_count": null,
   "metadata": {},
   "outputs": [],
   "source": [
    "# Parameters to optimize\n",
    "params = [{\n",
    "    'solver': ['newton-cg', 'lbfgs', 'sag'],\n",
    "    'C': [0.3, 0.5, 0.7, 1],\n",
    "    'penalty': ['l2']\n",
    "    },{\n",
    "    'solver': ['liblinear','saga'],\n",
    "    'C': [0.3, 0.5, 0.7, 1],\n",
    "    'penalty': ['l1','l2']\n",
    "}]\n",
    "\n",
    "clf = LogisticRegression(\n",
    "    n_jobs=-1 # Use all CPU\n",
    ")\n",
    "\n",
    "score_optimization(clf=clf,params=params,features='BOW',i=4)"
   ]
  },
  {
   "cell_type": "markdown",
   "metadata": {},
   "source": [
    "- Although the clustering results didn't have a train/test or cross-validation score, here we have a `Mutual_Info` score around twice the highest of our clusters. Above, `Mutual_Info` was very close to `Accuracy`, just two percentage points away. As we get more solutions we'll see the consistency between `Mutual_Info` and `Accuracy` among other classifiers. This will allow us to assess classification and clustering solutions by a fair mutual metric.\n",
    "\n",
    "### 5.4.3. Random Forest CBOW\n",
    "\n",
    "[Back to Outline](#Outline)"
   ]
  },
  {
   "cell_type": "code",
   "execution_count": null,
   "metadata": {},
   "outputs": [],
   "source": [
    "# Parameters to compare\n",
    "params = {\n",
    "    'criterion':['entropy','gini'],\n",
    "}\n",
    "\n",
    "# Implement the classifier\n",
    "clf = ensemble.RandomForestClassifier(\n",
    "    n_estimators=100,\n",
    "    max_features=None,\n",
    "    n_jobs=-1,\n",
    ")\n",
    "\n",
    "score_optimization(clf=clf,params=params,features='BOW',i=5)"
   ]
  },
  {
   "cell_type": "markdown",
   "metadata": {},
   "source": [
    "### 5.4.4. Gradient Boosting CBOW\n",
    "\n",
    "[Back to Outline](#Outline)"
   ]
  },
  {
   "cell_type": "code",
   "execution_count": null,
   "metadata": {},
   "outputs": [],
   "source": [
    "# Parameters to compare\n",
    "params = {\n",
    "    'learning_rate':[0.3,0.5,0.7,1]\n",
    "}\n",
    "\n",
    "# Implement the classifier\n",
    "clf = ensemble.GradientBoostingClassifier(\n",
    "    max_features=None\n",
    ")\n",
    "\n",
    "score_optimization(clf=clf,params=params,features='BOW',i=6)"
   ]
  },
  {
   "cell_type": "markdown",
   "metadata": {},
   "source": [
    "**Results**\n",
    "\n",
    "- Clearly classifiers obtain higher scores than clustering, this is despite being trained with less data.\n",
    "- So far `Accuracy` correlates perfectly with `Mutual_Info`."
   ]
  },
  {
   "cell_type": "code",
   "execution_count": null,
   "metadata": {
    "scrolled": true
   },
   "outputs": [],
   "source": [
    "performance.iloc[:7].sort_values('Mutual_Info',ascending=False)[['Algorithm','n_train','Features','Mutual_Info','Test_Accuracy']]"
   ]
  },
  {
   "cell_type": "markdown",
   "metadata": {},
   "source": [
    "# 6. Unsupervised Feature Generation\n",
    "\n",
    "[Back to Outline](#Outline)\n",
    "\n",
    "\n",
    "## 6.1. Latent Semantic Analysis\n",
    "\n",
    "- Different from Bag-of-Words, Latent Semantic Analysis doesn't identify the most common words present in each article. Instead it identifies thematic components present in the text. Each cell doesn't contain a count, but rather a measure of how well a given feature is exemplified by the current document."
   ]
  },
  {
   "cell_type": "code",
   "execution_count": null,
   "metadata": {},
   "outputs": [],
   "source": [
    "vectorizer = TfidfVectorizer(max_df=0.3, # drop words that occur in more than X percent of documents\n",
    "                             min_df=8, # only use words that appear at least X times\n",
    "                             stop_words='english', \n",
    "                             lowercase=True, #convert everything to lower case \n",
    "                             use_idf=True,#we definitely want to use inverse document frequencies in our weighting\n",
    "                             norm=u'l2', #Applies a correction factor so that longer paragraphs and shorter paragraphs get treated equally\n",
    "                             smooth_idf=True #Adds 1 to all document frequencies, as if an extra document existed that used every word once.  Prevents divide-by-zero errors\n",
    "                            )\n",
    "\n",
    "#Pass pandas series to our vectorizer model\n",
    "counts_tfidf = vectorizer.fit_transform(bow_counts.content)\n",
    "\n"
   ]
  },
  {
   "cell_type": "markdown",
   "metadata": {},
   "source": [
    "- Notice that the content fed into the vectorizer is the same amount of data we used for BOW Counts. (500 articles in total, 50 by each author). We could use all of the 1000 articles, but first let's compare the LSA performance against BOW using the same data.\n",
    "- The vectorizer returns a CSR Matrix which can then be reduced as in PCA."
   ]
  },
  {
   "cell_type": "code",
   "execution_count": null,
   "metadata": {},
   "outputs": [],
   "source": [
    "counts_tfidf"
   ]
  },
  {
   "cell_type": "markdown",
   "metadata": {},
   "source": [
    "- Reducing to 460 features will retain 98% of the explained variance."
   ]
  },
  {
   "cell_type": "code",
   "execution_count": null,
   "metadata": {},
   "outputs": [],
   "source": [
    "svd = TruncatedSVD(460)\n",
    "svd.fit(counts_tfidf)\n",
    "svd.explained_variance_ratio_.sum()"
   ]
  },
  {
   "cell_type": "code",
   "execution_count": null,
   "metadata": {},
   "outputs": [],
   "source": [
    "lsa = make_pipeline(svd, Normalizer(copy=False))\n",
    "lsa_data = lsa.fit_transform(counts_tfidf)\n",
    "lsa_data.shape"
   ]
  },
  {
   "cell_type": "code",
   "execution_count": null,
   "metadata": {},
   "outputs": [],
   "source": [
    "lsa_data = pd.DataFrame(lsa_data)\n",
    "lsa_data.head()"
   ]
  },
  {
   "cell_type": "markdown",
   "metadata": {},
   "source": [
    "## 6.2. Clustering on LSA (BOW Content)\n",
    "\n",
    "- We'll repeat the clustering and classification, now using the LSA features from the same 500 articles we used in BOW Counts.\n",
    "\n",
    "[Back to Outline](#Outline)"
   ]
  },
  {
   "cell_type": "code",
   "execution_count": null,
   "metadata": {},
   "outputs": [],
   "source": [
    "#First, establish X and Y\n",
    "y = bow_counts['author']\n",
    "X = lsa_data\n",
    "\n",
    "X_train, X_test, y_train, y_test = train_test_split(X, \n",
    "                                                    y,\n",
    "                                                    test_size=0.24,\n",
    "                                                    random_state=0,\n",
    "                                                   stratify=y)"
   ]
  },
  {
   "cell_type": "code",
   "execution_count": null,
   "metadata": {},
   "outputs": [],
   "source": [
    "y_test.value_counts()"
   ]
  },
  {
   "cell_type": "markdown",
   "metadata": {},
   "source": [
    "### 6.2.2. KMeans LSA\n",
    "\n",
    "[Back to Outline](#Outline)"
   ]
  },
  {
   "cell_type": "code",
   "execution_count": null,
   "metadata": {},
   "outputs": [],
   "source": [
    "clust=KMeans()\n",
    "params={\n",
    "    'n_clusters': np.arange(10,30,5),\n",
    "    'init': ['k-means++','random'],\n",
    "    'n_init':[10,20],\n",
    "    'precompute_distances':[True,False]\n",
    "}\n",
    "evaluate_clust(clust,params,features='LSA',i=7)"
   ]
  },
  {
   "cell_type": "markdown",
   "metadata": {},
   "source": [
    "### 6.2.3. Mean Shift LSA\n",
    "\n",
    "[Back to Outline](#Outline)"
   ]
  },
  {
   "cell_type": "code",
   "execution_count": null,
   "metadata": {
    "scrolled": false
   },
   "outputs": [],
   "source": [
    "#Declare and fit the model\n",
    "clust = MeanShift()\n",
    "\n",
    "params={\n",
    "    'bandwidth':[0.5,0.7,0.9]\n",
    "}\n",
    "evaluate_clust(clust,params,features='LSA',i=8)"
   ]
  },
  {
   "cell_type": "markdown",
   "metadata": {},
   "source": [
    "### 6.2.4. Affinity Propagation LSA\n",
    "\n",
    "[Back to Outline](#Outline)"
   ]
  },
  {
   "cell_type": "code",
   "execution_count": null,
   "metadata": {},
   "outputs": [],
   "source": [
    "#Declare and fit the model.\n",
    "clust = AffinityPropagation()\n",
    "\n",
    "params = {\n",
    "    'damping':[.5,.7,.9],\n",
    "    'max_iter':[200,500]\n",
    "}\n",
    "evaluate_clust(clust,params,features='LSA',i=9)"
   ]
  },
  {
   "cell_type": "markdown",
   "metadata": {},
   "source": [
    "### 6.2.5. Spectral Clustering LSA\n",
    "\n",
    "[Back to Outline](#Outline)\n",
    "\n",
    "SpectralClustering can't be used with GridSearchCV because it lacks a .fit method. Therefore I won't use the function here."
   ]
  },
  {
   "cell_type": "code",
   "execution_count": null,
   "metadata": {},
   "outputs": [],
   "source": [
    "clust= SpectralClustering()\n",
    "\n",
    "params = {\n",
    "    'n_clusters':np.arange(10,26,5),\n",
    "    #'eigen_solver':['arpack','lobpcg',None],\n",
    "    'n_init':[15,25],\n",
    "    'assign_labels':['kmeans','discretize']\n",
    "}\n",
    "\n",
    "features='LSA'\n",
    "\n",
    "i=10\n",
    "\n",
    "t0=time()\n",
    "\n",
    "y_pred = clust.fit_predict(X)\n",
    "\n",
    "ari = adjusted_rand_score(y, y_pred)\n",
    "performance.loc[i,'ARI'] = ari \n",
    "print(\"Adjusted Rand-Index: %.3f\" % ari)\n",
    "\n",
    "hom = homogeneity_score(y,y_pred)\n",
    "performance.loc[i,'Homogeneity'] = hom\n",
    "print(\"Homogeneity Score: %.3f\" % hom)\n",
    "\n",
    "sil = silhouette_score(X,y_pred)\n",
    "performance.loc[i,'Silhouette'] = sil\n",
    "print(\"Silhouette Score: %.3f\" % sil)\n",
    "\n",
    "nmi = normalized_mutual_info_score(y,y_pred)\n",
    "performance.loc[i,'Mutual_Info'] = nmi\n",
    "print(\"Normed Mutual-Info Score: %.3f\" % nmi)\n",
    "\n",
    "performance.loc[i,'n_train'] = len(X)\n",
    "performance.loc[i,'Features'] = features\n",
    "performance.loc[i,'Algorithm'] = clust.__class__.__name__\n",
    "\n",
    "# Print contingency matrix\n",
    "crosstab = pd.crosstab(y, y_pred)\n",
    "plt.figure(figsize=(8,5))\n",
    "sns.heatmap(crosstab, annot=True,fmt='d', cmap=plt.cm.copper)\n",
    "plt.show()\n",
    "print(time()-t0,\"seconds.\")"
   ]
  },
  {
   "cell_type": "markdown",
   "metadata": {},
   "source": [
    "**Results (See below)**\n",
    "\n",
    "- Based on `Mutual_Info` score, classification outperforms clustering regardless of the method used for feature-generation.\n",
    "- Within the clustering solutions however, LSA produced higher scores than BOW except for SpectralClustering."
   ]
  },
  {
   "cell_type": "code",
   "execution_count": null,
   "metadata": {},
   "outputs": [],
   "source": [
    "performance.iloc[:11].sort_values('Mutual_Info',ascending=False)[['Algorithm','n_train','Features','Mutual_Info','Test_Accuracy']]"
   ]
  },
  {
   "cell_type": "markdown",
   "metadata": {},
   "source": [
    "## 6.3. Classification on LSA (BOW Content)\n",
    "\n",
    "[Back to Outline](#Outline)\n",
    "\n",
    "- Now we'll do supervised classification on the LSA features."
   ]
  },
  {
   "cell_type": "markdown",
   "metadata": {},
   "source": [
    "### 6.3.1. Logistic Regression LSA"
   ]
  },
  {
   "cell_type": "code",
   "execution_count": null,
   "metadata": {},
   "outputs": [],
   "source": [
    "# Parameters to optimize\n",
    "params = [{\n",
    "    'solver': ['newton-cg', 'lbfgs', 'sag'],\n",
    "    'C': [0.3, 0.5, 0.7, 1],\n",
    "    'penalty': ['l2']\n",
    "    },{\n",
    "    'solver': ['liblinear','saga'],\n",
    "    'C': [0.3, 0.5, 0.7, 1],\n",
    "    'penalty': ['l1','l2']\n",
    "}]\n",
    "\n",
    "clf = LogisticRegression(\n",
    "    n_jobs=-1 # Use all CPU\n",
    ")\n",
    "\n",
    "score_optimization(clf=clf,params=params,features='LSA',i=11)"
   ]
  },
  {
   "cell_type": "markdown",
   "metadata": {},
   "source": [
    "### 6.3.2. Random Forest LSA\n",
    "\n",
    "[Back to Outline](#Outline)"
   ]
  },
  {
   "cell_type": "code",
   "execution_count": null,
   "metadata": {},
   "outputs": [],
   "source": [
    "# Parameters to compare\n",
    "params = {\n",
    "    'criterion':['entropy','gini'],\n",
    "}\n",
    "\n",
    "# Implement the classifier\n",
    "clf = ensemble.RandomForestClassifier(\n",
    "    n_estimators=100,\n",
    "    max_features=None,\n",
    "    n_jobs=-1,\n",
    ")\n",
    "\n",
    "score_optimization(clf=clf,params=params,features='LSA',i=12)"
   ]
  },
  {
   "cell_type": "markdown",
   "metadata": {},
   "source": [
    "### 6.3.3. Gradient Boosting LSA\n",
    "\n",
    "[Back to Outline](#Outline)"
   ]
  },
  {
   "cell_type": "code",
   "execution_count": null,
   "metadata": {},
   "outputs": [],
   "source": [
    "# Parameters to compare\n",
    "params = {\n",
    "    'learning_rate':[0.3,0.5,0.7,1]\n",
    "}\n",
    "\n",
    "# Implement the classifier\n",
    "clf = ensemble.GradientBoostingClassifier(\n",
    "    max_features=None\n",
    ")\n",
    "\n",
    "score_optimization(clf=clf,params=params,features='LSA',i=13)"
   ]
  },
  {
   "cell_type": "markdown",
   "metadata": {},
   "source": [
    "**Results**\n",
    "\n",
    "- Once again, classification trumps clustering regardless of the feature-generation method. \n",
    "- BOW features have performed consistently better than LSA on all classifiers."
   ]
  },
  {
   "cell_type": "code",
   "execution_count": null,
   "metadata": {},
   "outputs": [],
   "source": [
    "performance.iloc[:14].sort_values('Mutual_Info',ascending=False)[['Algorithm','n_train','Features','Mutual_Info','Test_Accuracy']].iloc[:9]"
   ]
  },
  {
   "cell_type": "markdown",
   "metadata": {},
   "source": [
    "## 6.4. Clustering on LSA (All Content)\n",
    "\n",
    "[Back to Outline](#Outline)\n",
    "\n",
    "- Since LSA allows for very quick feature-generation, it's worth making a comparison between past results VS the utilization of all available data. After all, the LSA classifiers aren't far behind the BOW classifiers on 380 samples. With twice the number of articles LSA could very well outperform BOW. "
   ]
  },
  {
   "cell_type": "code",
   "execution_count": null,
   "metadata": {},
   "outputs": [],
   "source": [
    "vectorizer = TfidfVectorizer(max_df=0.3, # drop words that occur in more than X percent of documents\n",
    "                             min_df=8, # only use words that appear at least X times\n",
    "                             stop_words='english', \n",
    "                             lowercase=True, #convert everything to lower case \n",
    "                             use_idf=True,#we definitely want to use inverse document frequencies in our weighting\n",
    "                             norm=u'l2', #Applies a correction factor so that longer paragraphs and shorter paragraphs get treated equally\n",
    "                             smooth_idf=True #Adds 1 to all document frequencies, as if an extra document existed that used every word once.  Prevents divide-by-zero errors\n",
    "                            )\n",
    "\n",
    "#Pass pandas series to our vectorizer model\n",
    "counts_tfidf = vectorizer.fit_transform(authors_data.content)\n",
    "\n"
   ]
  },
  {
   "cell_type": "markdown",
   "metadata": {},
   "source": [
    "- Notice that this time we fed all the articles into the vectorizer. See the size of the CSR Matrix underneath. The 1000 rows are 100 articles for each 10 authors."
   ]
  },
  {
   "cell_type": "code",
   "execution_count": null,
   "metadata": {},
   "outputs": [],
   "source": [
    "counts_tfidf"
   ]
  },
  {
   "cell_type": "markdown",
   "metadata": {},
   "source": [
    "- This time we need 900 features to retain 98% of the variance."
   ]
  },
  {
   "cell_type": "code",
   "execution_count": null,
   "metadata": {},
   "outputs": [],
   "source": [
    "svd = TruncatedSVD(900)\n",
    "svd.fit(counts_tfidf)\n",
    "svd.explained_variance_ratio_.sum()"
   ]
  },
  {
   "cell_type": "code",
   "execution_count": null,
   "metadata": {},
   "outputs": [],
   "source": [
    "lsa = make_pipeline(svd, Normalizer(copy=False))\n",
    "lsa_data = lsa.fit_transform(counts_tfidf)\n",
    "lsa_data.shape"
   ]
  },
  {
   "cell_type": "code",
   "execution_count": null,
   "metadata": {
    "scrolled": true
   },
   "outputs": [],
   "source": [
    "lsa_data = pd.DataFrame(lsa_data)\n",
    "lsa_data.head()"
   ]
  },
  {
   "cell_type": "code",
   "execution_count": null,
   "metadata": {},
   "outputs": [],
   "source": [
    "#First, establish X and Y\n",
    "y = authors_data['author']\n",
    "X = lsa_data\n",
    "\n",
    "X_train, X_test, y_train, y_test = train_test_split(X, \n",
    "                                                    y,\n",
    "                                                    test_size=0.24,\n",
    "                                                    random_state=0,\n",
    "                                                   stratify=y)"
   ]
  },
  {
   "cell_type": "markdown",
   "metadata": {},
   "source": [
    "- The test data reflects the change in size."
   ]
  },
  {
   "cell_type": "code",
   "execution_count": null,
   "metadata": {},
   "outputs": [],
   "source": [
    "y_test.value_counts()"
   ]
  },
  {
   "cell_type": "markdown",
   "metadata": {},
   "source": [
    "### 6.4.1. KMeans LSA (All Content)\n",
    "\n",
    "[Back to Outline](#Outline)"
   ]
  },
  {
   "cell_type": "code",
   "execution_count": null,
   "metadata": {},
   "outputs": [],
   "source": [
    "clust=KMeans()\n",
    "params={\n",
    "    'n_clusters': np.arange(10,30,5),\n",
    "    'init': ['k-means++','random'],\n",
    "    'n_init':[10,20],\n",
    "    'precompute_distances':[True,False]\n",
    "}\n",
    "evaluate_clust(clust,params,features='LSA',i=14)"
   ]
  },
  {
   "cell_type": "markdown",
   "metadata": {},
   "source": [
    "### 6.4.2. Mean Shift LSA (All Content)\n",
    "\n",
    "[Back to Outline](#Outline)"
   ]
  },
  {
   "cell_type": "code",
   "execution_count": null,
   "metadata": {
    "scrolled": false
   },
   "outputs": [],
   "source": [
    "#Declare and fit the model\n",
    "clust = MeanShift()\n",
    "\n",
    "params={\n",
    "    'bandwidth':[0.5,0.7,0.9]\n",
    "}\n",
    "evaluate_clust(clust,params,features='LSA',i=15)"
   ]
  },
  {
   "cell_type": "markdown",
   "metadata": {},
   "source": [
    "### 6.4.3. Affinity Propagation LSA (All Content)\n",
    "\n",
    "[Back to Outline](#Outline)"
   ]
  },
  {
   "cell_type": "code",
   "execution_count": null,
   "metadata": {},
   "outputs": [],
   "source": [
    "#Declare and fit the model.\n",
    "clust = AffinityPropagation()\n",
    "\n",
    "params = {\n",
    "    'damping':[.5,.7,.9],\n",
    "    'max_iter':[200,500]\n",
    "}\n",
    "evaluate_clust(clust,params,features='LSA',i=16)"
   ]
  },
  {
   "cell_type": "markdown",
   "metadata": {},
   "source": [
    "### 6.4.4. Spectral Clustering LSA (All Content)\n",
    "\n",
    "[Back to Outline](#Outline)\n",
    "\n",
    "SpectralClustering can't be used with GridSearchCV because it lacks a .fit method. Therefore I won't use the function here."
   ]
  },
  {
   "cell_type": "code",
   "execution_count": null,
   "metadata": {},
   "outputs": [],
   "source": [
    "clust= SpectralClustering()\n",
    "\n",
    "params = {\n",
    "    'n_clusters':np.arange(10,26,5),\n",
    "    #'eigen_solver':['arpack','lobpcg',None],\n",
    "    'n_init':[15,25],\n",
    "    'assign_labels':['kmeans','discretize']\n",
    "}\n",
    "\n",
    "features='LSA'\n",
    "\n",
    "i=17\n",
    "\n",
    "t0=time()\n",
    "\n",
    "y_pred = clust.fit_predict(X)\n",
    "\n",
    "ari = adjusted_rand_score(y, y_pred)\n",
    "performance.loc[i,'ARI'] = ari \n",
    "print(\"Adjusted Rand-Index: %.3f\" % ari)\n",
    "\n",
    "hom = homogeneity_score(y,y_pred)\n",
    "performance.loc[i,'Homogeneity'] = hom\n",
    "print(\"Homogeneity Score: %.3f\" % hom)\n",
    "\n",
    "sil = silhouette_score(X,y_pred)\n",
    "performance.loc[i,'Silhouette'] = sil\n",
    "print(\"Silhouette Score: %.3f\" % sil)\n",
    "\n",
    "nmi = normalized_mutual_info_score(y,y_pred)\n",
    "performance.loc[i,'Mutual_Info'] = nmi\n",
    "print(\"Normed Mutual-Info Score: %.3f\" % nmi)\n",
    "\n",
    "performance.loc[i,'n_train'] = len(X)\n",
    "performance.loc[i,'Features'] = features\n",
    "performance.loc[i,'Algorithm'] = clust.__class__.__name__\n",
    "\n",
    "# Print contingency matrix\n",
    "crosstab = pd.crosstab(y, y_pred)\n",
    "plt.figure(figsize=(8,5))\n",
    "sns.heatmap(crosstab, annot=True,fmt='d', cmap=plt.cm.copper)\n",
    "plt.show()\n",
    "print(time()-t0,\"seconds.\")"
   ]
  },
  {
   "cell_type": "markdown",
   "metadata": {},
   "source": [
    "## 6.5. Classification on LSA (All Content)\n",
    "\n",
    "[Back to Outline](#Outline)\n",
    "\n",
    "- We've done clustering on LSA using all 1000 articles. Now let's classify."
   ]
  },
  {
   "cell_type": "markdown",
   "metadata": {},
   "source": [
    "### 6.5.1. Logistic Regression LSA (All Content)"
   ]
  },
  {
   "cell_type": "code",
   "execution_count": null,
   "metadata": {},
   "outputs": [],
   "source": [
    "# Parameters to optimize\n",
    "params = [{\n",
    "    'solver': ['newton-cg', 'lbfgs', 'sag'],\n",
    "    'C': [0.3, 0.5, 0.7, 1],\n",
    "    'penalty': ['l2']\n",
    "    },{\n",
    "    'solver': ['liblinear','saga'],\n",
    "    'C': [0.3, 0.5, 0.7, 1],\n",
    "    'penalty': ['l1','l2']\n",
    "}]\n",
    "\n",
    "clf = LogisticRegression(\n",
    "    n_jobs=-1 # Use all CPU\n",
    ")\n",
    "\n",
    "score_optimization(clf=clf,params=params,features='LSA',i=18)"
   ]
  },
  {
   "cell_type": "markdown",
   "metadata": {},
   "source": [
    "### 6.5.2. Random Forest LSA\n",
    "\n",
    "[Back to Outline](#Outline)"
   ]
  },
  {
   "cell_type": "code",
   "execution_count": null,
   "metadata": {},
   "outputs": [],
   "source": [
    "# Parameters to compare\n",
    "params = {\n",
    "    'criterion':['entropy','gini'],\n",
    "}\n",
    "\n",
    "# Implement the classifier\n",
    "clf = ensemble.RandomForestClassifier(\n",
    "    n_estimators=100,\n",
    "    max_features=None,\n",
    "    n_jobs=-1,\n",
    ")\n",
    "\n",
    "score_optimization(clf=clf,params=params,features='LSA',i=19)"
   ]
  },
  {
   "cell_type": "markdown",
   "metadata": {},
   "source": [
    "### 6.5.3. Gradient Boosting LSA\n",
    "\n",
    "[Back to Outline](#Outline)"
   ]
  },
  {
   "cell_type": "code",
   "execution_count": null,
   "metadata": {},
   "outputs": [],
   "source": [
    "# Parameters to compare\n",
    "params = {\n",
    "    'learning_rate':[0.3,0.5,0.7,1]\n",
    "}\n",
    "\n",
    "# Implement the classifier\n",
    "clf = ensemble.GradientBoostingClassifier(\n",
    "    max_features=None\n",
    ")\n",
    "\n",
    "score_optimization(clf=clf,params=params,features='LSA',i=20)"
   ]
  },
  {
   "cell_type": "markdown",
   "metadata": {},
   "source": [
    "**Comparing Results:**\n",
    "\n",
    "The results of more data are mixed with other methods. The LogisticRegression LSA with 760 samples is above GradientBoosting with 380, but below LogisticRegression with 380.\n",
    "- **n_train**. Overal the 380 train size which is the 75% train split from the 500 BOW set generated higher scores than larger sizes.\n",
    "- **Features**. Overall BOW features produced higher scores than most LSA features.\n",
    "- **Supervised VS Unsupervised**. Classification produced indisputably  higher scores than clustering regardless of size or feature-generation ."
   ]
  },
  {
   "cell_type": "code",
   "execution_count": null,
   "metadata": {},
   "outputs": [],
   "source": [
    "performance.sort_values('Mutual_Info',ascending=False)[['Algorithm','n_train','Features','Mutual_Info','Test_Accuracy']].iloc[:10]"
   ]
  },
  {
   "cell_type": "markdown",
   "metadata": {},
   "source": [
    "# 7. Choosing Model\n",
    "\n",
    "[Back to Outline](#Outline)\n",
    "\n",
    "## 7.1. Comparing Scores\n",
    "\n",
    "- Since we tracked several scores throughout our testing, let's first compare our scores. The table below is sorted by `Mutual_Info` score.\n",
    "-  The first three scores `Mutual_Info, ARI, Homogeneity` are most commonly used for clustering. `Cross_Val, Train_Accuracy, Test_Accuracy` are limited to classification. Therefore the `NaN` missing values are the clustering algorithms.\n",
    "- Notice that `Mutal_Info` scores and `Test_Accuracy` are very closely related to one another. \n",
    "    - `Homogeneity` is close as well, but it gives 0.99 for index 15, which is a clustering algorithm with several dozens of clusters. Homogeneity will reward clustering solutions with numerous `n_clusters` because it penalizes clusters containing mixed true_labels. But so many clusters are practically useless."
   ]
  },
  {
   "cell_type": "code",
   "execution_count": null,
   "metadata": {},
   "outputs": [],
   "source": [
    "performance.sort_values('Mutual_Info',ascending=False)[['Mutual_Info','ARI','Homogeneity','Cross_Val','Train_Accuracy','Test_Accuracy']].iloc[:10]"
   ]
  },
  {
   "cell_type": "markdown",
   "metadata": {},
   "source": [
    "## 7.2. Sorting by Test_Accuracy\n",
    "\n",
    "[Back to Outline](#Outline)\n",
    "\n",
    "Although we established that `Mutual_Info` and `Test_Accuracy` are very closely aligned, if we sort by `Test_Accuracy` there is a slight difference in top performers.\n",
    "- First of all, since clustering solutions have missing values they are all at the bottom.\n",
    "- All the BOW solutions are still at the top.\n",
    "- LogisticRegression 760 LSA is now above itself at 380 samples. For RandomForest however, less samples produced a higher test accuracy. Same goes for GradientBoosting underneath."
   ]
  },
  {
   "cell_type": "code",
   "execution_count": null,
   "metadata": {},
   "outputs": [],
   "source": [
    "performance.sort_values('Test_Accuracy',ascending=False)[['Algorithm','n_train','Features','Mutual_Info','Test_Accuracy']].iloc[:10]"
   ]
  },
  {
   "cell_type": "markdown",
   "metadata": {},
   "source": [
    "## 7.3. Winner\n",
    "\n",
    "[Back to Outline](#Outline)\n",
    "\n",
    "**Algorithm** \n",
    "\n",
    "Clearly LogisticRegression has done a better job at predicting the author name regardless of other factors. Across varying train size and feature-generation, 3 out of the 5 top solutions are from LogisticRegression.\n",
    "\n",
    "**Feature-Generation**\n",
    "\n",
    "For the purposes of predicting author's names, classification on BOW features has outperformed LSA. However LSA could be more appropriate for other tasks. Perhaps an author's uniqueness is more palbable from his vocabulary than from the semantics of his writing. This may explain why BOW was superior in this project.\n",
    "\n",
    "**Train_Size**\n",
    "\n",
    "Train size produced dubious variations in LSA. More data helped LogisticRegression but made others less accurate. It would be nice to see the effects of Train size in BOW, but that takes a long time.\n",
    "\n",
    "**Score**\n",
    "\n",
    "Normalized Mutual Information is definitely the best score with which to compare clustering and classification algorithms. Other scores also also have a close resemblance, therefore I'd recommend to always compare several clustering scores."
   ]
  },
  {
   "cell_type": "code",
   "execution_count": null,
   "metadata": {},
   "outputs": [],
   "source": [
    "plot_data = performance.sort_values('Test_Accuracy',ascending=False)[['Algorithm','Features','n_train','Test_Accuracy']].iloc[:9]\n",
    "\n",
    "plot_data.n_train = plot_data.n_train.apply(lambda x: str(x))\n",
    "plot_data['method'] = plot_data.Features+'_'+plot_data.n_train\n",
    "%matplotlib inline\n",
    "\n",
    "sns.catplot(col='Algorithm',x='method',y='Test_Accuracy',\n",
    "            data=plot_data,kind='bar')\n",
    "plt.show()"
   ]
  }
 ],
 "metadata": {
  "kernelspec": {
   "display_name": "Python 3",
   "language": "python",
   "name": "python3"
  },
  "language_info": {
   "codemirror_mode": {
    "name": "ipython",
    "version": 3
   },
   "file_extension": ".py",
   "mimetype": "text/x-python",
   "name": "python",
   "nbconvert_exporter": "python",
   "pygments_lexer": "ipython3",
   "version": "3.6.10"
  }
 },
 "nbformat": 4,
 "nbformat_minor": 1
}
