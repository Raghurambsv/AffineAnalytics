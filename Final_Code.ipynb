{
 "cells": [
  {
   "cell_type": "code",
   "execution_count": 1,
   "metadata": {},
   "outputs": [],
   "source": [
    "## Import libraries\n",
    "import numpy as np\n",
    "import pandas as pd\n",
    "import yaml\n",
    "import sys\n",
    "import seaborn as sns\n",
    "\n",
    "%matplotlib inline\n",
    "import matplotlib.pyplot as plt"
   ]
  },
  {
   "cell_type": "code",
   "execution_count": 2,
   "metadata": {},
   "outputs": [],
   "source": [
    "sys.path.append('./utils')\n",
    "\n",
    "## Import helper modules\n",
    "from sanity_check import * \n",
    "from swiss_tournament import *\n",
    "from train_val_test_split import *\n",
    "from vif import *\n",
    "from transformation import *\n",
    "from gbm_rel_feature_importance import *"
   ]
  },
  {
   "cell_type": "code",
   "execution_count": 3,
   "metadata": {},
   "outputs": [],
   "source": [
    "#Read the parameters file  \n",
    "with open(\"params.yml\", 'r') as f:\n",
    "    params = yaml.safe_load(f)\n",
    "\n",
    "#Path to dataset    \n",
    "data_path= params['input_data_path']\n",
    "\n",
    "#Sanity check parameters\n",
    "sanity_check_dict = params['sanity_check']\n",
    "null_threshold = sanity_check_dict['null_threshold']\n",
    "num_of_std = sanity_check_dict['num_of_std']\n",
    "variance_threshold = sanity_check_dict['variance_threshold']\n",
    "impute_method = sanity_check_dict['impute_method']\n",
    "\n",
    "#Train, Validation and Test split parameters\n",
    "split_dict = params['train_valid_test_split']\n",
    "train_size = split_dict['train_size']\n",
    "val_size = split_dict['val_size']\n",
    "\n",
    "#Swiss tournament random forest iteraions parameters\n",
    "no_of_rf = params['no_of_rf']\n",
    "feature_each_rf= params['feature_each_rf']\n",
    "max_depth= params['max_depth']\n",
    "n_estimators= params['n_estimators']\n",
    "\n",
    "#classify features as high and low importance based on percentile\n",
    "percentile=params['percentile']\n",
    "\n",
    "#R-squared threshold for vif removal function\n",
    "r_square_threshold = params['r_square_threshold']\n",
    "\n",
    "#GBM GridSearchCV parameters\n",
    "max_depth_l = params['max_depth_l']\n",
    "min_samples_split_l = params['min_samples_split_l']\n",
    "n_estimators_l = params['n_estimators_l']\n",
    "learning_rate_l = params['learning_rate_l']"
   ]
  },
  {
   "cell_type": "code",
   "execution_count": 4,
   "metadata": {},
   "outputs": [],
   "source": [
    "#Read dataset\n",
    "df = pd.read_csv(data_path)"
   ]
  },
  {
   "cell_type": "markdown",
   "metadata": {},
   "source": [
    "   "
   ]
  },
  {
   "cell_type": "markdown",
   "metadata": {},
   "source": [
    "#### PERFORM SANITY CHECKS ON DATA"
   ]
  },
  {
   "cell_type": "code",
   "execution_count": 5,
   "metadata": {},
   "outputs": [
    {
     "name": "stdout",
     "output_type": "stream",
     "text": [
      "Data has 4296 columns.\n",
      "There are 3124 columns that have missing values\n",
      "Null value report saved as Null_values_report.csv!! \n",
      "\n",
      "1836 features have nulls greater than the threshold and will be dropped\n",
      "Dropped features saved in report Null_Dropped_Report.csv!! \n",
      "\n",
      "Imputation performed using fill_forward\n",
      "\n",
      "Outliers are capped between [upper-lower] bound using standard deviation method.\n",
      "\n",
      "0 features with 0 variance found and dropped\n",
      "Dropped Low variance features saved in Low_Variance_Features_Report.csv!!\n",
      "\n",
      "Number of features remaining: 2460\n"
     ]
    }
   ],
   "source": [
    "sanity_df=sanity_checks(df.copy(),null_threshold,impute_method,num_of_std,variance_threshold)"
   ]
  },
  {
   "cell_type": "markdown",
   "metadata": {},
   "source": [
    "  "
   ]
  },
  {
   "cell_type": "markdown",
   "metadata": {},
   "source": [
    "#### SPLIT DATA INTO TRAIN, VALIDATION AND TEST"
   ]
  },
  {
   "cell_type": "code",
   "execution_count": 6,
   "metadata": {},
   "outputs": [],
   "source": [
    "# Train and Test Split\n",
    "train = sanity_df.iloc[0:100,:]\n",
    "test = sanity_df.iloc[100:,:]\n"
   ]
  },
  {
   "cell_type": "code",
   "execution_count": 7,
   "metadata": {},
   "outputs": [],
   "source": [
    "#Create independent variable\n",
    "x = train.drop(['Close^IXIC'],axis=1)\n",
    "y = train['Close^IXIC']"
   ]
  },
  {
   "cell_type": "markdown",
   "metadata": {},
   "source": [
    " "
   ]
  },
  {
   "cell_type": "markdown",
   "metadata": {},
   "source": [
    "#### PERFORM SWISS TOURNAMENT ITERATIONS"
   ]
  },
  {
   "cell_type": "code",
   "execution_count": 8,
   "metadata": {},
   "outputs": [
    {
     "name": "stdout",
     "output_type": "stream",
     "text": [
      "Running 5000 Random Forests with 30 features each!\n"
     ]
    },
    {
     "name": "stderr",
     "output_type": "stream",
     "text": [
      "100%|██████████| 5000/5000 [06:25<00:00, 13.31it/s]\n"
     ]
    },
    {
     "name": "stdout",
     "output_type": "stream",
     "text": [
      "Feature importance reports generated and saved as rank.csv and Feature_Importance_Report.csv!\n"
     ]
    }
   ],
   "source": [
    "report_df,rank_df = Swiss_tourney(x,y,no_of_rf,feature_each_rf,max_depth,n_estimators)"
   ]
  },
  {
   "cell_type": "code",
   "execution_count": 9,
   "metadata": {},
   "outputs": [
    {
     "data": {
      "text/html": [
       "<div>\n",
       "<style scoped>\n",
       "    .dataframe tbody tr th:only-of-type {\n",
       "        vertical-align: middle;\n",
       "    }\n",
       "\n",
       "    .dataframe tbody tr th {\n",
       "        vertical-align: top;\n",
       "    }\n",
       "\n",
       "    .dataframe thead th {\n",
       "        text-align: right;\n",
       "    }\n",
       "</style>\n",
       "<table border=\"1\" class=\"dataframe\">\n",
       "  <thead>\n",
       "    <tr style=\"text-align: right;\">\n",
       "      <th></th>\n",
       "      <th>feature</th>\n",
       "      <th>feature_imp_sum</th>\n",
       "      <th>feature_imp_median</th>\n",
       "      <th>feature_imp_mean</th>\n",
       "      <th>rank_sum</th>\n",
       "      <th>rank_median</th>\n",
       "      <th>rank_mean</th>\n",
       "      <th>rank_min</th>\n",
       "      <th>rank_max</th>\n",
       "      <th>feature_count</th>\n",
       "      <th>bucket_first_3</th>\n",
       "      <th>percent_first_3_bucket</th>\n",
       "      <th>best_in_num_games</th>\n",
       "    </tr>\n",
       "  </thead>\n",
       "  <tbody>\n",
       "    <tr>\n",
       "      <th>0</th>\n",
       "      <td>Low^IXIC</td>\n",
       "      <td>9.473558</td>\n",
       "      <td>0.152064</td>\n",
       "      <td>0.163337</td>\n",
       "      <td>84</td>\n",
       "      <td>1.0</td>\n",
       "      <td>1.448276</td>\n",
       "      <td>1</td>\n",
       "      <td>3</td>\n",
       "      <td>58</td>\n",
       "      <td>58</td>\n",
       "      <td>1.000000</td>\n",
       "      <td>36.0</td>\n",
       "    </tr>\n",
       "    <tr>\n",
       "      <th>1</th>\n",
       "      <td>High^IXIC</td>\n",
       "      <td>9.089027</td>\n",
       "      <td>0.144329</td>\n",
       "      <td>0.156707</td>\n",
       "      <td>83</td>\n",
       "      <td>1.0</td>\n",
       "      <td>1.431034</td>\n",
       "      <td>1</td>\n",
       "      <td>3</td>\n",
       "      <td>58</td>\n",
       "      <td>58</td>\n",
       "      <td>1.000000</td>\n",
       "      <td>37.0</td>\n",
       "    </tr>\n",
       "    <tr>\n",
       "      <th>2</th>\n",
       "      <td>Open^IXIC</td>\n",
       "      <td>7.775047</td>\n",
       "      <td>0.143896</td>\n",
       "      <td>0.152452</td>\n",
       "      <td>70</td>\n",
       "      <td>1.0</td>\n",
       "      <td>1.372549</td>\n",
       "      <td>1</td>\n",
       "      <td>3</td>\n",
       "      <td>51</td>\n",
       "      <td>51</td>\n",
       "      <td>1.000000</td>\n",
       "      <td>36.0</td>\n",
       "    </tr>\n",
       "    <tr>\n",
       "      <th>3</th>\n",
       "      <td>LowLFS.BE</td>\n",
       "      <td>7.537520</td>\n",
       "      <td>0.133039</td>\n",
       "      <td>0.144952</td>\n",
       "      <td>89</td>\n",
       "      <td>1.0</td>\n",
       "      <td>1.711538</td>\n",
       "      <td>1</td>\n",
       "      <td>4</td>\n",
       "      <td>52</td>\n",
       "      <td>50</td>\n",
       "      <td>0.961538</td>\n",
       "      <td>27.0</td>\n",
       "    </tr>\n",
       "    <tr>\n",
       "      <th>4</th>\n",
       "      <td>OpenLGT-B.TO</td>\n",
       "      <td>8.033123</td>\n",
       "      <td>0.138789</td>\n",
       "      <td>0.143449</td>\n",
       "      <td>93</td>\n",
       "      <td>1.0</td>\n",
       "      <td>1.660714</td>\n",
       "      <td>1</td>\n",
       "      <td>5</td>\n",
       "      <td>56</td>\n",
       "      <td>53</td>\n",
       "      <td>0.946429</td>\n",
       "      <td>34.0</td>\n",
       "    </tr>\n",
       "  </tbody>\n",
       "</table>\n",
       "</div>"
      ],
      "text/plain": [
       "        feature  feature_imp_sum  feature_imp_median  feature_imp_mean  \\\n",
       "0      Low^IXIC         9.473558            0.152064          0.163337   \n",
       "1     High^IXIC         9.089027            0.144329          0.156707   \n",
       "2     Open^IXIC         7.775047            0.143896          0.152452   \n",
       "3     LowLFS.BE         7.537520            0.133039          0.144952   \n",
       "4  OpenLGT-B.TO         8.033123            0.138789          0.143449   \n",
       "\n",
       "   rank_sum  rank_median  rank_mean  rank_min  rank_max  feature_count  \\\n",
       "0        84          1.0   1.448276         1         3             58   \n",
       "1        83          1.0   1.431034         1         3             58   \n",
       "2        70          1.0   1.372549         1         3             51   \n",
       "3        89          1.0   1.711538         1         4             52   \n",
       "4        93          1.0   1.660714         1         5             56   \n",
       "\n",
       "   bucket_first_3  percent_first_3_bucket  best_in_num_games  \n",
       "0              58                1.000000               36.0  \n",
       "1              58                1.000000               37.0  \n",
       "2              51                1.000000               36.0  \n",
       "3              50                0.961538               27.0  \n",
       "4              53                0.946429               34.0  "
      ]
     },
     "execution_count": 9,
     "metadata": {},
     "output_type": "execute_result"
    }
   ],
   "source": [
    "report_df.head()"
   ]
  },
  {
   "cell_type": "code",
   "execution_count": 10,
   "metadata": {},
   "outputs": [
    {
     "data": {
      "image/png": "[encoded data removed]",
      "text/plain": [
       "<Figure size 720x360 with 1 Axes>"
      ]
     },
     "metadata": {
      "needs_background": "light"
     },
     "output_type": "display_data"
    }
   ],
   "source": [
    "#Plot a histogram of Feature Importance Sum\n",
    "plt.figure(figsize=(10,5))\n",
    "plt.xlabel('Feature Importance Sum')\n",
    "plt.ylabel('No: of Features') \n",
    "report_df['feature_imp_sum'].hist()\n",
    "plt.show()"
   ]
  },
  {
   "cell_type": "code",
   "execution_count": 11,
   "metadata": {},
   "outputs": [
    {
     "name": "stdout",
     "output_type": "stream",
     "text": [
      "Feature Importance Report saved as Feature_Importance_Report.csv!! \n"
     ]
    },
    {
     "data": {
      "text/html": [
       "<div>\n",
       "<style scoped>\n",
       "    .dataframe tbody tr th:only-of-type {\n",
       "        vertical-align: middle;\n",
       "    }\n",
       "\n",
       "    .dataframe tbody tr th {\n",
       "        vertical-align: top;\n",
       "    }\n",
       "\n",
       "    .dataframe thead th {\n",
       "        text-align: right;\n",
       "    }\n",
       "</style>\n",
       "<table border=\"1\" class=\"dataframe\">\n",
       "  <thead>\n",
       "    <tr style=\"text-align: right;\">\n",
       "      <th></th>\n",
       "      <th>feature</th>\n",
       "      <th>feature_imp_sum</th>\n",
       "      <th>feature_imp_median</th>\n",
       "      <th>feature_imp_mean</th>\n",
       "      <th>rank_sum</th>\n",
       "      <th>rank_median</th>\n",
       "      <th>rank_mean</th>\n",
       "      <th>rank_min</th>\n",
       "      <th>rank_max</th>\n",
       "      <th>feature_count</th>\n",
       "      <th>bucket_first_3</th>\n",
       "      <th>percent_first_3_bucket</th>\n",
       "      <th>best_in_num_games</th>\n",
       "      <th>Group</th>\n",
       "    </tr>\n",
       "  </thead>\n",
       "  <tbody>\n",
       "    <tr>\n",
       "      <th>0</th>\n",
       "      <td>HighLGDN.F</td>\n",
       "      <td>10.188423</td>\n",
       "      <td>0.115057</td>\n",
       "      <td>0.121291</td>\n",
       "      <td>203</td>\n",
       "      <td>2.0</td>\n",
       "      <td>2.416667</td>\n",
       "      <td>1</td>\n",
       "      <td>6</td>\n",
       "      <td>84</td>\n",
       "      <td>66</td>\n",
       "      <td>0.785714</td>\n",
       "      <td>29.0</td>\n",
       "      <td>High</td>\n",
       "    </tr>\n",
       "    <tr>\n",
       "      <th>1</th>\n",
       "      <td>Open012700.KQ</td>\n",
       "      <td>9.908865</td>\n",
       "      <td>0.132152</td>\n",
       "      <td>0.139561</td>\n",
       "      <td>127</td>\n",
       "      <td>1.0</td>\n",
       "      <td>1.788732</td>\n",
       "      <td>1</td>\n",
       "      <td>6</td>\n",
       "      <td>71</td>\n",
       "      <td>66</td>\n",
       "      <td>0.929577</td>\n",
       "      <td>39.0</td>\n",
       "      <td>High</td>\n",
       "    </tr>\n",
       "    <tr>\n",
       "      <th>2</th>\n",
       "      <td>HighLE6N.BE</td>\n",
       "      <td>9.873231</td>\n",
       "      <td>0.123862</td>\n",
       "      <td>0.129911</td>\n",
       "      <td>162</td>\n",
       "      <td>2.0</td>\n",
       "      <td>2.131579</td>\n",
       "      <td>1</td>\n",
       "      <td>6</td>\n",
       "      <td>76</td>\n",
       "      <td>65</td>\n",
       "      <td>0.855263</td>\n",
       "      <td>30.0</td>\n",
       "      <td>High</td>\n",
       "    </tr>\n",
       "    <tr>\n",
       "      <th>3</th>\n",
       "      <td>OpenLFS.BE</td>\n",
       "      <td>9.845781</td>\n",
       "      <td>0.128655</td>\n",
       "      <td>0.131277</td>\n",
       "      <td>149</td>\n",
       "      <td>2.0</td>\n",
       "      <td>1.986667</td>\n",
       "      <td>1</td>\n",
       "      <td>5</td>\n",
       "      <td>75</td>\n",
       "      <td>67</td>\n",
       "      <td>0.893333</td>\n",
       "      <td>32.0</td>\n",
       "      <td>High</td>\n",
       "    </tr>\n",
       "    <tr>\n",
       "      <th>4</th>\n",
       "      <td>LowLFY.MU</td>\n",
       "      <td>9.727668</td>\n",
       "      <td>0.114931</td>\n",
       "      <td>0.118630</td>\n",
       "      <td>215</td>\n",
       "      <td>2.0</td>\n",
       "      <td>2.621951</td>\n",
       "      <td>1</td>\n",
       "      <td>11</td>\n",
       "      <td>82</td>\n",
       "      <td>62</td>\n",
       "      <td>0.756098</td>\n",
       "      <td>29.0</td>\n",
       "      <td>High</td>\n",
       "    </tr>\n",
       "  </tbody>\n",
       "</table>\n",
       "</div>"
      ],
      "text/plain": [
       "         feature  feature_imp_sum  feature_imp_median  feature_imp_mean  \\\n",
       "0     HighLGDN.F        10.188423            0.115057          0.121291   \n",
       "1  Open012700.KQ         9.908865            0.132152          0.139561   \n",
       "2    HighLE6N.BE         9.873231            0.123862          0.129911   \n",
       "3     OpenLFS.BE         9.845781            0.128655          0.131277   \n",
       "4      LowLFY.MU         9.727668            0.114931          0.118630   \n",
       "\n",
       "   rank_sum  rank_median  rank_mean  rank_min  rank_max  feature_count  \\\n",
       "0       203          2.0   2.416667         1         6             84   \n",
       "1       127          1.0   1.788732         1         6             71   \n",
       "2       162          2.0   2.131579         1         6             76   \n",
       "3       149          2.0   1.986667         1         5             75   \n",
       "4       215          2.0   2.621951         1        11             82   \n",
       "\n",
       "   bucket_first_3  percent_first_3_bucket  best_in_num_games Group  \n",
       "0              66                0.785714               29.0  High  \n",
       "1              66                0.929577               39.0  High  \n",
       "2              65                0.855263               30.0  High  \n",
       "3              67                0.893333               32.0  High  \n",
       "4              62                0.756098               29.0  High  "
      ]
     },
     "execution_count": 11,
     "metadata": {},
     "output_type": "execute_result"
    }
   ],
   "source": [
    "#classify features into high and low importance\n",
    "report_df=low_high_imp_grouping(report_df,percentile)\n",
    "report_df.head()"
   ]
  },
  {
   "cell_type": "markdown",
   "metadata": {},
   "source": [
    " "
   ]
  },
  {
   "cell_type": "markdown",
   "metadata": {},
   "source": [
    "#### PERFORM VIF TO REMOVE MULTI-COLLINEAR FEATURES"
   ]
  },
  {
   "cell_type": "code",
   "execution_count": 12,
   "metadata": {},
   "outputs": [
    {
     "name": "stdout",
     "output_type": "stream",
     "text": [
      "238 features dropped after VIF\n",
      "Dropped variables saved in VIF_Dropped_Report.csv!!\n"
     ]
    }
   ],
   "source": [
    "#list of important features\n",
    "list_of_imp_features = list(report_df[report_df.Group == 'High'].feature)\n",
    "x_imp = x.loc[:,list_of_imp_features]\n",
    "\n",
    "#Run vif based feature removal\n",
    "x_imp_vif = vif_rem(x_imp,r_square_threshold)"
   ]
  },
  {
   "cell_type": "markdown",
   "metadata": {},
   "source": [
    " "
   ]
  },
  {
   "cell_type": "markdown",
   "metadata": {},
   "source": [
    "#### APPLY TRANSFOMATIONS AND KEEP BEST FEATURES ONLY"
   ]
  },
  {
   "cell_type": "code",
   "execution_count": 13,
   "metadata": {},
   "outputs": [],
   "source": [
    "df_transformed=transformations(x_imp_vif,y)"
   ]
  },
  {
   "cell_type": "markdown",
   "metadata": {},
   "source": [
    " "
   ]
  },
  {
   "cell_type": "markdown",
   "metadata": {},
   "source": [
    "#### RELATIVE FEATURE IMPORTANCE"
   ]
  },
  {
   "cell_type": "code",
   "execution_count": 14,
   "metadata": {},
   "outputs": [
    {
     "name": "stdout",
     "output_type": "stream",
     "text": [
      "Fitting 5 folds for each of 108 candidates, totalling 540 fits\n"
     ]
    },
    {
     "name": "stderr",
     "output_type": "stream",
     "text": [
      "[Parallel(n_jobs=4)]: Using backend LokyBackend with 4 concurrent workers.\n",
      "[Parallel(n_jobs=4)]: Done  42 tasks      | elapsed:    3.5s\n",
      "[Parallel(n_jobs=4)]: Done 336 tasks      | elapsed:   12.6s\n",
      "[Parallel(n_jobs=4)]: Done 540 out of 540 | elapsed:   18.7s finished\n"
     ]
    },
    {
     "name": "stdout",
     "output_type": "stream",
     "text": [
      "Final best features with their relative importance saved as Best_Features.csv!!\n"
     ]
    }
   ],
   "source": [
    "features_df=gbm(max_depth_l,min_samples_split_l,n_estimators_l,learning_rate_l,df_transformed,y)"
   ]
  },
  {
   "cell_type": "code",
   "execution_count": 15,
   "metadata": {},
   "outputs": [
    {
     "data": {
      "text/plain": [
       "<matplotlib.axes._subplots.AxesSubplot at 0x7f09400abba8>"
      ]
     },
     "execution_count": 15,
     "metadata": {},
     "output_type": "execute_result"
    },
    {
     "data": {
      "image/png": "[encoded data removed]",
      "text/plain": [
       "<Figure size 432x288 with 1 Axes>"
      ]
     },
     "metadata": {
      "needs_background": "light"
     },
     "output_type": "display_data"
    }
   ],
   "source": [
    "#Bar plot of best features with relative importance\n",
    "sns.barplot(x='GBM Feature Importance',y='Feature',data=features_df)"
   ]
  }
 ],
 "metadata": {
  "kernelspec": {
   "display_name": "Python 3",
   "language": "python",
   "name": "python3"
  },
  "language_info": {
   "codemirror_mode": {
    "name": "ipython",
    "version": 3
   },
   "file_extension": ".py",
   "mimetype": "text/x-python",
   "name": "python",
   "nbconvert_exporter": "python",
   "pygments_lexer": "ipython3",
   "version": "3.6.10"
  }
 },
 "nbformat": 4,
 "nbformat_minor": 4
}
