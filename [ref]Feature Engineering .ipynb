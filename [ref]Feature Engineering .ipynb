{
 "cells": [
  {
   "cell_type": "code",
   "execution_count": 1,
   "metadata": {
    "ExecuteTime": {
     "end_time": "2019-03-21T08:21:10.777586Z",
     "start_time": "2019-03-21T08:21:08.833667Z"
    }
   },
   "outputs": [],
   "source": [
    "import pandas as pd\n",
    "import numpy as np\n",
    "import seaborn as sns\n",
    "import matplotlib.pyplot as plt\n",
    "import scoring as sc #pip install scoring\n",
    "\n",
    "from sklearn.model_selection import train_test_split\n",
    "from sklearn.metrics import accuracy_score\n",
    "import warnings\n",
    "warnings.filterwarnings(\"ignore\")\n",
    "\n",
    "from sklearn.decomposition import PCA\n",
    "from sklearn import preprocessing\n",
    "from sklearn.feature_selection import SelectKBest\n",
    "from sklearn.feature_selection import chi2\n",
    "from sklearn.ensemble import RandomForestClassifier\n",
    "from boruta import BorutaPy\n",
    "from sklearn.ensemble import ExtraTreesClassifier\n",
    "from sklearn.model_selection import train_test_split as tts\n",
    "from sklearn.linear_model import LogisticRegression as lr\n",
    "import sklearn.metrics as metrics\n",
    "from sklearn.metrics import accuracy_score, confusion_matrix,classification_report,log_loss"
   ]
  },
  {
   "cell_type": "code",
   "execution_count": 130,
   "metadata": {},
   "outputs": [
    {
     "data": {
      "text/html": [
       "<div>\n",
       "<style scoped>\n",
       "    .dataframe tbody tr th:only-of-type {\n",
       "        vertical-align: middle;\n",
       "    }\n",
       "\n",
       "    .dataframe tbody tr th {\n",
       "        vertical-align: top;\n",
       "    }\n",
       "\n",
       "    .dataframe thead th {\n",
       "        text-align: right;\n",
       "    }\n",
       "</style>\n",
       "<table border=\"1\" class=\"dataframe\">\n",
       "  <thead>\n",
       "    <tr style=\"text-align: right;\">\n",
       "      <th></th>\n",
       "      <th>Age</th>\n",
       "      <th>Sex</th>\n",
       "      <th>Job</th>\n",
       "      <th>Housing</th>\n",
       "      <th>Saving accounts</th>\n",
       "      <th>Checking account</th>\n",
       "      <th>Credit amount</th>\n",
       "      <th>Duration</th>\n",
       "      <th>Purpose</th>\n",
       "      <th>Risk</th>\n",
       "    </tr>\n",
       "  </thead>\n",
       "  <tbody>\n",
       "    <tr>\n",
       "      <th>0</th>\n",
       "      <td>67</td>\n",
       "      <td>male</td>\n",
       "      <td>2</td>\n",
       "      <td>own</td>\n",
       "      <td>NaN</td>\n",
       "      <td>little</td>\n",
       "      <td>1169</td>\n",
       "      <td>6</td>\n",
       "      <td>radio/TV</td>\n",
       "      <td>good</td>\n",
       "    </tr>\n",
       "    <tr>\n",
       "      <th>1</th>\n",
       "      <td>22</td>\n",
       "      <td>female</td>\n",
       "      <td>2</td>\n",
       "      <td>own</td>\n",
       "      <td>little</td>\n",
       "      <td>moderate</td>\n",
       "      <td>5951</td>\n",
       "      <td>48</td>\n",
       "      <td>radio/TV</td>\n",
       "      <td>bad</td>\n",
       "    </tr>\n",
       "    <tr>\n",
       "      <th>2</th>\n",
       "      <td>49</td>\n",
       "      <td>male</td>\n",
       "      <td>1</td>\n",
       "      <td>own</td>\n",
       "      <td>little</td>\n",
       "      <td>NaN</td>\n",
       "      <td>2096</td>\n",
       "      <td>12</td>\n",
       "      <td>education</td>\n",
       "      <td>good</td>\n",
       "    </tr>\n",
       "    <tr>\n",
       "      <th>3</th>\n",
       "      <td>45</td>\n",
       "      <td>male</td>\n",
       "      <td>2</td>\n",
       "      <td>free</td>\n",
       "      <td>little</td>\n",
       "      <td>little</td>\n",
       "      <td>7882</td>\n",
       "      <td>42</td>\n",
       "      <td>furniture/equipment</td>\n",
       "      <td>good</td>\n",
       "    </tr>\n",
       "    <tr>\n",
       "      <th>4</th>\n",
       "      <td>53</td>\n",
       "      <td>male</td>\n",
       "      <td>2</td>\n",
       "      <td>free</td>\n",
       "      <td>little</td>\n",
       "      <td>little</td>\n",
       "      <td>4870</td>\n",
       "      <td>24</td>\n",
       "      <td>car</td>\n",
       "      <td>bad</td>\n",
       "    </tr>\n",
       "  </tbody>\n",
       "</table>\n",
       "</div>"
      ],
      "text/plain": [
       "   Age     Sex  Job Housing Saving accounts Checking account  Credit amount  \\\n",
       "0   67    male    2     own             NaN           little           1169   \n",
       "1   22  female    2     own          little         moderate           5951   \n",
       "2   49    male    1     own          little              NaN           2096   \n",
       "3   45    male    2    free          little           little           7882   \n",
       "4   53    male    2    free          little           little           4870   \n",
       "\n",
       "   Duration              Purpose  Risk  \n",
       "0         6             radio/TV  good  \n",
       "1        48             radio/TV   bad  \n",
       "2        12            education  good  \n",
       "3        42  furniture/equipment  good  \n",
       "4        24                  car   bad  "
      ]
     },
     "execution_count": 130,
     "metadata": {},
     "output_type": "execute_result"
    }
   ],
   "source": [
    "df=pd.read_csv('gc.csv')\n",
    "df.head()\n"
   ]
  },
  {
   "cell_type": "markdown",
   "metadata": {},
   "source": [
    "# Boxplot"
   ]
  },
  {
   "cell_type": "code",
   "execution_count": 3,
   "metadata": {},
   "outputs": [
    {
     "data": {
      "text/plain": [
       "<matplotlib.axes._subplots.AxesSubplot at 0x205ca136a90>"
      ]
     },
     "execution_count": 3,
     "metadata": {},
     "output_type": "execute_result"
    },
    {
     "data": {
      "image/png": "[encoded data removed]",
      "text/plain": [
       "<Figure size 432x288 with 1 Axes>"
      ]
     },
     "metadata": {
      "needs_background": "light"
     },
     "output_type": "display_data"
    }
   ],
   "source": [
    "df.boxplot()"
   ]
  },
  {
   "cell_type": "markdown",
   "metadata": {},
   "source": [
    "# correlation matrix"
   ]
  },
  {
   "cell_type": "code",
   "execution_count": 87,
   "metadata": {
    "scrolled": true
   },
   "outputs": [
    {
     "data": {
      "image/png": "[encoded data removed]",
      "text/plain": [
       "<Figure size 432x288 with 2 Axes>"
      ]
     },
     "metadata": {
      "needs_background": "light"
     },
     "output_type": "display_data"
    }
   ],
   "source": [
    "import seaborn as sn\n",
    "import matplotlib.pyplot as plt\n",
    "corrMatrix = df.corr()\n",
    "sn.heatmap(corrMatrix, annot=True)\n",
    "plt.show()"
   ]
  },
  {
   "cell_type": "markdown",
   "metadata": {},
   "source": [
    "# Yet to handle null values"
   ]
  },
  {
   "cell_type": "code",
   "execution_count": 84,
   "metadata": {},
   "outputs": [
    {
     "data": {
      "text/plain": [
       "0       NaN\n",
       "1      22.0\n",
       "2      49.0\n",
       "3      45.0\n",
       "4      53.0\n",
       "       ... \n",
       "995    31.0\n",
       "996    40.0\n",
       "997    38.0\n",
       "998    23.0\n",
       "999    27.0\n",
       "Name: Age, Length: 1000, dtype: float64"
      ]
     },
     "execution_count": 84,
     "metadata": {},
     "output_type": "execute_result"
    }
   ],
   "source": [
    "df.isnull().sum()\n",
    "#df['Age'].fillna(df['Age'].mean()) //use fillna method\n"
   ]
  },
  {
   "cell_type": "markdown",
   "metadata": {},
   "source": [
    "# Missing values plot"
   ]
  },
  {
   "cell_type": "code",
   "execution_count": 65,
   "metadata": {},
   "outputs": [
    {
     "data": {
      "text/plain": [
       "<matplotlib.axes._subplots.AxesSubplot at 0x205cf3f1940>"
      ]
     },
     "execution_count": 65,
     "metadata": {},
     "output_type": "execute_result"
    },
    {
     "data": {
      "image/png": "[encoded data removed]",
      "text/plain": [
       "<Figure size 864x432 with 3 Axes>"
      ]
     },
     "metadata": {
      "needs_background": "light"
     },
     "output_type": "display_data"
    }
   ],
   "source": [
    "import missingno as msno\n",
    "import matplotlib.pyplot as plt\n",
    "msno.bar(df, figsize=(12, 6), fontsize=12, color='steelblue')"
   ]
  },
  {
   "cell_type": "markdown",
   "metadata": {},
   "source": [
    "# (GET DUMMIES) Encode categorical values to columns "
   ]
  },
  {
   "cell_type": "code",
   "execution_count": 131,
   "metadata": {},
   "outputs": [
    {
     "data": {
      "text/html": [
       "<div>\n",
       "<style scoped>\n",
       "    .dataframe tbody tr th:only-of-type {\n",
       "        vertical-align: middle;\n",
       "    }\n",
       "\n",
       "    .dataframe tbody tr th {\n",
       "        vertical-align: top;\n",
       "    }\n",
       "\n",
       "    .dataframe thead th {\n",
       "        text-align: right;\n",
       "    }\n",
       "</style>\n",
       "<table border=\"1\" class=\"dataframe\">\n",
       "  <thead>\n",
       "    <tr style=\"text-align: right;\">\n",
       "      <th></th>\n",
       "      <th>Age</th>\n",
       "      <th>Job</th>\n",
       "      <th>Credit amount</th>\n",
       "      <th>Duration</th>\n",
       "      <th>Sex_female</th>\n",
       "      <th>Sex_male</th>\n",
       "      <th>Housing_free</th>\n",
       "      <th>Housing_own</th>\n",
       "      <th>Housing_rent</th>\n",
       "      <th>Saving accounts_little</th>\n",
       "      <th>...</th>\n",
       "      <th>Checking account_rich</th>\n",
       "      <th>Purpose_business</th>\n",
       "      <th>Purpose_car</th>\n",
       "      <th>Purpose_domestic appliances</th>\n",
       "      <th>Purpose_education</th>\n",
       "      <th>Purpose_furniture/equipment</th>\n",
       "      <th>Purpose_radio/TV</th>\n",
       "      <th>Purpose_repairs</th>\n",
       "      <th>Purpose_vacation/others</th>\n",
       "      <th>output</th>\n",
       "    </tr>\n",
       "  </thead>\n",
       "  <tbody>\n",
       "    <tr>\n",
       "      <th>0</th>\n",
       "      <td>67</td>\n",
       "      <td>2</td>\n",
       "      <td>1169</td>\n",
       "      <td>6</td>\n",
       "      <td>0</td>\n",
       "      <td>1</td>\n",
       "      <td>0</td>\n",
       "      <td>1</td>\n",
       "      <td>0</td>\n",
       "      <td>0</td>\n",
       "      <td>...</td>\n",
       "      <td>0</td>\n",
       "      <td>0</td>\n",
       "      <td>0</td>\n",
       "      <td>0</td>\n",
       "      <td>0</td>\n",
       "      <td>0</td>\n",
       "      <td>1</td>\n",
       "      <td>0</td>\n",
       "      <td>0</td>\n",
       "      <td>0</td>\n",
       "    </tr>\n",
       "    <tr>\n",
       "      <th>1</th>\n",
       "      <td>22</td>\n",
       "      <td>2</td>\n",
       "      <td>5951</td>\n",
       "      <td>48</td>\n",
       "      <td>1</td>\n",
       "      <td>0</td>\n",
       "      <td>0</td>\n",
       "      <td>1</td>\n",
       "      <td>0</td>\n",
       "      <td>1</td>\n",
       "      <td>...</td>\n",
       "      <td>0</td>\n",
       "      <td>0</td>\n",
       "      <td>0</td>\n",
       "      <td>0</td>\n",
       "      <td>0</td>\n",
       "      <td>0</td>\n",
       "      <td>1</td>\n",
       "      <td>0</td>\n",
       "      <td>0</td>\n",
       "      <td>1</td>\n",
       "    </tr>\n",
       "    <tr>\n",
       "      <th>2</th>\n",
       "      <td>49</td>\n",
       "      <td>1</td>\n",
       "      <td>2096</td>\n",
       "      <td>12</td>\n",
       "      <td>0</td>\n",
       "      <td>1</td>\n",
       "      <td>0</td>\n",
       "      <td>1</td>\n",
       "      <td>0</td>\n",
       "      <td>1</td>\n",
       "      <td>...</td>\n",
       "      <td>0</td>\n",
       "      <td>0</td>\n",
       "      <td>0</td>\n",
       "      <td>0</td>\n",
       "      <td>1</td>\n",
       "      <td>0</td>\n",
       "      <td>0</td>\n",
       "      <td>0</td>\n",
       "      <td>0</td>\n",
       "      <td>0</td>\n",
       "    </tr>\n",
       "    <tr>\n",
       "      <th>3</th>\n",
       "      <td>45</td>\n",
       "      <td>2</td>\n",
       "      <td>7882</td>\n",
       "      <td>42</td>\n",
       "      <td>0</td>\n",
       "      <td>1</td>\n",
       "      <td>1</td>\n",
       "      <td>0</td>\n",
       "      <td>0</td>\n",
       "      <td>1</td>\n",
       "      <td>...</td>\n",
       "      <td>0</td>\n",
       "      <td>0</td>\n",
       "      <td>0</td>\n",
       "      <td>0</td>\n",
       "      <td>0</td>\n",
       "      <td>1</td>\n",
       "      <td>0</td>\n",
       "      <td>0</td>\n",
       "      <td>0</td>\n",
       "      <td>0</td>\n",
       "    </tr>\n",
       "    <tr>\n",
       "      <th>4</th>\n",
       "      <td>53</td>\n",
       "      <td>2</td>\n",
       "      <td>4870</td>\n",
       "      <td>24</td>\n",
       "      <td>0</td>\n",
       "      <td>1</td>\n",
       "      <td>1</td>\n",
       "      <td>0</td>\n",
       "      <td>0</td>\n",
       "      <td>1</td>\n",
       "      <td>...</td>\n",
       "      <td>0</td>\n",
       "      <td>0</td>\n",
       "      <td>1</td>\n",
       "      <td>0</td>\n",
       "      <td>0</td>\n",
       "      <td>0</td>\n",
       "      <td>0</td>\n",
       "      <td>0</td>\n",
       "      <td>0</td>\n",
       "      <td>1</td>\n",
       "    </tr>\n",
       "  </tbody>\n",
       "</table>\n",
       "<p>5 rows × 25 columns</p>\n",
       "</div>"
      ],
      "text/plain": [
       "   Age  Job  Credit amount  Duration  Sex_female  Sex_male  Housing_free  \\\n",
       "0   67    2           1169         6           0         1             0   \n",
       "1   22    2           5951        48           1         0             0   \n",
       "2   49    1           2096        12           0         1             0   \n",
       "3   45    2           7882        42           0         1             1   \n",
       "4   53    2           4870        24           0         1             1   \n",
       "\n",
       "   Housing_own  Housing_rent  Saving accounts_little  ...  \\\n",
       "0            1             0                       0  ...   \n",
       "1            1             0                       1  ...   \n",
       "2            1             0                       1  ...   \n",
       "3            0             0                       1  ...   \n",
       "4            0             0                       1  ...   \n",
       "\n",
       "   Checking account_rich  Purpose_business  Purpose_car  \\\n",
       "0                      0                 0            0   \n",
       "1                      0                 0            0   \n",
       "2                      0                 0            0   \n",
       "3                      0                 0            0   \n",
       "4                      0                 0            1   \n",
       "\n",
       "   Purpose_domestic appliances  Purpose_education  \\\n",
       "0                            0                  0   \n",
       "1                            0                  0   \n",
       "2                            0                  1   \n",
       "3                            0                  0   \n",
       "4                            0                  0   \n",
       "\n",
       "   Purpose_furniture/equipment  Purpose_radio/TV  Purpose_repairs  \\\n",
       "0                            0                 1                0   \n",
       "1                            0                 1                0   \n",
       "2                            0                 0                0   \n",
       "3                            1                 0                0   \n",
       "4                            0                 0                0   \n",
       "\n",
       "   Purpose_vacation/others  output  \n",
       "0                        0       0  \n",
       "1                        0       1  \n",
       "2                        0       0  \n",
       "3                        0       0  \n",
       "4                        0       1  \n",
       "\n",
       "[5 rows x 25 columns]"
      ]
     },
     "execution_count": 131,
     "metadata": {},
     "output_type": "execute_result"
    }
   ],
   "source": [
    "df=pd.get_dummies(df)\n",
    "df.drop(['Risk_good'],axis=1,inplace=True)\n",
    "\n",
    "df.rename({'Risk_bad':'output'},axis=1,inplace=True)\n",
    "df.head()\n",
    "\n",
    "#To make 0 or 1\n",
    "#df['col1'] = df['col1'].apply(lambda x: 1 if x <= period else 0)"
   ]
  },
  {
   "cell_type": "markdown",
   "metadata": {},
   "source": [
    "# Remove Features with constant values (less variance)"
   ]
  },
  {
   "cell_type": "code",
   "execution_count": 7,
   "metadata": {},
   "outputs": [
    {
     "name": "stdout",
     "output_type": "stream",
     "text": [
      "features before removing constant columns 25\n",
      "features after removing constant columns 25\n"
     ]
    }
   ],
   "source": [
    "from sklearn.feature_selection import VarianceThreshold\n",
    "print(\"features before removing constant columns\",len(df.columns))\n",
    "var_t=VarianceThreshold(threshold=0)\n",
    "var_t.fit_transform(df)\n",
    "\n",
    "print(\"features after removing constant columns\",len(df.columns[var_t.get_support()]))"
   ]
  },
  {
   "cell_type": "markdown",
   "metadata": {},
   "source": [
    "# Remove Less correlated Features"
   ]
  },
  {
   "cell_type": "code",
   "execution_count": 8,
   "metadata": {},
   "outputs": [
    {
     "name": "stdout",
     "output_type": "stream",
     "text": [
      "consider features with correlation more than 0.05 only\n",
      "===================================================\n",
      "Original Features 25\n",
      "Relevant Features 15\n"
     ]
    }
   ],
   "source": [
    "print('consider features with correlation more than 0.05 only')\n",
    "print('===================================================')\n",
    "print(\"Original Features\",len(df.columns))\n",
    "corr=df.corr()\n",
    "corr_target=abs(corr['output'])\n",
    "\n",
    "relevant_features=corr_target[corr_target>0.05] \n",
    "print(\"Relevant Features\",len(relevant_features))\n"
   ]
  },
  {
   "cell_type": "markdown",
   "metadata": {},
   "source": [
    "# Recursive Feature Elimination"
   ]
  },
  {
   "cell_type": "code",
   "execution_count": 9,
   "metadata": {},
   "outputs": [
    {
     "name": "stdout",
     "output_type": "stream",
     "text": [
      "Num Features: 7\n",
      "Selected Features: [False False False False False False False  True False  True  True False\n",
      " False  True  True  True False False False  True False False False False] Index(['Age', 'Job', 'Credit amount', 'Duration', 'Sex_female', 'Sex_male',\n",
      "       'Housing_free', 'Housing_own', 'Housing_rent', 'Saving accounts_little',\n",
      "       'Saving accounts_moderate', 'Saving accounts_quite rich',\n",
      "       'Saving accounts_rich', 'Checking account_little',\n",
      "       'Checking account_moderate', 'Checking account_rich',\n",
      "       'Purpose_business', 'Purpose_car', 'Purpose_domestic appliances',\n",
      "       'Purpose_education', 'Purpose_furniture/equipment', 'Purpose_radio/TV',\n",
      "       'Purpose_repairs', 'Purpose_vacation/others'],\n",
      "      dtype='object')\n",
      "Feature Ranking: [17 16 18 15  4  8 10  1 11  1  1  7  2  1  1  1  5 12 14  1  9  3  6 13]\n",
      "\n",
      "\n",
      "List of top 7 features\n",
      "======================\n"
     ]
    },
    {
     "data": {
      "text/html": [
       "<div>\n",
       "<style scoped>\n",
       "    .dataframe tbody tr th:only-of-type {\n",
       "        vertical-align: middle;\n",
       "    }\n",
       "\n",
       "    .dataframe tbody tr th {\n",
       "        vertical-align: top;\n",
       "    }\n",
       "\n",
       "    .dataframe thead th {\n",
       "        text-align: right;\n",
       "    }\n",
       "</style>\n",
       "<table border=\"1\" class=\"dataframe\">\n",
       "  <thead>\n",
       "    <tr style=\"text-align: right;\">\n",
       "      <th></th>\n",
       "      <th>features</th>\n",
       "      <th>active</th>\n",
       "    </tr>\n",
       "  </thead>\n",
       "  <tbody>\n",
       "    <tr>\n",
       "      <th>7</th>\n",
       "      <td>Housing_own</td>\n",
       "      <td>True</td>\n",
       "    </tr>\n",
       "    <tr>\n",
       "      <th>9</th>\n",
       "      <td>Saving accounts_little</td>\n",
       "      <td>True</td>\n",
       "    </tr>\n",
       "    <tr>\n",
       "      <th>10</th>\n",
       "      <td>Saving accounts_moderate</td>\n",
       "      <td>True</td>\n",
       "    </tr>\n",
       "    <tr>\n",
       "      <th>13</th>\n",
       "      <td>Checking account_little</td>\n",
       "      <td>True</td>\n",
       "    </tr>\n",
       "    <tr>\n",
       "      <th>14</th>\n",
       "      <td>Checking account_moderate</td>\n",
       "      <td>True</td>\n",
       "    </tr>\n",
       "    <tr>\n",
       "      <th>15</th>\n",
       "      <td>Checking account_rich</td>\n",
       "      <td>True</td>\n",
       "    </tr>\n",
       "    <tr>\n",
       "      <th>19</th>\n",
       "      <td>Purpose_education</td>\n",
       "      <td>True</td>\n",
       "    </tr>\n",
       "  </tbody>\n",
       "</table>\n",
       "</div>"
      ],
      "text/plain": [
       "                     features  active\n",
       "7                 Housing_own    True\n",
       "9      Saving accounts_little    True\n",
       "10   Saving accounts_moderate    True\n",
       "13    Checking account_little    True\n",
       "14  Checking account_moderate    True\n",
       "15      Checking account_rich    True\n",
       "19          Purpose_education    True"
      ]
     },
     "execution_count": 9,
     "metadata": {},
     "output_type": "execute_result"
    }
   ],
   "source": [
    "from sklearn.feature_selection import RFE\n",
    "from sklearn.linear_model import LogisticRegression\n",
    "# Feature extraction\n",
    "X = df.loc[:, df.columns != 'output']\n",
    "Y= df.loc[:,'output']\n",
    "\n",
    "model = LogisticRegression()\n",
    "rfe = RFE(model, n_features_to_select=7)\n",
    "fit = rfe.fit(X, Y)\n",
    "print(\"Num Features: %s\" % (fit.n_features_))\n",
    "print(\"Selected Features: %s\" % (fit.support_),X.columns)\n",
    "print(\"Feature Ranking: %s\" % (fit.ranking_))\n",
    "\n",
    "temp=pd.DataFrame(columns=['features','active'])\n",
    "temp['features']=X.columns\n",
    "temp['active']=fit.support_\n",
    "relevant_features=temp[temp['active']]\n",
    "print(\"\\n\\nList of top %s features\" % (fit.n_features_))\n",
    "print(\"======================\")\n",
    "relevant_features"
   ]
  },
  {
   "cell_type": "markdown",
   "metadata": {},
   "source": [
    "# Random forest feature importances (with robust permutation)"
   ]
  },
  {
   "cell_type": "code",
   "execution_count": 112,
   "metadata": {},
   "outputs": [
    {
     "name": "stdout",
     "output_type": "stream",
     "text": [
      "R^2 Training Score: 0.88 \n",
      "OOB Score: 0.13 \n",
      "R^2 Validation Score: 0.12\n"
     ]
    },
    {
     "data": {
      "text/html": [
       "<div>\n",
       "<style scoped>\n",
       "    .dataframe tbody tr th:only-of-type {\n",
       "        vertical-align: middle;\n",
       "    }\n",
       "\n",
       "    .dataframe tbody tr th {\n",
       "        vertical-align: top;\n",
       "    }\n",
       "\n",
       "    .dataframe thead th {\n",
       "        text-align: right;\n",
       "    }\n",
       "</style>\n",
       "<table border=\"1\" class=\"dataframe\">\n",
       "  <thead>\n",
       "    <tr style=\"text-align: right;\">\n",
       "      <th></th>\n",
       "      <th>Importance</th>\n",
       "    </tr>\n",
       "    <tr>\n",
       "      <th>Feature</th>\n",
       "      <th></th>\n",
       "    </tr>\n",
       "  </thead>\n",
       "  <tbody>\n",
       "    <tr>\n",
       "      <th>Checking account_little</th>\n",
       "      <td>0.473859</td>\n",
       "    </tr>\n",
       "    <tr>\n",
       "      <th>Credit amount</th>\n",
       "      <td>0.389429</td>\n",
       "    </tr>\n",
       "    <tr>\n",
       "      <th>Duration</th>\n",
       "      <td>0.387928</td>\n",
       "    </tr>\n",
       "    <tr>\n",
       "      <th>Age</th>\n",
       "      <td>0.296704</td>\n",
       "    </tr>\n",
       "    <tr>\n",
       "      <th>Checking account_moderate</th>\n",
       "      <td>0.277261</td>\n",
       "    </tr>\n",
       "    <tr>\n",
       "      <th>Saving accounts_little</th>\n",
       "      <td>0.140036</td>\n",
       "    </tr>\n",
       "    <tr>\n",
       "      <th>Job</th>\n",
       "      <td>0.108226</td>\n",
       "    </tr>\n",
       "    <tr>\n",
       "      <th>Purpose_car</th>\n",
       "      <td>0.037296</td>\n",
       "    </tr>\n",
       "    <tr>\n",
       "      <th>Purpose_business</th>\n",
       "      <td>0.036265</td>\n",
       "    </tr>\n",
       "    <tr>\n",
       "      <th>Purpose_furniture/equipment</th>\n",
       "      <td>0.033995</td>\n",
       "    </tr>\n",
       "    <tr>\n",
       "      <th>Purpose_radio/TV</th>\n",
       "      <td>0.029197</td>\n",
       "    </tr>\n",
       "    <tr>\n",
       "      <th>Housing_own</th>\n",
       "      <td>0.025503</td>\n",
       "    </tr>\n",
       "    <tr>\n",
       "      <th>Saving accounts_quite rich</th>\n",
       "      <td>0.023895</td>\n",
       "    </tr>\n",
       "    <tr>\n",
       "      <th>Sex_female</th>\n",
       "      <td>0.023354</td>\n",
       "    </tr>\n",
       "    <tr>\n",
       "      <th>Saving accounts_moderate</th>\n",
       "      <td>0.023071</td>\n",
       "    </tr>\n",
       "    <tr>\n",
       "      <th>Housing_free</th>\n",
       "      <td>0.019248</td>\n",
       "    </tr>\n",
       "    <tr>\n",
       "      <th>Purpose_education</th>\n",
       "      <td>0.018527</td>\n",
       "    </tr>\n",
       "    <tr>\n",
       "      <th>Housing_rent</th>\n",
       "      <td>0.017678</td>\n",
       "    </tr>\n",
       "    <tr>\n",
       "      <th>Sex_male</th>\n",
       "      <td>0.017646</td>\n",
       "    </tr>\n",
       "    <tr>\n",
       "      <th>Checking account_rich</th>\n",
       "      <td>0.010343</td>\n",
       "    </tr>\n",
       "    <tr>\n",
       "      <th>Purpose_repairs</th>\n",
       "      <td>0.005940</td>\n",
       "    </tr>\n",
       "    <tr>\n",
       "      <th>Saving accounts_rich</th>\n",
       "      <td>0.002583</td>\n",
       "    </tr>\n",
       "    <tr>\n",
       "      <th>Purpose_vacation/others</th>\n",
       "      <td>0.001098</td>\n",
       "    </tr>\n",
       "    <tr>\n",
       "      <th>Purpose_domestic appliances</th>\n",
       "      <td>0.000211</td>\n",
       "    </tr>\n",
       "  </tbody>\n",
       "</table>\n",
       "</div>"
      ],
      "text/plain": [
       "                             Importance\n",
       "Feature                                \n",
       "Checking account_little        0.473859\n",
       "Credit amount                  0.389429\n",
       "Duration                       0.387928\n",
       "Age                            0.296704\n",
       "Checking account_moderate      0.277261\n",
       "Saving accounts_little         0.140036\n",
       "Job                            0.108226\n",
       "Purpose_car                    0.037296\n",
       "Purpose_business               0.036265\n",
       "Purpose_furniture/equipment    0.033995\n",
       "Purpose_radio/TV               0.029197\n",
       "Housing_own                    0.025503\n",
       "Saving accounts_quite rich     0.023895\n",
       "Sex_female                     0.023354\n",
       "Saving accounts_moderate       0.023071\n",
       "Housing_free                   0.019248\n",
       "Purpose_education              0.018527\n",
       "Housing_rent                   0.017678\n",
       "Sex_male                       0.017646\n",
       "Checking account_rich          0.010343\n",
       "Purpose_repairs                0.005940\n",
       "Saving accounts_rich           0.002583\n",
       "Purpose_vacation/others        0.001098\n",
       "Purpose_domestic appliances    0.000211"
      ]
     },
     "execution_count": 112,
     "metadata": {},
     "output_type": "execute_result"
    }
   ],
   "source": [
    "\n",
    "from sklearn.ensemble import RandomForestRegressor\n",
    "\n",
    "rf = RandomForestRegressor(n_estimators = 100,\n",
    "                           n_jobs = -1,\n",
    "                           oob_score = True,\n",
    "                           bootstrap = True,\n",
    "                           random_state = 42)\n",
    "rf.fit(x_train, y_train)\n",
    "\n",
    "print('R^2 Training Score: {:.2f} \\nOOB Score: {:.2f} \\nR^2 Validation Score: {:.2f}'.format(rf.score(x_train, y_train), \n",
    "                                                                                             rf.oob_score_,\n",
    "                                                                                             rf.score(x_test, y_test)))\n",
    "from sklearn.metrics import r2_score\n",
    "from rfpimp import permutation_importances\n",
    "\n",
    "def r2(rf, x_train, y_train):\n",
    "    return r2_score(y_train, rf.predict(x_train))\n",
    "\n",
    "perm_imp_rfpimp = permutation_importances(rf, x_train, y_train, r2)\n",
    "\n",
    "perm_imp_rfpimp"
   ]
  },
  {
   "cell_type": "markdown",
   "metadata": {},
   "source": [
    "# PCA with scaled data"
   ]
  },
  {
   "cell_type": "code",
   "execution_count": 10,
   "metadata": {},
   "outputs": [
    {
     "data": {
      "image/png": "[encoded data removed]",
      "text/plain": [
       "<Figure size 432x288 with 1 Axes>"
      ]
     },
     "metadata": {
      "needs_background": "light"
     },
     "output_type": "display_data"
    },
    {
     "name": "stdout",
     "output_type": "stream",
     "text": [
      "Top 15 important features\n",
      "====================\n",
      " Sex_female                     0.502448\n",
      "Sex_male                       0.502448\n",
      "Housing_rent                   0.300307\n",
      "Credit amount                  0.297874\n",
      "Duration                       0.273733\n",
      "Age                            0.213512\n",
      "Housing_free                   0.203898\n",
      "Purpose_furniture/equipment    0.187075\n",
      "Job                            0.180293\n",
      "Purpose_business               0.124031\n",
      "Purpose_car                    0.117995\n",
      "Housing_own                    0.114593\n",
      "Purpose_vacation/others        0.110259\n",
      "Saving accounts_little         0.085676\n",
      "Checking account_little        0.084363\n",
      "dtype: float64\n"
     ]
    }
   ],
   "source": [
    "scaled_data = preprocessing.scale(df)\n",
    "pca = PCA()\n",
    "pca.fit(scaled_data)\n",
    "pca_data = pca.transform(scaled_data)\n",
    "per_var = np.round(pca.explained_variance_ratio_*100, decimals =1 )\n",
    "labels = ['PC' +str(x) for x in range(1,len(per_var)+1)]\n",
    "\n",
    "## Plotting the scree plot to explain the maximum variance \n",
    "plt.ylabel('Percentage of Explained Variance')\n",
    "plt.xlabel('Principal Component')\n",
    "plt.title('screen Plot')\n",
    "plt.bar(x = range(1, len(per_var)+1), height = per_var,tick_label = labels)\n",
    "plt.show()\n",
    "# All of the variance is being explained with PC1 itself \n",
    "loading_scores = pd.Series(pca.components_[0], index=df.columns)\n",
    "sorted_loading_scores = loading_scores.abs().sort_values(ascending = False)\n",
    "top_15_Features = sorted_loading_scores[0:15]\n",
    "print('Top 15 important features\\n====================\\n',top_15_Features)"
   ]
  },
  {
   "cell_type": "markdown",
   "metadata": {},
   "source": [
    "# PCA with algorithm"
   ]
  },
  {
   "cell_type": "code",
   "execution_count": 11,
   "metadata": {},
   "outputs": [
    {
     "name": "stdout",
     "output_type": "stream",
     "text": [
      "Accuracy: 79.0%\n",
      "Log_loss: 0.47339876797670816\n",
      "\n",
      "CONFUSION MATRIX\n",
      "=======================\n",
      "\n",
      " [[207   3]\n",
      " [ 60  30]]\n",
      "\n",
      "CLASSIFICATION REPORT\n",
      "=======================\n",
      "              precision    recall  f1-score   support\n",
      "\n",
      "           0       0.78      0.99      0.87       210\n",
      "           1       0.91      0.33      0.49        90\n",
      "\n",
      "    accuracy                           0.79       300\n",
      "   macro avg       0.84      0.66      0.68       300\n",
      "weighted avg       0.82      0.79      0.75       300\n",
      "\n",
      "================================\n",
      "Total no of TestSamples taken : 300\n",
      "================================\n"
     ]
    }
   ],
   "source": [
    "scaled_data = preprocessing.scale(df)\n",
    "pca = PCA(n_components=10,random_state=10)\n",
    "pca_data = pca.fit_transform(scaled_data)\n",
    "x_train,x_test,y_train,y_test = train_test_split(pca_data, df['output'], test_size=0.3, random_state=10,stratify=df['output'])\n",
    "from sklearn.ensemble import RandomForestClassifier\n",
    "clf = RandomForestClassifier(n_estimators=500,max_depth=2, random_state=0)\n",
    "model=clf.fit(x_train, y_train)\n",
    "prediction = model.predict(x_test)\n",
    "print(\"Accuracy: {}%\".format(round(accuracy_score(y_test, prediction)*100,2)))\n",
    "\n",
    "train_predictions = model.predict_proba(x_test)\n",
    "ll = log_loss(y_test, train_predictions)\n",
    "print(\"Log_loss:\",ll)\n",
    "\n",
    "print('\\nCONFUSION MATRIX')\n",
    "print('=======================')\n",
    "print('\\n',confusion_matrix(y_test, prediction))\n",
    "print('\\nCLASSIFICATION REPORT')\n",
    "print('=======================')\n",
    "print(classification_report(y_test, prediction))\n",
    "print('================================')\n",
    "print('Total no of TestSamples taken :', confusion_matrix(y_test, prediction).sum())\n",
    "print('================================')"
   ]
  },
  {
   "cell_type": "markdown",
   "metadata": {},
   "source": [
    "# Train Test split "
   ]
  },
  {
   "cell_type": "code",
   "execution_count": 12,
   "metadata": {
    "ExecuteTime": {
     "end_time": "2019-03-21T08:21:14.756375Z",
     "start_time": "2019-03-21T08:21:14.621708Z"
    }
   },
   "outputs": [],
   "source": [
    "x_train,x_test,y_train,y_test= train_test_split(df.iloc[:,0:24], df['output'], test_size=0.3, random_state=10,stratify=df['output'])\n"
   ]
  },
  {
   "cell_type": "markdown",
   "metadata": {},
   "source": [
    "# Evaluation Metrics"
   ]
  },
  {
   "cell_type": "code",
   "execution_count": 21,
   "metadata": {},
   "outputs": [
    {
     "name": "stdout",
     "output_type": "stream",
     "text": [
      "Accuracy: 70.0%\n",
      "Log_loss: 0.575288099887779\n",
      "\n",
      "CONFUSION MATRIX\n",
      "=======================\n"
     ]
    },
    {
     "data": {
      "image/png": "[encoded data removed]",
      "text/plain": [
       "<Figure size 432x288 with 2 Axes>"
      ]
     },
     "metadata": {
      "needs_background": "light"
     },
     "output_type": "display_data"
    },
    {
     "name": "stdout",
     "output_type": "stream",
     "text": [
      "\n",
      "CLASSIFICATION REPORT\n",
      "=======================\n",
      "              precision    recall  f1-score   support\n",
      "\n",
      "           0       0.70      1.00      0.82       210\n",
      "           1       0.00      0.00      0.00        90\n",
      "\n",
      "    accuracy                           0.70       300\n",
      "   macro avg       0.35      0.50      0.41       300\n",
      "weighted avg       0.49      0.70      0.58       300\n",
      "\n",
      "================================\n",
      "Total no of TestSamples taken : 300\n",
      "================================\n"
     ]
    }
   ],
   "source": [
    "from sklearn.ensemble import RandomForestClassifier\n",
    "clf = RandomForestClassifier(n_estimators=500,max_depth=2, random_state=0)\n",
    "model=clf.fit(x_train, y_train)\n",
    "prediction = model.predict(x_test)\n",
    "print(\"Accuracy: {}%\".format(round(accuracy_score(y_test, prediction)*100,2)))\n",
    "\n",
    "train_predictions = model.predict_proba(x_test)\n",
    "ll = log_loss(y_test, train_predictions)\n",
    "print(\"Log_loss:\",ll)\n",
    "\n",
    "print('\\nCONFUSION MATRIX')\n",
    "print('=======================')\n",
    "\n",
    "from mlxtend.plotting import plot_confusion_matrix\n",
    "multiclass =confusion_matrix(y_test, prediction)\n",
    "\n",
    "class_names = ['Risk','No Risk']\n",
    "\n",
    "fig, ax = plot_confusion_matrix(conf_mat=multiclass,\n",
    "                                colorbar=True,\n",
    "                                show_absolute=True,\n",
    "                                show_normed=False,\n",
    "                                class_names=class_names)\n",
    "plt.show()\n",
    "\n",
    "print('\\nCLASSIFICATION REPORT')\n",
    "print('=======================')\n",
    "print(classification_report(y_test, prediction))\n",
    "print('================================')\n",
    "print('Total no of TestSamples taken :', confusion_matrix(y_test, prediction).sum())\n",
    "print('================================')"
   ]
  },
  {
   "cell_type": "markdown",
   "metadata": {},
   "source": [
    "# TF-IDF"
   ]
  },
  {
   "cell_type": "code",
   "execution_count": 27,
   "metadata": {},
   "outputs": [
    {
     "name": "stdout",
     "output_type": "stream",
     "text": [
      "['about', 'ai', 'any', 'artificial', 'at', 'building', 'business', 'capability', 'centre', 'challenges', 'chat', 'chatbot', 'contact', 'davtyan', 'deliver', 'doc1', 'doc2', 'doc3', 'doc4', 'dot', 'email', 'filament', 'framework', 'have', 'if', 'information', 'intelligence', 'learning', 'machine', 'maintaining', 'martin', 'our', 'out', 'questions', 'reach', 'scalable', 'server', 'solutions', 'solve', 'us', 'we', 'you']\n",
      "\n",
      "Vector form of Query\n",
      "==================\n",
      " Query->contact email to chat to martin\n",
      "\n",
      " Query vector->[[0.         0.         0.         0.         0.         0.\n",
      "  0.         0.         0.         0.         0.43779123 0.\n",
      "  0.43779123 0.         0.         0.         0.         0.\n",
      "  0.         0.         0.55528266 0.         0.         0.\n",
      "  0.         0.         0.         0.         0.         0.\n",
      "  0.55528266 0.         0.         0.         0.         0.\n",
      "  0.         0.         0.         0.         0.         0.        ]]\n"
     ]
    }
   ],
   "source": [
    "from sklearn.feature_extraction.text import TfidfVectorizer\n",
    "corpus = [\n",
    "    '''Doc1 contact to server chat and reach out our centre''',\n",
    "    '''Doc2 About us. We deliver Artificial Intelligence & Machine Learning\n",
    "       solutions to solve business challenges.''',\n",
    "    '''Doc3 Contact information. Email [martin davtyan at filament dot ai]\n",
    "       if you have any questions''',\n",
    "    '''Doc4 Filament Chat. A framework for building and maintaining a scalable\n",
    "       chatbot capability''',\n",
    "    \n",
    "]\n",
    "stoplist = set('for a of the and to in'.split())\n",
    "vectorizer = TfidfVectorizer(stop_words=stoplist)\n",
    "X = vectorizer.fit_transform(corpus)\n",
    "print(vectorizer.get_feature_names())\n",
    "\n",
    "query = 'contact email to chat to martin'\n",
    "query_vector = vectorizer.transform([query]).todense()\n",
    "print('\\nVector form of Query\\n==================\\n Query->%s\\n\\n Query vector->%s'%(query,query_vector))"
   ]
  },
  {
   "cell_type": "code",
   "execution_count": 34,
   "metadata": {},
   "outputs": [
    {
     "name": "stdout",
     "output_type": "stream",
     "text": [
      "simalarity score of the Query w.r.t documents in corpus->\n",
      " [[0.25649872 0.         0.38572321 0.12021882]]\n",
      "\n",
      "\n",
      "Most relevant document==>\n",
      " Doc3 Contact information. Email [martin davtyan at filament dot ai]\n",
      "       if you have any questions\n"
     ]
    }
   ],
   "source": [
    "#https://medium.com/filament-ai/making-text-search-learn-from-feedback-4fe210fd87b0\n",
    "from sklearn.metrics.pairwise import cosine_similarity\n",
    "\n",
    "doc_vectors = vectorizer.transform(corpus)\n",
    "similarity = cosine_similarity(query_vector, doc_vectors)\n",
    "print('simalarity score of the Query w.r.t documents in corpus->\\n',similarity)\n",
    "ranks = (-similarity).argsort(axis=None)\n",
    "ranks\n",
    "most_relevant_doc = corpus[ranks[0]]\n",
    "print('\\n\\nMost relevant document==>\\n',most_relevant_doc)"
   ]
  },
  {
   "cell_type": "code",
   "execution_count": 42,
   "metadata": {},
   "outputs": [
    {
     "data": {
      "text/plain": [
       "'Doc1 contact to server chat and reach out our centre'"
      ]
     },
     "execution_count": 42,
     "metadata": {},
     "output_type": "execute_result"
    }
   ],
   "source": [
    "#https://medium.com/filament-ai/making-text-search-learn-from-feedback-4fe210fd87b0\n",
    "feedback = {\n",
    "        'who makes chatbots': [(2, 0.), (0, 1.), (1, 1.), (0, 1.)],\n",
    "        'about page': [(0, 1.)],\n",
    "        'chatbots are handy tool':[(2,0.),(0,1.),(1,1.)]\n",
    "}\n",
    "similarity = cosine_similarity(vectorizer.transform(['who makes chatbots']), doc_vectors)\n",
    "ranks = (-similarity).argsort(axis=None)\n",
    "corpus[ranks[0]]"
   ]
  },
  {
   "cell_type": "code",
   "execution_count": 148,
   "metadata": {},
   "outputs": [
    {
     "name": "stdout",
     "output_type": "stream",
     "text": [
      "Report for no of features 3\n",
      "Index(['Age', 'Job', 'Credit amount'], dtype='object')\n",
      "Accuracy: 70.33%\n",
      "Log_loss: 0.5953186483167244\n",
      "None\n",
      "Report for no of features 4\n",
      "Index(['Age', 'Job', 'Credit amount', 'Duration'], dtype='object')\n",
      "Accuracy: 70.67%\n",
      "Log_loss: 0.5811403112699944\n",
      "None\n",
      "Report for no of features 5\n",
      "Index(['Age', 'Job', 'Credit amount', 'Duration', 'Sex_female'], dtype='object')\n",
      "Accuracy: 70.0%\n",
      "Log_loss: 0.5823144343789342\n",
      "None\n",
      "Report for no of features 6\n",
      "Index(['Age', 'Job', 'Credit amount', 'Duration', 'Sex_female', 'Sex_male'], dtype='object')\n",
      "Accuracy: 70.33%\n",
      "Log_loss: 0.5831444005383081\n",
      "None\n",
      "Report for no of features 7\n",
      "Index(['Age', 'Job', 'Credit amount', 'Duration', 'Sex_female', 'Sex_male',\n",
      "       'Housing_free'],\n",
      "      dtype='object')\n",
      "Accuracy: 70.33%\n",
      "Log_loss: 0.5849447767969587\n",
      "None\n",
      "Report for no of features 8\n",
      "Index(['Age', 'Job', 'Credit amount', 'Duration', 'Sex_female', 'Sex_male',\n",
      "       'Housing_free', 'Housing_own'],\n",
      "      dtype='object')\n",
      "Accuracy: 70.33%\n",
      "Log_loss: 0.5853811184257576\n",
      "None\n",
      "Report for no of features 9\n",
      "Index(['Age', 'Job', 'Credit amount', 'Duration', 'Sex_female', 'Sex_male',\n",
      "       'Housing_free', 'Housing_own', 'Housing_rent'],\n",
      "      dtype='object')\n",
      "Accuracy: 70.67%\n",
      "Log_loss: 0.5825276189425184\n",
      "None\n",
      "Report for no of features 10\n",
      "Index(['Age', 'Job', 'Credit amount', 'Duration', 'Sex_female', 'Sex_male',\n",
      "       'Housing_free', 'Housing_own', 'Housing_rent',\n",
      "       'Saving accounts_little'],\n",
      "      dtype='object')\n",
      "Accuracy: 70.0%\n",
      "Log_loss: 0.5823279374183448\n",
      "None\n",
      "Report for no of features 11\n",
      "Index(['Age', 'Job', 'Credit amount', 'Duration', 'Sex_female', 'Sex_male',\n",
      "       'Housing_free', 'Housing_own', 'Housing_rent', 'Saving accounts_little',\n",
      "       'Saving accounts_moderate'],\n",
      "      dtype='object')\n",
      "Accuracy: 70.0%\n",
      "Log_loss: 0.5812989644290449\n",
      "None\n",
      "Report for no of features 12\n",
      "Index(['Age', 'Job', 'Credit amount', 'Duration', 'Sex_female', 'Sex_male',\n",
      "       'Housing_free', 'Housing_own', 'Housing_rent', 'Saving accounts_little',\n",
      "       'Saving accounts_moderate', 'Saving accounts_quite rich'],\n",
      "      dtype='object')\n",
      "Accuracy: 70.0%\n",
      "Log_loss: 0.5841851618418373\n",
      "None\n",
      "Report for no of features 13\n",
      "Index(['Age', 'Job', 'Credit amount', 'Duration', 'Sex_female', 'Sex_male',\n",
      "       'Housing_free', 'Housing_own', 'Housing_rent', 'Saving accounts_little',\n",
      "       'Saving accounts_moderate', 'Saving accounts_quite rich',\n",
      "       'Saving accounts_rich'],\n",
      "      dtype='object')\n",
      "Accuracy: 70.0%\n",
      "Log_loss: 0.5836119104975663\n",
      "None\n",
      "Report for no of features 14\n",
      "Index(['Age', 'Job', 'Credit amount', 'Duration', 'Sex_female', 'Sex_male',\n",
      "       'Housing_free', 'Housing_own', 'Housing_rent', 'Saving accounts_little',\n",
      "       'Saving accounts_moderate', 'Saving accounts_quite rich',\n",
      "       'Saving accounts_rich', 'Checking account_little'],\n",
      "      dtype='object')\n",
      "Accuracy: 70.33%\n",
      "Log_loss: 0.5750365028516039\n",
      "None\n",
      "Report for no of features 15\n",
      "Index(['Age', 'Job', 'Credit amount', 'Duration', 'Sex_female', 'Sex_male',\n",
      "       'Housing_free', 'Housing_own', 'Housing_rent', 'Saving accounts_little',\n",
      "       'Saving accounts_moderate', 'Saving accounts_quite rich',\n",
      "       'Saving accounts_rich', 'Checking account_little',\n",
      "       'Checking account_moderate'],\n",
      "      dtype='object')\n",
      "Accuracy: 70.0%\n",
      "Log_loss: 0.5730092729065468\n",
      "None\n",
      "Report for no of features 16\n",
      "Index(['Age', 'Job', 'Credit amount', 'Duration', 'Sex_female', 'Sex_male',\n",
      "       'Housing_free', 'Housing_own', 'Housing_rent', 'Saving accounts_little',\n",
      "       'Saving accounts_moderate', 'Saving accounts_quite rich',\n",
      "       'Saving accounts_rich', 'Checking account_little',\n",
      "       'Checking account_moderate', 'Checking account_rich'],\n",
      "      dtype='object')\n",
      "Accuracy: 70.67%\n",
      "Log_loss: 0.5706117725879823\n",
      "None\n",
      "Report for no of features 17\n",
      "Index(['Age', 'Job', 'Credit amount', 'Duration', 'Sex_female', 'Sex_male',\n",
      "       'Housing_free', 'Housing_own', 'Housing_rent', 'Saving accounts_little',\n",
      "       'Saving accounts_moderate', 'Saving accounts_quite rich',\n",
      "       'Saving accounts_rich', 'Checking account_little',\n",
      "       'Checking account_moderate', 'Checking account_rich',\n",
      "       'Purpose_business'],\n",
      "      dtype='object')\n",
      "Accuracy: 70.33%\n",
      "Log_loss: 0.5718055600856607\n",
      "None\n",
      "Report for no of features 18\n",
      "Index(['Age', 'Job', 'Credit amount', 'Duration', 'Sex_female', 'Sex_male',\n",
      "       'Housing_free', 'Housing_own', 'Housing_rent', 'Saving accounts_little',\n",
      "       'Saving accounts_moderate', 'Saving accounts_quite rich',\n",
      "       'Saving accounts_rich', 'Checking account_little',\n",
      "       'Checking account_moderate', 'Checking account_rich',\n",
      "       'Purpose_business', 'Purpose_car'],\n",
      "      dtype='object')\n",
      "Accuracy: 70.33%\n",
      "Log_loss: 0.5712183146352737\n",
      "None\n",
      "Report for no of features 19\n",
      "Index(['Age', 'Job', 'Credit amount', 'Duration', 'Sex_female', 'Sex_male',\n",
      "       'Housing_free', 'Housing_own', 'Housing_rent', 'Saving accounts_little',\n",
      "       'Saving accounts_moderate', 'Saving accounts_quite rich',\n",
      "       'Saving accounts_rich', 'Checking account_little',\n",
      "       'Checking account_moderate', 'Checking account_rich',\n",
      "       'Purpose_business', 'Purpose_car', 'Purpose_domestic appliances'],\n",
      "      dtype='object')\n",
      "Accuracy: 70.33%\n",
      "Log_loss: 0.5723444982137973\n",
      "None\n",
      "Report for no of features 20\n",
      "Index(['Age', 'Job', 'Credit amount', 'Duration', 'Sex_female', 'Sex_male',\n",
      "       'Housing_free', 'Housing_own', 'Housing_rent', 'Saving accounts_little',\n",
      "       'Saving accounts_moderate', 'Saving accounts_quite rich',\n",
      "       'Saving accounts_rich', 'Checking account_little',\n",
      "       'Checking account_moderate', 'Checking account_rich',\n",
      "       'Purpose_business', 'Purpose_car', 'Purpose_domestic appliances',\n",
      "       'Purpose_education'],\n",
      "      dtype='object')\n",
      "Accuracy: 70.0%\n",
      "Log_loss: 0.5728780178438778\n",
      "None\n",
      "Report for no of features 21\n",
      "Index(['Age', 'Job', 'Credit amount', 'Duration', 'Sex_female', 'Sex_male',\n",
      "       'Housing_free', 'Housing_own', 'Housing_rent', 'Saving accounts_little',\n",
      "       'Saving accounts_moderate', 'Saving accounts_quite rich',\n",
      "       'Saving accounts_rich', 'Checking account_little',\n",
      "       'Checking account_moderate', 'Checking account_rich',\n",
      "       'Purpose_business', 'Purpose_car', 'Purpose_domestic appliances',\n",
      "       'Purpose_education', 'Purpose_furniture/equipment'],\n",
      "      dtype='object')\n",
      "Accuracy: 70.0%\n",
      "Log_loss: 0.5736418088235803\n",
      "None\n",
      "Report for no of features 22\n",
      "Index(['Age', 'Job', 'Credit amount', 'Duration', 'Sex_female', 'Sex_male',\n",
      "       'Housing_free', 'Housing_own', 'Housing_rent', 'Saving accounts_little',\n",
      "       'Saving accounts_moderate', 'Saving accounts_quite rich',\n",
      "       'Saving accounts_rich', 'Checking account_little',\n",
      "       'Checking account_moderate', 'Checking account_rich',\n",
      "       'Purpose_business', 'Purpose_car', 'Purpose_domestic appliances',\n",
      "       'Purpose_education', 'Purpose_furniture/equipment', 'Purpose_radio/TV'],\n",
      "      dtype='object')\n",
      "Accuracy: 70.0%\n",
      "Log_loss: 0.5755168370789625\n",
      "None\n"
     ]
    }
   ],
   "source": [
    "df=pd.read_csv('gc.csv')\n",
    "df=pd.get_dummies(df)\n",
    "df.drop(['Risk_good'],axis=1,inplace=True)\n",
    "df.rename({'Risk_bad':'output'},axis=1,inplace=True)\n",
    "\n",
    "from sklearn.feature_selection import RFE\n",
    "from sklearn.linear_model import LogisticRegression\n",
    "from sklearn.ensemble import RandomForestClassifier\n",
    "\n",
    "def accuracy(xtrain,xtest):\n",
    "    xtrain=xtrain\n",
    "    xtest=xtest\n",
    "#     print('For features count %s'%(num_of_features)\n",
    "    clf = RandomForestClassifier(n_estimators=500,max_depth=2, random_state=0)\n",
    "    model=clf.fit(x_train, y_train)\n",
    "    prediction = model.predict(x_test)\n",
    "    print(\"Accuracy: {}%\".format(round(accuracy_score(y_test, prediction)*100,2)))\n",
    "    train_predictions = model.predict_proba(x_test)\n",
    "    ll = log_loss(y_test, train_predictions)\n",
    "    print(\"Log_loss:\",ll)\n",
    "\n",
    "target=df['output']    \n",
    "for i in range(3,23):\n",
    "    print('Report for no of features %s'%(i))\n",
    "    df1=df.iloc[:,0:i]\n",
    "    print(df1.columns)\n",
    "    x_train,x_test,y_train,y_test= train_test_split(df1, target, test_size=0.3, random_state=10,stratify=target)\n",
    "    print(accuracy(x_train,x_test))\n",
    "          \n",
    "# # Feature extraction\n",
    "# X = df.loc[:, df.columns != 'output']\n",
    "# Y= df.loc[:,'output']\n",
    "\n",
    "# model = LogisticRegression()\n",
    "# rfe = RFE(model, n_features_to_select=7)\n",
    "# fit = rfe.fit(X, Y)\n",
    "# print(\"Num Features: %s\" % (fit.n_features_))\n",
    "# print(\"Selected Features: %s\" % (fit.support_),X.columns)\n",
    "# print(\"Feature Ranking: %s\" % (fit.ranking_))\n",
    "\n",
    "# temp=pd.DataFrame(columns=['features','active'])\n",
    "# temp['features']=X.columns\n",
    "# temp['active']=fit.support_\n",
    "# relevant_features=temp[temp['active']]\n",
    "# print(\"\\n\\nList of top %s features\" % (fit.n_features_))\n",
    "# print(\"======================\")\n",
    "# relevant_features\n",
    "\n",
    "\n"
   ]
  },
  {
   "cell_type": "code",
   "execution_count": null,
   "metadata": {},
   "outputs": [],
   "source": []
  }
 ],
 "metadata": {
  "kernelspec": {
   "display_name": "Python 3",
   "language": "python",
   "name": "python3"
  },
  "language_info": {
   "codemirror_mode": {
    "name": "ipython",
    "version": 3
   },
   "file_extension": ".py",
   "mimetype": "text/x-python",
   "name": "python",
   "nbconvert_exporter": "python",
   "pygments_lexer": "ipython3",
   "version": "3.6.10"
  },
  "toc": {
   "base_numbering": 1,
   "nav_menu": {},
   "number_sections": true,
   "sideBar": true,
   "skip_h1_title": false,
   "title_cell": "Table of Contents",
   "title_sidebar": "Contents",
   "toc_cell": false,
   "toc_position": {},
   "toc_section_display": true,
   "toc_window_display": false
  },
  "varInspector": {
   "cols": {
    "lenName": 16,
    "lenType": 16,
    "lenVar": 40
   },
   "kernels_config": {
    "python": {
     "delete_cmd_postfix": "",
     "delete_cmd_prefix": "del ",
     "library": "var_list.py",
     "varRefreshCmd": "print(var_dic_list())"
    },
    "r": {
     "delete_cmd_postfix": ") ",
     "delete_cmd_prefix": "rm(",
     "library": "var_list.r",
     "varRefreshCmd": "cat(var_dic_list()) "
    }
   },
   "types_to_exclude": [
    "module",
    "function",
    "builtin_function_or_method",
    "instance",
    "_Feature"
   ],
   "window_display": false
  }
 },
 "nbformat": 4,
 "nbformat_minor": 2
}
