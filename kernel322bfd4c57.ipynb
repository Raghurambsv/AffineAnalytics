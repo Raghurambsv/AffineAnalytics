{
 "cells": [
  {
   "cell_type": "markdown",
   "metadata": {
    "_uuid": "43610bb518b820ad2b2cad38deff97e6f019b815"
   },
   "source": [
    "# Creating your own chatbot: RelaBot"
   ]
  },
  {
   "cell_type": "code",
   "execution_count": null,
   "metadata": {
    "_cell_guid": "b1076dfc-b9ad-4769-8c92-a6c4dae69d19",
    "_uuid": "8f2839f25d086af736a60e9eeb907d3b93b6e0e5",
    "collapsed": true
   },
   "outputs": [],
   "source": [
    "import en_core_web_lg # Large SpaCy model for English language\n",
    "import numpy as np\n",
    "import re # regular expressions\n",
    "import spacy # NLU library\n",
    "\n",
    "from collections import defaultdict\n",
    "from sklearn.svm import SVC # Support Vector Classification model"
   ]
  },
  {
   "cell_type": "code",
   "execution_count": null,
   "metadata": {
    "_uuid": "dbb45412813663d1617fa2d3a2f42f88e325faa6",
    "collapsed": true
   },
   "outputs": [],
   "source": [
    "output_format = \"IN: {input}\\nOUT: {output}\\n\" + \"_\"*50"
   ]
  },
  {
   "cell_type": "markdown",
   "metadata": {
    "_uuid": "c6220d5d6d682ff97e749cc4f92c4e5e250f0798"
   },
   "source": [
    "## Version 1: Use exact matches"
   ]
  },
  {
   "cell_type": "code",
   "execution_count": null,
   "metadata": {
    "_uuid": "0c15e878f72c38bde756a1ba8f8422f3b53b00d1",
    "collapsed": true
   },
   "outputs": [],
   "source": [
    "# hard-coded exact questions\n",
    "responses_exact = {\n",
    "    \"what would you like to eat tonight?\": \"Pasta with salmon and red pesto please!\",\n",
    "    \"what time will you be home tonight?\": \"I will be home around 6 pm.\",\n",
    "    \"default\": \"I love you too!\"\n",
    "}\n",
    "\n",
    "def respond_exact(text):\n",
    "    response = responses_exact.get(text.lower(), responses_exact['default'])\n",
    "    return(output_format.format(input=text, output=response))"
   ]
  },
  {
   "cell_type": "code",
   "execution_count": null,
   "metadata": {
    "_uuid": "c1345c8c135b619bf4a5b1c43d3ce0d70d281d39"
   },
   "outputs": [],
   "source": [
    "print(respond_exact(\"What would you like to eat tonight?\"))\n",
    "print(\"_\"*50)\n",
    "print(respond_exact(\"What time will you be home tonight?\"))\n",
    "print(\"_\"*50)\n",
    "print(respond_exact(\"I just found out my boss is leaving the company.\"))"
   ]
  },
  {
   "cell_type": "markdown",
   "metadata": {
    "_uuid": "4dc553f0af67c65883eb219007a5f5e9afc4d5dd"
   },
   "source": [
    "### Assignment 1: Add a default response "
   ]
  },
  {
   "cell_type": "markdown",
   "metadata": {
    "_uuid": "959506f932fd1f3bd78c0c3c6d6c5c171b0120ce"
   },
   "source": [
    "### Assignment 2: Think of ways to extend this functionality"
   ]
  },
  {
   "cell_type": "code",
   "execution_count": null,
   "metadata": {
    "_uuid": "99ea843ff2df469aea5f3268db7430ce2d1ad449",
    "collapsed": true
   },
   "outputs": [],
   "source": []
  },
  {
   "cell_type": "markdown",
   "metadata": {
    "_uuid": "432f4dce488d2897b7106ff78096e9dde4bf01a3"
   },
   "source": [
    "## Version 2: Pattern Matching"
   ]
  },
  {
   "cell_type": "code",
   "execution_count": null,
   "metadata": {
    "_uuid": "40a6f07b995c2669b91add16b7a0446a592f6176",
    "collapsed": true
   },
   "outputs": [],
   "source": [
    "# Define keywords that can help determine the intent \n",
    "intent_keywords = {\n",
    "    'dinner_preference': ['eat', 'dinner', 'food', 'cook', 'craving'],\n",
    "    'arrival_time': ['time', 'when', 'get here', 'be home']\n",
    "}\n",
    "# Create a dictionary of patterns\n",
    "patterns = {intent: re.compile('|'.join(keys)) for intent, keys in intent_keywords.items()}\n",
    "\n",
    "# Define a function to find the intent of a message\n",
    "def get_intent_re(message):\n",
    "    for intent, pattern in patterns.items():\n",
    "        # Check if the pattern occurs in the message \n",
    "        if pattern.search(message):\n",
    "            return(intent)\n",
    "    else:\n",
    "        return('default')\n",
    "\n",
    "responses_re = {\n",
    "    \"dinner_preference\":\"Pasta with salmon and red pesto please!\",\n",
    "    \"arrival_time\": \"I will be home around 6 pm.\",\n",
    "    \"default\":\"I like you too!\"\n",
    "}\n",
    "\n",
    "def respond_re(text):\n",
    "    response = responses_re.get(get_intent_re(text))\n",
    "    return(output_format.format(input=text, output=response))\n"
   ]
  },
  {
   "cell_type": "code",
   "execution_count": null,
   "metadata": {
    "_uuid": "c464befb1a1e6162e61ab343f7f2258e315dc806"
   },
   "outputs": [],
   "source": [
    "print(respond_re(\"what would you like to eat tonight?\"))\n",
    "print(respond_re(\"what time will you be home tonight?\"))\n",
    "print(respond_re(\"I just food out my boss is leaving the company.\"))"
   ]
  },
  {
   "cell_type": "markdown",
   "metadata": {
    "_uuid": "86a5811351b2f411a126d35f353ea7d07b0184a5"
   },
   "source": [
    "### Assignment 3: Improve the chatbot's recognition capability"
   ]
  },
  {
   "cell_type": "markdown",
   "metadata": {
    "_uuid": "7055223a3e8da2a9f1f6d10d1efa683c55772693"
   },
   "source": [
    "## Version 3: Machine Learning"
   ]
  },
  {
   "cell_type": "markdown",
   "metadata": {
    "_uuid": "5af79087123f043764e4a475feccdfb81694536a"
   },
   "source": [
    "### Step 3.1: Finding out what he / she wants"
   ]
  },
  {
   "cell_type": "code",
   "execution_count": null,
   "metadata": {
    "_uuid": "d96158b20a8c0ab3a26734084115a025b2edc06f",
    "collapsed": true
   },
   "outputs": [],
   "source": [
    "# Create training data\n",
    "training_sentences = [\n",
    "    \"What would you like to have for dinner?\",\n",
    "    \"What do you want to eat tonight?\",\n",
    "    \"I don't know what to cook tonight.\",\n",
    "    \"Do you have any cravings?\",\n",
    "    \"Can I get you something to eat?\", \n",
    "    \"What time will you be home?\",\n",
    "    \"How much longer will you be?\",\n",
    "    \"When can we expect you to get here?\",\n",
    "    \"What's taking you so long?\",\n",
    "    \"At what hour will you be here?\"\n",
    "    \n",
    "]\n",
    "training_intents = [\n",
    "    \"dinner_preference\",\n",
    "    \"dinner_preference\",\n",
    "    \"dinner_preference\",\n",
    "    \"dinner_preference\",\n",
    "    \"dinner_preference\",\n",
    "    \"arrival_time\",\n",
    "    \"arrival_time\",\n",
    "    \"arrival_time\",\n",
    "    \"arrival_time\",\n",
    "    \"arrival_time\"   \n",
    "]"
   ]
  },
  {
   "cell_type": "code",
   "execution_count": null,
   "metadata": {
    "_cell_guid": "79c7e3d0-c299-4dcb-8224-4455121ee9b0",
    "_uuid": "d629ff2d2480ee46fbb7e2d37f6b5fab8052498a",
    "collapsed": true
   },
   "outputs": [],
   "source": [
    "# this may take a couple of seconds\n",
    "nlp = en_core_web_lg.load()"
   ]
  },
  {
   "cell_type": "code",
   "execution_count": null,
   "metadata": {
    "_uuid": "9429de53efd1c1de2305596cc9244b9db8a53dfd",
    "collapsed": true
   },
   "outputs": [],
   "source": [
    "# Initialize the array with zeros: X\n",
    "X_train = np.zeros((len(training_sentences), \n",
    "              nlp('sentences').vocab.vectors_length))\n",
    "\n",
    "for i, sentence in enumerate(training_sentences):\n",
    "    # Pass each each sentence to the nlp object to create a document\n",
    "    doc = nlp(sentence)\n",
    "    # Save the document's .vector attribute to the corresponding row in X\n",
    "    X_train[i, :] = doc.vector"
   ]
  },
  {
   "cell_type": "code",
   "execution_count": null,
   "metadata": {
    "_uuid": "6448b17fd2fe077848b58481aad007cbd36b9236"
   },
   "outputs": [],
   "source": [
    "# Create a support vector classifier\n",
    "clf = SVC(C=1, gamma=\"auto\", probability=True)\n",
    "\n",
    "# Fit the classifier using the training data\n",
    "clf.fit(X_train, training_intents)\n",
    "\n",
    "#Yes, a lot can be done here to check / improve model performance! We will leave that for another day!"
   ]
  },
  {
   "cell_type": "code",
   "execution_count": null,
   "metadata": {
    "_uuid": "19f182029af2c906cce2217a8a60928918f4ba9f",
    "collapsed": true
   },
   "outputs": [],
   "source": [
    "def get_intent_ml(text):\n",
    "    doc = nlp(text)\n",
    "    return(clf.predict([doc.vector])[0])"
   ]
  },
  {
   "cell_type": "markdown",
   "metadata": {
    "_uuid": "20234af6c50ec99443fcc9c59203901fbee03608"
   },
   "source": [
    "### Step 3.2 Figure out how to deal with it."
   ]
  },
  {
   "cell_type": "code",
   "execution_count": null,
   "metadata": {
    "_uuid": "3ce007c41fad978a0090a61e0492c70127708065",
    "collapsed": true,
    "scrolled": true
   },
   "outputs": [],
   "source": [
    "responses_ml = {\n",
    "    \"dinner_preference\":\"Pasta with salmon and red pesto please!\",\n",
    "    \"arrival_time\": \"I will be home around 6 pm.\",\n",
    "    \"default\":\"I like you too!\"\n",
    "}\n",
    "\n",
    "def respond_ml(text):\n",
    "    response = responses_ml.get(get_intent_ml(text), responses_ml[\"default\"])\n",
    "    return(output_format.format(input=text, output=response))"
   ]
  },
  {
   "cell_type": "code",
   "execution_count": null,
   "metadata": {
    "_uuid": "c464befb1a1e6162e61ab343f7f2258e315dc806"
   },
   "outputs": [],
   "source": [
    "print(respond_ml(\"what would you like to eat tonight?\"))\n",
    "print(respond_ml(\"what time will you be home tonight?\"))\n",
    "print(respond_ml(\"l\"))"
   ]
  },
  {
   "cell_type": "markdown",
   "metadata": {
    "_uuid": "17ffccddd42de9e7f9127e682f0f74b613ccaa2b",
    "collapsed": true
   },
   "source": [
    "### Assignment 4: Add default "
   ]
  },
  {
   "cell_type": "markdown",
   "metadata": {
    "_uuid": "c89a81e1cc8d638c93ab7671d72122df3f7324ec"
   },
   "source": [
    "### Assignment 5: Add variety to your answers, so he / she will think it's you"
   ]
  },
  {
   "cell_type": "markdown",
   "metadata": {
    "_uuid": "2d4e03e58eae2b2a3102a7db9717750835c340f0"
   },
   "source": [
    "### Assignment 6: Extract context from the sentence:\n",
    "#### What day of the week is the question about?"
   ]
  },
  {
   "cell_type": "markdown",
   "metadata": {
    "_uuid": "33a1db2a2ae8809eafa91391b01df753c18b48c2"
   },
   "source": [
    "### 7: Bonus Assignments\n",
    "\n",
    "1. add variety to food\n",
    "2. stem words in put text to improve recognition\n",
    "3. combine patterns\n",
    "4. ask for specification"
   ]
  },
  {
   "cell_type": "markdown",
   "metadata": {
    "_uuid": "e54328ac8cfe58e48a31cda5e6c7870c8bf5691d"
   },
   "source": [
    "## Extra input for assignments"
   ]
  },
  {
   "cell_type": "code",
   "execution_count": null,
   "metadata": {
    "_uuid": "7c081907c27455c78f238770276095a509ad50e9",
    "collapsed": true
   },
   "outputs": [],
   "source": [
    "# add this to responses dict: \"default\": \"I love you too!\"\n",
    "# in the predict function: if the model is not too sure about the intent, return the string \"default\"\n",
    "    # There is a function that gives the probabilities for each of the possible outputs\n",
    "    # If the maximum probability is low, one might say that the model is not sure about the intent\n",
    "    # Note! This idea should work, but relies on the functionality of the predict_proba function:\n",
    "    # for the SVC model, the predict_proba function does not give meaningfull results for small datasets:\n",
    "    # http://scikit-learn.org/stable/modules/generated/sklearn.svm.SVC.html#sklearn.svm.SVC.predict_proba\n",
    "\n",
    "def get_intent_ml_2(text):\n",
    "    \"\"\"\n",
    "        Returns the intent from a given text, unless the model is not sure, in which case 'default' is returned\n",
    "    \"\"\"\n",
    "    doc = nlp(text)\n",
    "    max_proba = max(clf.predict_proba([doc.vector])[0])\n",
    "    if(max_proba == 0.5):\n",
    "        return('default')\n",
    "    else:\n",
    "        return(clf.predict([doc.vector])[0])\n",
    "\n",
    "def respond_ml_2(text):\n",
    "    response = responses_ml.get(get_intent_ml_2(text), responses_ml[\"default\"])\n",
    "    return(output_format.format(input=text, output=response))"
   ]
  },
  {
   "cell_type": "code",
   "execution_count": null,
   "metadata": {
    "_uuid": "4c8565dc445d95e8bccc32cfb4cb025aeb8f554e"
   },
   "outputs": [],
   "source": [
    "print(respond_ml(  'flowers'))\n",
    "print(respond_ml_2('flowers'))"
   ]
  },
  {
   "cell_type": "code",
   "execution_count": null,
   "metadata": {
    "_uuid": "2d4ea146682ff09ced5320ae1b9849f91a17c541",
    "collapsed": true
   },
   "outputs": [],
   "source": [
    "def get_all_entities(text):\n",
    "    \"\"\"\n",
    "        Get all entities in a given text, in a text: label_ dictionary\n",
    "    \"\"\"\n",
    "    doc = nlp(text)\n",
    "    \n",
    "    d = defaultdict(list)\n",
    "    for ent in doc.ents:\n",
    "        d[ent.label_].append(ent.text)\n",
    "    return(d)"
   ]
  },
  {
   "cell_type": "code",
   "execution_count": null,
   "metadata": {
    "_uuid": "ba7c528d4e663a24d157e51cddb4c47c62add3e2"
   },
   "outputs": [],
   "source": [
    "test_ents = get_all_entities('what would you like to eat tonight?, or next tuesday or wednesday fish football Bengals')\n",
    "print(sorted(test_ents.items()))"
   ]
  },
  {
   "cell_type": "code",
   "execution_count": null,
   "metadata": {
    "_uuid": "d425a92d125f2f64a10a059db438d5816e0900de"
   },
   "outputs": [],
   "source": [
    "policy = {\n",
    "    (\"dinner_preference\", \"time and date\"): \"I want to eat pasta\",\n",
    "    (\"dinner_preference\", \"time only\"): \"I want to eat pasta\",\n",
    "    (\"dinner_preference\", \"date only\"): \"I want to eat pasta\",\n",
    "    (\"dinner_preference\", \"none\"): \"When?\",\n",
    "    (\"arrival_time\", \"time and date\"): \"I will be home at six\",\n",
    "    (\"arrival_time\", \"time only\"): \"I will be home at six\",\n",
    "    (\"arrival_time\", \"date only\"): \"I will be home at six\",\n",
    "    (\"arrival_time\", \"none\"): \"When?\",\n",
    "    (\"default\", \"none\"): \"What do you want?\",\n",
    "}"
   ]
  },
  {
   "cell_type": "code",
   "execution_count": null,
   "metadata": {
    "_uuid": "a33437c55bdde32fe201dedcbcdd77e287030f85",
    "collapsed": true
   },
   "outputs": [],
   "source": [
    "def respond_ml_3(text):\n",
    "    \"\"\"Check for specification of date and time\n",
    "        If not specified, ask for clarification\n",
    "    \"\"\"\n",
    "    intent = get_intent_ml_2(text)\n",
    "        \n",
    "    if intent != 'default':\n",
    "        entities = get_all_entities(text)\n",
    "        if 'TIME' in entities and 'DATE' in entities:\n",
    "            specification = 'time and date'\n",
    "            time = ' and '.join(entities['DATE']) + ' at ' + ' and '.join(entities['TIME'])\n",
    "        elif 'TIME' in entities:\n",
    "            specification = 'time only'\n",
    "            time = ' and '.join(entities['TIME'])\n",
    "        elif 'DATE' in entities:\n",
    "            specification = 'date only'\n",
    "            time = ' and '.join(entities['DATE'])\n",
    "        else:\n",
    "            specification = 'none'\n",
    "            time = \"\"\n",
    "    else:\n",
    "        specification = 'none'\n",
    "        time = \"\"\n",
    "    \n",
    "    response = policy.get((intent, specification)) + ' ' + time\n",
    "    return(output_format.format(input=text, output=response))"
   ]
  },
  {
   "cell_type": "code",
   "execution_count": null,
   "metadata": {
    "_uuid": "ce26a0e85e95481fdc9ac9f2ccfaedcd1cffbd13",
    "collapsed": true
   },
   "outputs": [],
   "source": [
    "preferences {\"monday\" :\"pancakes\"}"
   ]
  },
  {
   "cell_type": "code",
   "execution_count": null,
   "metadata": {
    "_uuid": "71aef586d5a117457b8d5a8d1a36036fd34f5477"
   },
   "outputs": [],
   "source": [
    "print(respond_ml_3('what would you like to eat next wednesday thursday and friday?'))"
   ]
  },
  {
   "cell_type": "code",
   "execution_count": null,
   "metadata": {
    "_uuid": "53792833e1c692a923ca8901ba29f4b02f1fd99d",
    "collapsed": true
   },
   "outputs": [],
   "source": []
  }
 ],
 "metadata": {
  "kernelspec": {
   "display_name": "Python 3",
   "language": "python",
   "name": "python3"
  },
  "language_info": {
   "codemirror_mode": {
    "name": "ipython",
    "version": 3
   },
   "file_extension": ".py",
   "mimetype": "text/x-python",
   "name": "python",
   "nbconvert_exporter": "python",
   "pygments_lexer": "ipython3",
   "version": "3.6.9"
  }
 },
 "nbformat": 4,
 "nbformat_minor": 1
}
