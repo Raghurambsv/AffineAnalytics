{
 "cells": [
  {
   "cell_type": "markdown",
   "metadata": {},
   "source": [
    "# Model Evaluation"
   ]
  },
  {
   "cell_type": "markdown",
   "metadata": {},
   "source": [
    "<div class=\"list-group\" id=\"list-tab\" role=\"tablist\">\n",
    " <h3 class=\"list-group-item list-group-item-action active\" data-toggle=\"list\"  role=\"tab\" aria-controls=\"home\">Notebook Content</h3>\n",
    "<div class=\"list-group\" id=\"list-tab\" role=\"tablist\">\n",
    "<h3 class=\"list-group-item list-group-item-action active\" data-toggle=\"list\"  role=\"tab\" aria-controls=\"home\">Evaluation Metrics for Regression</h3>\n",
    "<a class=\"list-group-item list-group-item-action\" data-toggle=\"list\" href=\"#Explained-Variance-Score\" role=\"tab\" aria-controls=\"profile\">Explained Variance Score<span class=\"badge badge-primary badge-pill\"></span></a>\n",
    "<a class=\"list-group-item list-group-item-action\" data-toggle=\"list\" href=\"#Max-error\" role=\"tab\" aria-controls=\"profile\">Max error<span class=\"badge badge-primary badge-pill\"></span></a>\n",
    "<a class=\"list-group-item list-group-item-action\" data-toggle=\"list\" href=\"#Mean-Absolute-Error\" role=\"tab\" aria-controls=\"profile\">Mean Absolute Error<span class=\"badge badge-primary badge-pill\"></span></a>\n",
    "<a class=\"list-group-item list-group-item-action\" data-toggle=\"list\" href=\"#Mean-Squared-Error\" role=\"tab\" aria-controls=\"profile\">Mean Squared Error<span class=\"badge badge-primary badge-pill\"></span></a>\n",
    "<a class=\"list-group-item list-group-item-action\" data-toggle=\"list\" href=\"#Mean-Squared-Logarithmic-Error\" role=\"tab\" aria-controls=\"profile\">Mean Squared Logarithmic Error<span class=\"badge badge-primary badge-pill\"></span></a>\n",
    "<a class=\"list-group-item list-group-item-action\" data-toggle=\"list\" href=\"#Median-Absolute-Error\" role=\"tab\" aria-controls=\"profile\">Median Absolute Error<span class=\"badge badge-primary badge-pill\"></span></a>\n",
    "<a class=\"list-group-item list-group-item-action\" data-toggle=\"list\" href=\"#R²-score\" role=\"tab\" aria-controls=\"profile\">R² score<span class=\"badge badge-primary badge-pill\"></span></a>\n",
    "    <a class=\"list-group-item list-group-item-action\" data-toggle=\"list\" href=\"#Mean-Percentage-Error\" role=\"tab\" aria-controls=\"profile\">Mean Percentage Error<span class=\"badge badge-primary badge-pill\"></span></a>\n",
    "    <a class=\"list-group-item list-group-item-action\" data-toggle=\"list\" href=\"#Mean-Absolute-Percentage-Error\" role=\"tab\" aria-controls=\"profile\">Mean Absolute Percentage Error<span class=\"badge badge-primary badge-pill\"></span></a>\n",
    "    <a class=\"list-group-item list-group-item-action\" data-toggle=\"list\" href=\"#Weighted-Mean-Absolute-error\" role=\"tab\" aria-controls=\"profile\">Weighted Mean Absolute Percentage Error<span class=\"badge badge-primary badge-pill\"></span></a>\n",
    "    <a class=\"list-group-item list-group-item-action\" data-toggle=\"list\" href=\"#Tips-for-Metric-Selection\" role=\"tab\" aria-controls=\"profile\">Tips for Metric Selection<span class=\"badge badge-primary badge-pill\"></span></a>\n",
    "<a class=\"list-group-item list-group-item-action\" data-toggle=\"list\" href=\"#Cross-Validation\" role=\"tab\" aria-controls=\"messages\">Cross Validation<span class=\"badge badge-primary badge-pill\"></span></a>\n",
    "<a class=\"list-group-item list-group-item-action\" data-toggle=\"list\" href=\"#StratifiedKFold\" role=\"tab\" aria-controls=\"messages\">StratifiedKFold<span class=\"badge badge-primary badge-pill\"></span></a>\n",
    "<div class=\"list-group\" id=\"list-tab\" role=\"tablist\">\n",
    "<h3 class=\"list-group-item list-group-item-action active\" data-toggle=\"list\"  role=\"tab\" aria-controls=\"home\">Accuracy Metrics for Binary Classification</h3>\n",
    "<a class=\"list-group-item list-group-item-action\" data-toggle=\"list\" href=\"#Cohen’s-kappa \" role=\"tab\" aria-controls=\"profile\">Cohen’s kappa <span class=\"badge badge-primary badge-pill\"></span></a>\n",
    "  <a class=\"list-group-item list-group-item-action\" data-toggle=\"list\" href=\"#Hamming-Loss\" role=\"tab\" aria-controls=\"profile\">Hamming Loss<span class=\"badge badge-primary badge-pill\"></span></a>\n",
    "  <a class=\"list-group-item list-group-item-action\" data-toggle=\"list\" href=\"#Confusion-Matrix\" role=\"tab\" aria-controls=\"messages\">Confusion Matrix<span class=\"badge badge-primary badge-pill\"></span></a>\n",
    "<a class=\"list-group-item list-group-item-action\" data-toggle=\"list\" href=\"#Precision-Recall-(PR)-Curve\" role=\"tab\" aria-controls=\"messages\">Precision-Recall (PR) Curve<span class=\"badge badge-primary badge-pill\"></span></a>\n",
    "<a class=\"list-group-item list-group-item-action\" data-toggle=\"list\" href=\"#ROC-(Receiver-Operating-Characteristics)\" role=\"tab\" aria-controls=\"messages\">ROC (Receiver Operating Characteristics)<span class=\"badge badge-primary badge-pill\"></span></a>\n",
    "<a class=\"list-group-item list-group-item-action\" data-toggle=\"list\" href=\"#AUC-(Area-Under-the-Curve)\" role=\"tab\" aria-controls=\"messages\">AUC (Area Under the Curve)<span class=\"badge badge-primary badge-pill\"></span></a>\n",
    "<div class=\"list-group\" id=\"list-tab\" role=\"tablist\">\n",
    "  <h3 class=\"list-group-item list-group-item-action active\" data-toggle=\"list\"  role=\"tab\" aria-controls=\"home\">Accuracy Metrics for Multi-Class Classification</h3>\n",
    "<a class=\"list-group-item list-group-item-action\" data-toggle=\"list\" href=\"#Accuarcy-Score\" role=\"tab\" aria-controls=\"messages\">Accuarcy Score<span class=\"badge badge-primary badge-pill\"></span></a>\n",
    "<a class=\"list-group-item list-group-item-action\" data-toggle=\"list\" href=\"#Confusion-Matrix-for-MultiClass\" role=\"tab\" aria-controls=\"messages\">Confusion Matrix for MultiClass<span class=\"badge badge-primary badge-pill\"></span></a>\n",
    "<a class=\"list-group-item list-group-item-action\" data-toggle=\"list\" href=\"#ROC-and-AUC\" role=\"tab\" aria-controls=\"messages\">ROC and AUC<span class=\"badge badge-primary badge-pill\"></span></a>\n",
    "<a class=\"list-group-item list-group-item-action\" data-toggle=\"list\" href=\"#Precision-Recall-Curve-for-Multiclass\" role=\"tab\" aria-controls=\"messages\">Precision Recall Curve for Multiclass<span class=\"badge badge-primary badge-pill\"></span></a>\n",
    "<a class=\"list-group-item list-group-item-action\" data-toggle=\"list\" href=\"#Classification-Report\" role=\"tab\" aria-controls=\"messages\">Classification Report<span class=\"badge badge-primary badge-pill\"></span></a>\n"
   ]
  },
  {
   "cell_type": "markdown",
   "metadata": {},
   "source": [
    "# Evaluation Metrics for Regression\n",
    "The **sklearn.metrics module implements several loss, score, and utility functions to measure regression performance**. Some of those have been enhanced to handle the **multioutput case**: mean_squared_error, mean_absolute_error, explained_variance_score and r2_score.These functions have an **multioutput keyword argument which specifies the way the scores or losses for each individual target should be averaged**. The default is 'uniform_average', which specifies a uniformly weighted mean over outputs.<br> \n",
    "If an ndarray of shape (n_outputs,) is passed, then its entries are interpreted as weights and an according weighted average is returned. If multioutput is 'raw_values' is specified, then all unaltered individual scores or losses will be returned in an array of shape (n_outputs,).\n",
    "<br><br>The **r2_score and explained_variance_score accept an additional value 'variance_weighted'** for the multioutput parameter. This option leads to a weighting of each individual score by the variance of the corresponding target variable. This setting quantifies the globally captured unscaled variance. If the target variables are of different scale, then this score puts more importance on well explaining the higher variance variables. multioutput='variance_weighted' is the default value for r2_score for backward compatibility. This will be changed to uniform_average in the future.<br><br>\n",
    "\n",
    "<a class=\"list-group-item list-group-item-action\" data-toggle=\"list\" href=\"#Code\" role=\"tab\" aria-controls=\"messages\">Go to Code<span class=\"badge badge-primary badge-pill\"> </span></a>"
   ]
  },
  {
   "cell_type": "markdown",
   "metadata": {},
   "source": [
    "## Explained Variance Score\n",
    "The explained_variance_score **computes the explained variance regression score**. **Explained variation measures the proportion to which a mathematical model accounts for the variation (dispersion)** of a given data set. Often, variation is quantified as variance; then, the more specific term explained variance can be used.<br><br>The best possible score is 1.0, lower values are worse."
   ]
  },
  {
   "cell_type": "markdown",
   "metadata": {},
   "source": [
    "If $\\hat{y}$ is the estimated target output, $y$ the corresponding (correct) target output, and $Var$ is Variance, the square of the standard deviation, then the explained variance is estimated as follow:\n",
    "\n",
    "$explained\\_{}variance(y, \\hat{y}) = 1 - \\frac{Var\\{ y - \\hat{y}\\}}{Var\\{y\\}}$<br><br>\n",
    "<a class=\"list-group-item list-group-item-action\" data-toggle=\"list\" href=\"#Code\" role=\"tab\" aria-controls=\"messages\">Go to Code<span class=\"badge badge-primary badge-pill\"> </span></a>"
   ]
  },
  {
   "cell_type": "markdown",
   "metadata": {},
   "source": [
    "## Max error\n",
    "The max_error function computes the **maximum residual error** , a metric that captures the worst case error between the predicted value and the true value. In a perfectly fitted single output regression model, max_error would be 0 on the training set and though this would be highly unlikely in the real world, this metric shows the extent of error that the model had when it was fitted.\n",
    "\n",
    "If $\\hat{y}_i$ is the predicted value of the $i$-th sample, and $y_i$ is the corresponding true value, then the max error is defined as:\n",
    "\n",
    "$\\text{Max Error}(y, \\hat{y}) = max(| y_i - \\hat{y}_i |)$<br><br>\n",
    "<a class=\"list-group-item list-group-item-action\" data-toggle=\"list\" href=\"#Code\" role=\"tab\" aria-controls=\"messages\">Go to Code<span class=\"badge badge-primary badge-pill\"> </span></a>\n"
   ]
  },
  {
   "cell_type": "markdown",
   "metadata": {},
   "source": [
    "## Mean Absolute Error\n",
    "The mean_absolute_error function computes mean absolute error, a risk metric corresponding to the expected value of the absolute error loss or $l1$-norm loss.In statistics, mean absolute error (MAE) is a **measure of errors between paired observations** expressing the same phenomenon.\n",
    "\n",
    "If $\\hat{y}_i$ is the predicted value of the $i$-th sample, and $y_i$ is the corresponding true value, then the mean absolute error (MAE) estimated over $n_{\\text{samples}}$ is defined as:\n",
    "\n",
    "$\\text{MAE}(y, \\hat{y}) = \\frac{1}{n_{\\text{samples}}} \\sum_{i=0}^{n_{\\text{samples}}-1} \\left| y_i - \\hat{y}_i \\right|$.<br><br>\n",
    "<a class=\"list-group-item list-group-item-action\" data-toggle=\"list\" href=\"#Code\" role=\"tab\" aria-controls=\"messages\">Go to Code<span class=\"badge badge-primary badge-pill\"> </span></a>"
   ]
  },
  {
   "cell_type": "markdown",
   "metadata": {},
   "source": [
    "## Mean Squared Error\n",
    "The mean_squared_error function computes mean square error, a risk metric **corresponding to the expected value of the squared (quadratic) error or loss**.\n",
    "\n",
    "If $\\hat{y}_i$ is the predicted value of the $i$-th sample, and $y_i$ is the corresponding true value, then the mean squared error (MSE) estimated over $n_{\\text{samples}}$ is defined as\n",
    "\n",
    "$\\text{MSE}(y, \\hat{y}) = \\frac{1}{n_\\text{samples}} \\sum_{i=0}^{n_\\text{samples} - 1} (y_i - \\hat{y}_i)^2.$<br><br>\n",
    "<a class=\"list-group-item list-group-item-action\" data-toggle=\"list\" href=\"#Code\" role=\"tab\" aria-controls=\"messages\">Go to Code<span class=\"badge badge-primary badge-pill\"> </span></a>\n"
   ]
  },
  {
   "cell_type": "markdown",
   "metadata": {},
   "source": [
    "## Mean Squared Logarithmic Error\n",
    "The mean_squared_log_error function computes a **risk metric corresponding to the expected value of the squared logarithmic (quadratic) error or loss.**\n",
    "\n",
    "If $\\hat{y}_i$ is the predicted value of the $i$-th sample, and $y_i$ is the corresponding true value, then the mean squared logarithmic error (MSLE) estimated over $n_{\\text{samples}}$ is defined as:\n",
    "\n",
    "$\\text{MSLE}(y, \\hat{y}) = \\frac{1}{n_\\text{samples}} \\sum_{i=0}^{n_\\text{samples} - 1} (\\log_e (1 + y_i) - \\log_e (1 + \\hat{y}_i) )^2.$\n",
    "Where $\\log_e (x)$ means the natural logarithm of $x$. <br>\n",
    "**This metric is best to use when targets having exponential growth, such as population counts**, average sales of a commodity over a span of years etc. Note that this metric penalizes an under-predicted estimate greater than an over-predicted estimate.\n",
    "<br><br><a class=\"list-group-item list-group-item-action\" data-toggle=\"list\" href=\"#Code\" role=\"tab\" aria-controls=\"messages\">Go to Code<span class=\"badge badge-primary badge-pill\"> </span></a>"
   ]
  },
  {
   "cell_type": "markdown",
   "metadata": {},
   "source": [
    "## Median Absolute Error\n",
    "The median_absolute_error is particularly interesting because **it is robust to outliers**. The loss is calculated by taking the **median of all absolute differences between the target and the prediction**.<br><br>\n",
    "If $\\hat{y}_i$ is the predicted value of the $i$-th sample and $y_i$ is the corresponding true value, then the median absolute error (MedAE) estimated over $n_{\\text{samples}}$ is defined as\n",
    "\n",
    "$\\text{MedAE}(y, \\hat{y}) = \\text{median}(\\mid y_1 - \\hat{y}_1 \\mid, \\ldots, \\mid y_n - \\hat{y}_n \\mid).$\n",
    "\n",
    "<a class=\"list-group-item list-group-item-action\" data-toggle=\"list\" href=\"#Code\" role=\"tab\" aria-controls=\"messages\">Go to Code<span class=\"badge badge-primary badge-pill\"> </span></a>"
   ]
  },
  {
   "cell_type": "markdown",
   "metadata": {},
   "source": [
    "## R² score\n",
    "The r2_score function **computes the coefficient of determination**, usually denoted as R².<br><br>\n",
    "It represents the **proportion of variance (of y) that has been explained by the independent variables** in the model. It provides an **indication of goodness of fit** and therefore a measure of how well unseen samples are likely to be predicted by the model, through the proportion of explained variance.<br><br>\n",
    "As such variance is dataset dependent, **R² may not be meaningfully comparable across different datasets**. <br>Best possible score is 1.0 and it can be negative (because the model can be arbitrarily worse). A constant model that always predicts the expected value of y, disregarding the input features, would get a R² score of 0.0.\n",
    "\n",
    "If $\\hat{y}_i$ is the predicted value of the $i$-th sample and $y_i$ is the corresponding true value for total $n$ samples, the estimated R² is defined as:\n",
    "\n",
    "$R^2(y, \\hat{y}) = 1 - \\frac{\\sum_{i=1}^{n} (y_i - \\hat{y}_i)^2}{\\sum_{i=1}^{n} (y_i - \\bar{y})^2}$ <br>\n",
    "where $\\bar{y} = \\frac{1}{n} \\sum_{i=1}^{n} y_i$ and $\\sum_{i=1}^{n} (y_i - \\hat{y}_i)^2 = \\sum_{i=1}^{n} \\epsilon_i^2$ <br>\n",
    "\n",
    "\n",
    "<a class=\"list-group-item list-group-item-action\" data-toggle=\"list\" href=\"#Code\" role=\"tab\" aria-controls=\"messages\">Go to Code<span class=\"badge badge-primary badge-pill\"> </span></a>"
   ]
  },
  {
   "cell_type": "markdown",
   "metadata": {},
   "source": [
    "<a class=\"list-group-item list-group-item-action\" data-toggle=\"list\" href=\"#Model-Evaluation\" role=\"tab\" aria-controls=\"messages\">Go to top<span class=\"badge badge-primary badge-pill\"></span></a>\n"
   ]
  },
  {
   "attachments": {
    "MPE.svg": {
     "image/svg+xml": [
      "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"
     ]
    }
   },
   "cell_type": "markdown",
   "metadata": {},
   "source": [
    "## Mean Percentage Error\n",
    "In statistics, the mean percentage error (MPE) is the computed average of percentage errors by which forecasts of a model differ from actual values of the quantity being forecast.\n",
    "\n",
    "The formula for the mean percentage error is:\n",
    "![MPE.svg](attachment:MPE.svg) <br>\n",
    "where $a_t$ is the actual value of the quantity being forecast, $f_t$ is the forecast, and n is the number of different times for which the variable is forecast.\n",
    "\n",
    "Because actual rather than absolute values of the forecast errors are used in the formula, positive and negative forecast errors can offset each other; as a result the formula can be used as a measure of the bias in the forecasts.\n",
    "\n",
    "A disadvantage of this measure is that it is undefined whenever a single actual value is zero.<br>\n",
    "The fuction defination of MPE is given below"
   ]
  },
  {
   "cell_type": "code",
   "execution_count": 1,
   "metadata": {},
   "outputs": [],
   "source": [
    "def MPE(y_true, y_pred): \n",
    "    y_true, y_pred = np.array(y_true), np.array(y_pred)\n",
    "    return np.mean((y_true - y_pred) / y_true)"
   ]
  },
  {
   "cell_type": "markdown",
   "metadata": {},
   "source": [
    "<a class=\"list-group-item list-group-item-action\" data-toggle=\"list\" href=\"#Model-Evaluation\" role=\"tab\" aria-controls=\"messages\">Go to top<span class=\"badge badge-primary badge-pill\"></span></a>\n"
   ]
  },
  {
   "attachments": {
    "Mape.svg": {
     "image/svg+xml": [
      "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"
     ]
    }
   },
   "cell_type": "markdown",
   "metadata": {},
   "source": [
    "## Mean Absolute Percentage Error\n",
    "It is a simple average of absolute percentage errors. The MAPE calculation is as follows:\n",
    "![Mape.svg](attachment:Mape.svg)\n",
    "where $A_t$ is the actual value and $F_t$ is the forecast value. The MAPE is also sometimes reported as a percentage, which is the above equation multiplied by 100. The difference between $A_t$ and $F_t$ is divided by the actual value At again. <br>\n",
    "It **cannot be used if there are zero values** (which sometimes happens for example in demand data) because there would be a division by zero.<br>\n",
    "For forecasts which are too low the percentage error cannot exceed 100%, but **for forecasts which are too high there is no upper limit to the percentage error**.<br>\n",
    "\n",
    "The fuction defination of MAPE is Given below:"
   ]
  },
  {
   "cell_type": "code",
   "execution_count": 2,
   "metadata": {},
   "outputs": [],
   "source": [
    "def MAPE(y_true, y_pred): \n",
    "    y_true, y_pred = np.array(y_true), np.array(y_pred)\n",
    "    return (np.mean(np.abs((y_true - y_pred) / y_true)) * 100)"
   ]
  },
  {
   "cell_type": "markdown",
   "metadata": {},
   "source": [
    "<a class=\"list-group-item list-group-item-action\" data-toggle=\"list\" href=\"#Model-Evaluation\" role=\"tab\" aria-controls=\"messages\">Go to top<span class=\"badge badge-primary badge-pill\"></span></a>\n"
   ]
  },
  {
   "cell_type": "markdown",
   "metadata": {},
   "source": [
    "## Weighted Mean Absolute error\n",
    "The wMAPE is the metric in which the sales are weighted by sales volumne. Weighted Mean Absolute Percentage Error, as the name suggests, is a **measure that gives greater importance to faster selling products**. Thus it overcomes one of the potential drawbacks of MAPE. There is a very simple way to calculate WMAPE. This involves adding together the absolute errors at the detailed level, then calculating the total of the errors as a percentage of total sales.  This method of calculation leads to the additional benefit that it is robust to individual instances when the base is zero, thus overcoming the divide by zero problem that often occurs with MAPE.\n",
    "\n",
    "WMAPE is a highly useful measure and is becoming increasingly popular both in corporate KPIs and for operational use. It is easily calculated and gives a concise forecast accuracy measurement that can be used to summarise performance at any detailed level across any grouping of products and/or time periods. If a measure of accuracy required this is calculated as 100 - WMAPE."
   ]
  },
  {
   "cell_type": "markdown",
   "metadata": {},
   "source": [
    "Now, in order to show how to run the different Accuracy metrics, we will be prforming Random Forest Regression on a dataset the download link for which is given below:"
   ]
  },
  {
   "cell_type": "markdown",
   "metadata": {},
   "source": [
    "https://www.kaggle.com/uciml/red-wine-quality-cortez-et-al-2009<br>\n",
    "We will start by importing the necessary libraries and the required dataset."
   ]
  },
  {
   "cell_type": "markdown",
   "metadata": {},
   "source": [
    "<a class=\"list-group-item list-group-item-action\" data-toggle=\"list\" href=\"#Model-Evaluation\" role=\"tab\" aria-controls=\"messages\">Go to top<span class=\"badge badge-primary badge-pill\"></span></a>\n"
   ]
  },
  {
   "cell_type": "code",
   "execution_count": 3,
   "metadata": {
    "jupyter": {
     "outputs_hidden": true
    }
   },
   "outputs": [],
   "source": [
    "# Importing the libraries \n",
    "import numpy as np \n",
    "import matplotlib.pyplot as plt \n",
    "import pandas as pd \n",
    "import pandas as pd\n",
    "import numpy as np\n",
    "import matplotlib.pyplot as plt\n",
    "from sklearn.metrics import plot_confusion_matrix\n",
    "from sklearn.model_selection import train_test_split\n",
    "from sklearn.ensemble import RandomForestClassifier\n",
    "from sklearn.feature_extraction.text import TfidfTransformer\n",
    "from sklearn.pipeline import Pipeline\n",
    "from sklearn.feature_extraction.text import CountVectorizer\n",
    "from sklearn import feature_extraction, linear_model, model_selection, preprocessing\n",
    "from sklearn.metrics import accuracy_score\n",
    "import warnings\n",
    "warnings.filterwarnings(\"ignore\", category=UserWarning)\n",
    "warnings.filterwarnings(\"ignore\", category=RuntimeWarning)\n",
    "warnings.filterwarnings(\"ignore\", category=DeprecationWarning)"
   ]
  },
  {
   "cell_type": "code",
   "execution_count": 4,
   "metadata": {},
   "outputs": [],
   "source": [
    "data = pd.read_csv('dataset/winequality-red.csv')"
   ]
  },
  {
   "cell_type": "code",
   "execution_count": 5,
   "metadata": {},
   "outputs": [],
   "source": [
    "data = data.fillna(method='ffill')"
   ]
  },
  {
   "cell_type": "markdown",
   "metadata": {},
   "source": [
    "Our next step is to divide the data into “attributes” and “labels”. X variable contains all the attributes/features and y variable contains labels."
   ]
  },
  {
   "cell_type": "code",
   "execution_count": 6,
   "metadata": {},
   "outputs": [],
   "source": [
    "X = data[['fixed acidity', 'volatile acidity', 'citric acid', 'residual sugar', 'chlorides', 'free sulfur dioxide', 'total sulfur dioxide', 'density', 'pH', 'sulphates','alcohol']]\n",
    "y = data['quality']"
   ]
  },
  {
   "cell_type": "markdown",
   "metadata": {},
   "source": [
    "Next, we split 80% of the data to the training set while 20% of the data to test set using below code."
   ]
  },
  {
   "cell_type": "code",
   "execution_count": 7,
   "metadata": {},
   "outputs": [],
   "source": [
    "from sklearn.model_selection import train_test_split \n",
    "X_train, X_test, y_train, y_test = train_test_split(X, y, test_size=0.2, random_state=0)"
   ]
  },
  {
   "cell_type": "markdown",
   "metadata": {},
   "source": [
    "Now we will run random forest regression on the training set."
   ]
  },
  {
   "cell_type": "code",
   "execution_count": 8,
   "metadata": {},
   "outputs": [
    {
     "data": {
      "text/plain": [
       "RandomForestRegressor(bootstrap=True, ccp_alpha=0.0, criterion='mse',\n",
       "                      max_depth=None, max_features='auto', max_leaf_nodes=None,\n",
       "                      max_samples=None, min_impurity_decrease=0.0,\n",
       "                      min_impurity_split=None, min_samples_leaf=1,\n",
       "                      min_samples_split=2, min_weight_fraction_leaf=0.0,\n",
       "                      n_estimators=1000, n_jobs=None, oob_score=False,\n",
       "                      random_state=42, verbose=0, warm_start=False)"
      ]
     },
     "execution_count": 8,
     "metadata": {},
     "output_type": "execute_result"
    }
   ],
   "source": [
    "# Import RF Regressor\n",
    "from sklearn.ensemble import RandomForestRegressor\n",
    "# Instantiate model with 1000 decision trees\n",
    "rf = RandomForestRegressor(n_estimators = 1000, random_state = 42)\n",
    "# Train the model on training data\n",
    "rf.fit(X_train, y_train)"
   ]
  },
  {
   "cell_type": "code",
   "execution_count": 9,
   "metadata": {},
   "outputs": [],
   "source": [
    "# Now let's do prediction on test data.\n",
    "\n",
    "y_pred = rf.predict(X_test) "
   ]
  },
  {
   "cell_type": "markdown",
   "metadata": {},
   "source": [
    "### _Code_\n",
    "Now we can calculate the accuracy of our model using the different accuracy metrics that we have explained above. "
   ]
  },
  {
   "cell_type": "code",
   "execution_count": 10,
   "metadata": {},
   "outputs": [
    {
     "name": "stdout",
     "output_type": "stream",
     "text": [
      "_____________________________________\n",
      "Explained variance Score: [0.45337001]\n",
      "_____________________________________\n",
      "Max Error: 2.615\n",
      "_____________________________________\n",
      "Mean Absolute Error: 0.40428437500000003\n",
      "_____________________________________\n",
      "Mean Squared Error: 0.318432278125\n",
      "_____________________________________\n",
      "Root Mean Squared Error: 0.5642980401569724\n",
      "_____________________________________\n",
      "Mean Squared Log Error: 0.008019925336798525\n",
      "_____________________________________\n",
      "Median Absolute Error: 0.3089999999999997\n",
      "_____________________________________\n",
      "Mean Percentage Error: -0.024683098958333333\n",
      "_____________________________________\n",
      "Mean Absolute Percentage Error: 7.658587425595238\n"
     ]
    }
   ],
   "source": [
    "#Error Calculations\n",
    "from sklearn import metrics\n",
    "#Explained Variance Score\n",
    "print(\"_____________________________________\")\n",
    "print('Explained variance Score:', metrics.explained_variance_score(y_test, y_pred, multioutput='raw_values'))\n",
    "explained_variance_score= metrics.explained_variance_score(y_test, y_pred, multioutput='raw_values')\n",
    "#Max Error\n",
    "print(\"_____________________________________\")\n",
    "print('Max Error:', metrics.max_error(y_test, y_pred))\n",
    "max_error=metrics.max_error(y_test, y_pred)\n",
    "#Mean Absolute Error\n",
    "print(\"_____________________________________\")\n",
    "print('Mean Absolute Error:', metrics.mean_absolute_error(y_test, y_pred))\n",
    "mean_absolute_error=metrics.mean_absolute_error(y_test, y_pred)\n",
    "#Mean Squared Error\n",
    "print(\"_____________________________________\")\n",
    "print('Mean Squared Error:', metrics.mean_squared_error(y_test, y_pred)) \n",
    "mean_squared_error=metrics.mean_squared_error(y_test, y_pred)\n",
    "#Root Mean Squared Error\n",
    "print(\"_____________________________________\")\n",
    "print('Root Mean Squared Error:', np.sqrt(metrics.mean_squared_error(y_test, y_pred)))\n",
    "root_mean_squared_error=np.sqrt(metrics.mean_squared_error(y_test, y_pred))\n",
    "#Mean Squared Log Error\n",
    "print(\"_____________________________________\")\n",
    "print('Mean Squared Log Error:', metrics.mean_squared_log_error(y_test, y_pred))\n",
    "mean_squared_log_error=metrics.mean_squared_log_error(y_test, y_pred)\n",
    "#Median Absolute Error\n",
    "print(\"_____________________________________\")\n",
    "print('Median Absolute Error:', metrics.median_absolute_error(y_test, y_pred))\n",
    "median_absolute_error=metrics.median_absolute_error(y_test, y_pred)\n",
    "#Median Absolute Error\n",
    "print(\"_____________________________________\")\n",
    "print('Mean Percentage Error:', MPE(y_test, y_pred))\n",
    "mean_percentage_error=MPE(y_test, y_pred)\n",
    "#Median Absolute Error\n",
    "print(\"_____________________________________\")\n",
    "print('Mean Absolute Percentage Error:', MAPE(y_test, y_pred))\n",
    "mean_absolute_percentage_error=MAPE(y_test, y_pred)"
   ]
  },
  {
   "cell_type": "code",
   "execution_count": 11,
   "metadata": {},
   "outputs": [],
   "source": [
    "#Dataframe of errors given by all the metrics explained above\n",
    "data={\"Error Metric\":['Explained variance Score', 'Max Error', 'Mean Absolute Error', 'Mean Squared Error', 'Root Mean Squared Error','Mean Squared Log Error','Median Absolute Error','Mean Percentage Error','Mean Absolute Percentage Error'],\n",
    "      \"Score\":[\"%.4f\" % explained_variance_score, \"%.4f\" % max_error, \"%.4f\" % mean_absolute_error, \"%.4f\" % mean_squared_error, \"%.4f\" % root_mean_squared_error, \"%.4f\" % mean_squared_log_error, \"%.4f\" % median_absolute_error, \"%.4f\" % mean_percentage_error, \"%.4f\" % mean_absolute_percentage_error]}\n",
    "error_df = pd.DataFrame(data)"
   ]
  },
  {
   "cell_type": "code",
   "execution_count": 12,
   "metadata": {
    "scrolled": false
   },
   "outputs": [
    {
     "data": {
      "text/html": [
       "<div>\n",
       "<style scoped>\n",
       "    .dataframe tbody tr th:only-of-type {\n",
       "        vertical-align: middle;\n",
       "    }\n",
       "\n",
       "    .dataframe tbody tr th {\n",
       "        vertical-align: top;\n",
       "    }\n",
       "\n",
       "    .dataframe thead th {\n",
       "        text-align: right;\n",
       "    }\n",
       "</style>\n",
       "<table border=\"1\" class=\"dataframe\">\n",
       "  <thead>\n",
       "    <tr style=\"text-align: right;\">\n",
       "      <th></th>\n",
       "      <th>Error Metric</th>\n",
       "      <th>Score</th>\n",
       "    </tr>\n",
       "  </thead>\n",
       "  <tbody>\n",
       "    <tr>\n",
       "      <th>0</th>\n",
       "      <td>Explained variance Score</td>\n",
       "      <td>0.4534</td>\n",
       "    </tr>\n",
       "    <tr>\n",
       "      <th>1</th>\n",
       "      <td>Max Error</td>\n",
       "      <td>2.6150</td>\n",
       "    </tr>\n",
       "    <tr>\n",
       "      <th>2</th>\n",
       "      <td>Mean Absolute Error</td>\n",
       "      <td>0.4043</td>\n",
       "    </tr>\n",
       "    <tr>\n",
       "      <th>3</th>\n",
       "      <td>Mean Squared Error</td>\n",
       "      <td>0.3184</td>\n",
       "    </tr>\n",
       "    <tr>\n",
       "      <th>4</th>\n",
       "      <td>Root Mean Squared Error</td>\n",
       "      <td>0.5643</td>\n",
       "    </tr>\n",
       "    <tr>\n",
       "      <th>5</th>\n",
       "      <td>Mean Squared Log Error</td>\n",
       "      <td>0.0080</td>\n",
       "    </tr>\n",
       "    <tr>\n",
       "      <th>6</th>\n",
       "      <td>Median Absolute Error</td>\n",
       "      <td>0.3090</td>\n",
       "    </tr>\n",
       "    <tr>\n",
       "      <th>7</th>\n",
       "      <td>Mean Percentage Error</td>\n",
       "      <td>-0.0247</td>\n",
       "    </tr>\n",
       "    <tr>\n",
       "      <th>8</th>\n",
       "      <td>Mean Absolute Percentage Error</td>\n",
       "      <td>7.6586</td>\n",
       "    </tr>\n",
       "  </tbody>\n",
       "</table>\n",
       "</div>"
      ],
      "text/plain": [
       "                     Error Metric    Score\n",
       "0        Explained variance Score   0.4534\n",
       "1                       Max Error   2.6150\n",
       "2             Mean Absolute Error   0.4043\n",
       "3              Mean Squared Error   0.3184\n",
       "4         Root Mean Squared Error   0.5643\n",
       "5          Mean Squared Log Error   0.0080\n",
       "6           Median Absolute Error   0.3090\n",
       "7           Mean Percentage Error  -0.0247\n",
       "8  Mean Absolute Percentage Error   7.6586"
      ]
     },
     "execution_count": 12,
     "metadata": {},
     "output_type": "execute_result"
    }
   ],
   "source": [
    "error_df"
   ]
  },
  {
   "cell_type": "markdown",
   "metadata": {},
   "source": [
    "<a class=\"list-group-item list-group-item-action\" data-toggle=\"list\" href=\"#Model-Evaluation\" role=\"tab\" aria-controls=\"messages\">Go to top<span class=\"badge badge-primary badge-pill\"></span></a>\n"
   ]
  },
  {
   "cell_type": "markdown",
   "metadata": {},
   "source": [
    "## Tips for Metric Selection\n",
    "- The **MAE is also the most intuitive of the metrics** one should by just looking at the absolute difference between the data and the model’s predictions<br>\n",
    "\n",
    "\n",
    "- MAE does not indicate underperformance or overperformance of the model (whether or not the model under or overshoots actual data). Each residual contributes proportionally to the total amount of error, meaning that larger errors will contribute linearly to the overall error<br> \n",
    "\n",
    "\n",
    "- A **small MAE** suggests the model is great at prediction, while a **large MAE** suggests that, model may have trouble in certain areas. A MAE of 0 means that your model is a perfect predictor of the outputs (but this will almost never happen)<br><br>\n",
    "\n",
    "\n",
    "- While the MAE is easily interpretable, using the absolute value of the residual often is not as desirable as squaring this difference. Depending on how the model to treat outliers, or extreme values, in the data, one may want to bring more attention to these outliers or downplay them. The issue of outliers can play a major role in which error metric you use<br>\n",
    "\n",
    "\n",
    "- Because of squaring the difference, the **MSE will almost always be bigger than the MAE**. For this reason, we cannot directly compare the MAE to the MSE. **one can only compare model’s error metrics to those of a competing model**<br>\n",
    "\n",
    "- The effect of the square term in the MSE equation is most apparent with the presence of outliers in our data. **While each residual in MAE contributes proportionally to the total error, the error grows quadratically in MSE**<br><br>\n",
    "\n",
    "\n",
    "- RMSE is the square root of the MSE. Because the **MSE is squared, its units do not match that of the original output**. Researchers will often use **RMSE to convert the error metric** back into similar units, making interpretation easier<br>\n",
    "\n",
    "\n",
    "- Taking the square root before they are averaged, **RMSE gives a relatively high weight to large errors**, so RMSE should be useful when large errors are undesirable.<br><br>\n",
    "\n",
    "\n",
    "- Just as MAE is the average magnitude of error produced by your model, the **MAPE is how far the model’s predictions are off** from their corresponding outputs on average. Like MAE, MAPE also has a clear interpretation since percentages are easier for people to conceptualize. **Both MAPE and MAE are robust to the effects of outliers**<br>\n",
    "\n",
    "\n",
    "- Many of MAPE’s weaknesses actually stem from use division operation. MAPE is **undefined for data points where the value is 0**. Similarly, the MAPE can grow unexpectedly large if the actual values are exceptionally small themselves<br>\n",
    "\n",
    "\n",
    "- Finally, the MAPE is **biased towards predictions** that are systematically less than the actual values themselves. That is to say, MAPE will be lower when the prediction is lower than the actual compared to a prediction that is higher by the same amount. \n",
    "\n",
    "The table given below can also be helpful in regard to metric understanding:\n",
    "\n",
    "\n",
    "|Acroynm|Full Name|Residual Operation?|Robust To Outliers|\n",
    "|-------|---------|-------------------|------------------|\n",
    "|MAE|Mean Absolute Error|Absolute Value|Yes|\n",
    "|MSE|Mean Squared Error\tSquare|No|No|\n",
    "|RMSE|Root Mean Squared Error|Square|No|\n",
    "|MAPE|Mean Absolute Percentage Error|Absolute Value|Yes|\n",
    "|MPE|Mean Percentage Error|N/A|Yes|\n"
   ]
  },
  {
   "cell_type": "markdown",
   "metadata": {},
   "source": [
    "<a class=\"list-group-item list-group-item-action\" data-toggle=\"list\" href=\"#Model-Evaluation\" role=\"tab\" aria-controls=\"messages\">Go to top<span class=\"badge badge-primary badge-pill\"></span></a>\n"
   ]
  },
  {
   "cell_type": "markdown",
   "metadata": {},
   "source": [
    "# Cross Validation\n",
    "Cross-validation is a resampling procedure used to evaluate machine learning models on a limited data sample.\n",
    "Cross-validation is primarily used in applied machine learning to estimate the skill of a machine learning model on unseen data. That is, to use a limited sample in order to estimate how the model is expected to perform in general when used to make predictions on data not used during the training of the model."
   ]
  },
  {
   "cell_type": "markdown",
   "metadata": {},
   "source": [
    "**K-Folds Cross Validation**\n",
    "<br>In K-Folds Cross Validation we split our data into k different subsets (or folds). We use k-1 subsets to train our data and leave the last subset (or the last fold) as test data. We then average the model against each of the folds and then finalize our model. After that we test it against the test set."
   ]
  },
  {
   "cell_type": "code",
   "execution_count": 13,
   "metadata": {},
   "outputs": [],
   "source": [
    "from sklearn.model_selection import KFold\n",
    "kf = KFold(n_splits = 5, shuffle = True, random_state = 2)\n",
    "for train_index, test_index in kf.split(X):\n",
    "    # Split train-test\n",
    "    X_train, X_test = X.iloc[train_index], X.iloc[test_index]\n",
    "    y_train, y_test = y[train_index], y[test_index]"
   ]
  },
  {
   "cell_type": "code",
   "execution_count": 14,
   "metadata": {},
   "outputs": [
    {
     "name": "stdout",
     "output_type": "stream",
     "text": [
      "Mean Squared Error: 0.39817868338557993\n"
     ]
    }
   ],
   "source": [
    "rf = RandomForestRegressor(n_estimators = 100, random_state = 42)\n",
    "#Train the model on training data\n",
    "rf.fit(X_train, y_train)\n",
    "y_pred_kfold = rf.predict(X_test)\n",
    "print('Mean Squared Error:', metrics.mean_squared_error(y_test, y_pred_kfold)) \n",
    "mean_squared_error=metrics.mean_squared_error(y_test, y_pred_kfold)\n"
   ]
  },
  {
   "cell_type": "markdown",
   "metadata": {},
   "source": [
    "<a class=\"list-group-item list-group-item-action\" data-toggle=\"list\" href=\"#Model-Evaluation\" role=\"tab\" aria-controls=\"messages\">Go to top<span class=\"badge badge-primary badge-pill\"></span></a>\n"
   ]
  },
  {
   "cell_type": "markdown",
   "metadata": {},
   "source": [
    "# StratifiedKFold\n",
    "StratifiedKFold is a variation of KFold. First, StratifiedKFold shuffles your data, after that splits the data into n_splits parts and Done. Now, it will use each part as a test set. Note that it only and always shuffles data one time before splitting.\n",
    "\n",
    "\n",
    "**Difference in KFold and ShuffleSplit output**\n",
    "\n",
    "KFold will divide your data set into prespecified number of folds, and every sample must be in one and only one fold. A fold is a subset of your dataset.\n",
    "\n",
    "ShuffleSplit will randomly sample your entire dataset during each iteration to generate a training set and a test set. The test_size and train_size parameters control how large the test and training test set should be for each iteration. Since you are sampling from the entire dataset during each iteration, values selected during one iteration, could be selected again during another iteration.\n",
    "\n",
    "Summary: ShuffleSplit works iteratively, KFold just divides the dataset into k folds.\n",
    "\n",
    "**Difference when doing validation**\n",
    "\n",
    "In KFold, during each round you will use one fold as the test set and all the remaining folds as your training set. However, in ShuffleSplit, during each round n you should only use the training and test set from iteration n. As your data set grows, cross validation time increases, making shufflesplits a more attractive alternate. If you can train your algorithm, with a certain percentage of your data as opposed to using all k-1 folds, ShuffleSplit is an attractive option."
   ]
  },
  {
   "cell_type": "code",
   "execution_count": 15,
   "metadata": {},
   "outputs": [],
   "source": [
    "from sklearn.model_selection import StratifiedKFold\n",
    "skf = StratifiedKFold(n_splits=5, random_state=None)\n",
    "# X is the feature set and y is the target\n",
    "for train_index, test_index in skf.split(X,y):\n",
    "    # Split train-test\n",
    "    X_train, X_test = X.iloc[train_index], X.iloc[test_index]\n",
    "    y_train, y_test = y[train_index], y[test_index]"
   ]
  },
  {
   "cell_type": "code",
   "execution_count": 16,
   "metadata": {},
   "outputs": [
    {
     "data": {
      "text/plain": [
       "RandomForestRegressor(bootstrap=True, ccp_alpha=0.0, criterion='mse',\n",
       "                      max_depth=None, max_features='auto', max_leaf_nodes=None,\n",
       "                      max_samples=None, min_impurity_decrease=0.0,\n",
       "                      min_impurity_split=None, min_samples_leaf=1,\n",
       "                      min_samples_split=2, min_weight_fraction_leaf=0.0,\n",
       "                      n_estimators=100, n_jobs=None, oob_score=False,\n",
       "                      random_state=42, verbose=0, warm_start=False)"
      ]
     },
     "execution_count": 16,
     "metadata": {},
     "output_type": "execute_result"
    }
   ],
   "source": [
    "rf = RandomForestRegressor(n_estimators = 100, random_state = 42)\n",
    "# Train the model on training data\n",
    "rf.fit(X_train, y_train)"
   ]
  },
  {
   "cell_type": "code",
   "execution_count": 17,
   "metadata": {},
   "outputs": [
    {
     "name": "stdout",
     "output_type": "stream",
     "text": [
      "Mean Squared Error: 0.4155485893416928\n"
     ]
    }
   ],
   "source": [
    "y_pred_kfold = rf.predict(X_test)\n",
    "print('Mean Squared Error:', metrics.mean_squared_error(y_test, y_pred_kfold)) \n",
    "mean_squared_error=metrics.mean_squared_error(y_test, y_pred_kfold)\n"
   ]
  },
  {
   "cell_type": "markdown",
   "metadata": {},
   "source": [
    "<a class=\"list-group-item list-group-item-action\" data-toggle=\"list\" href=\"#Model-Evaluation\" role=\"tab\" aria-controls=\"messages\">Go to top<span class=\"badge badge-primary badge-pill\"></span></a>\n"
   ]
  },
  {
   "cell_type": "markdown",
   "metadata": {},
   "source": [
    "# Accuracy Metrics for Binary Classification"
   ]
  },
  {
   "cell_type": "markdown",
   "metadata": {},
   "source": [
    "The True and Fake news classification dataset will be used to show how model evaluation for Binary Classification Can be done. The dataset can be downloaded from the link below:<br>\n",
    "https://www.kaggle.com/clmentbisaillon/fake-and-real-news-dataset"
   ]
  },
  {
   "cell_type": "code",
   "execution_count": 18,
   "metadata": {},
   "outputs": [],
   "source": [
    "true = pd.read_csv(r'dataset/True.csv')\n",
    "fake = pd.read_csv(r'dataset/fake.csv')"
   ]
  },
  {
   "cell_type": "code",
   "execution_count": 19,
   "metadata": {},
   "outputs": [
    {
     "name": "stdout",
     "output_type": "stream",
     "text": [
      "The size of dataset (44898, 5)\n"
     ]
    }
   ],
   "source": [
    "fake['target'] = 'fake'\n",
    "true['target'] = 'true'\n",
    "news = pd.concat([fake, true]).reset_index(drop = True)\n",
    "print('The size of dataset',news.shape)"
   ]
  },
  {
   "cell_type": "code",
   "execution_count": 20,
   "metadata": {},
   "outputs": [
    {
     "data": {
      "text/html": [
       "<div>\n",
       "<style scoped>\n",
       "    .dataframe tbody tr th:only-of-type {\n",
       "        vertical-align: middle;\n",
       "    }\n",
       "\n",
       "    .dataframe tbody tr th {\n",
       "        vertical-align: top;\n",
       "    }\n",
       "\n",
       "    .dataframe thead th {\n",
       "        text-align: right;\n",
       "    }\n",
       "</style>\n",
       "<table border=\"1\" class=\"dataframe\">\n",
       "  <thead>\n",
       "    <tr style=\"text-align: right;\">\n",
       "      <th></th>\n",
       "      <th>title</th>\n",
       "      <th>text</th>\n",
       "      <th>subject</th>\n",
       "      <th>date</th>\n",
       "      <th>target</th>\n",
       "    </tr>\n",
       "  </thead>\n",
       "  <tbody>\n",
       "    <tr>\n",
       "      <th>0</th>\n",
       "      <td>Donald Trump Sends Out Embarrassing New Year’...</td>\n",
       "      <td>Donald Trump just couldn t wish all Americans ...</td>\n",
       "      <td>News</td>\n",
       "      <td>December 31, 2017</td>\n",
       "      <td>fake</td>\n",
       "    </tr>\n",
       "    <tr>\n",
       "      <th>1</th>\n",
       "      <td>Drunk Bragging Trump Staffer Started Russian ...</td>\n",
       "      <td>House Intelligence Committee Chairman Devin Nu...</td>\n",
       "      <td>News</td>\n",
       "      <td>December 31, 2017</td>\n",
       "      <td>fake</td>\n",
       "    </tr>\n",
       "    <tr>\n",
       "      <th>2</th>\n",
       "      <td>Sheriff David Clarke Becomes An Internet Joke...</td>\n",
       "      <td>On Friday, it was revealed that former Milwauk...</td>\n",
       "      <td>News</td>\n",
       "      <td>December 30, 2017</td>\n",
       "      <td>fake</td>\n",
       "    </tr>\n",
       "    <tr>\n",
       "      <th>3</th>\n",
       "      <td>Trump Is So Obsessed He Even Has Obama’s Name...</td>\n",
       "      <td>On Christmas day, Donald Trump announced that ...</td>\n",
       "      <td>News</td>\n",
       "      <td>December 29, 2017</td>\n",
       "      <td>fake</td>\n",
       "    </tr>\n",
       "    <tr>\n",
       "      <th>4</th>\n",
       "      <td>Pope Francis Just Called Out Donald Trump Dur...</td>\n",
       "      <td>Pope Francis used his annual Christmas Day mes...</td>\n",
       "      <td>News</td>\n",
       "      <td>December 25, 2017</td>\n",
       "      <td>fake</td>\n",
       "    </tr>\n",
       "  </tbody>\n",
       "</table>\n",
       "</div>"
      ],
      "text/plain": [
       "                                               title  \\\n",
       "0   Donald Trump Sends Out Embarrassing New Year’...   \n",
       "1   Drunk Bragging Trump Staffer Started Russian ...   \n",
       "2   Sheriff David Clarke Becomes An Internet Joke...   \n",
       "3   Trump Is So Obsessed He Even Has Obama’s Name...   \n",
       "4   Pope Francis Just Called Out Donald Trump Dur...   \n",
       "\n",
       "                                                text subject  \\\n",
       "0  Donald Trump just couldn t wish all Americans ...    News   \n",
       "1  House Intelligence Committee Chairman Devin Nu...    News   \n",
       "2  On Friday, it was revealed that former Milwauk...    News   \n",
       "3  On Christmas day, Donald Trump announced that ...    News   \n",
       "4  Pope Francis used his annual Christmas Day mes...    News   \n",
       "\n",
       "                date target  \n",
       "0  December 31, 2017   fake  \n",
       "1  December 31, 2017   fake  \n",
       "2  December 30, 2017   fake  \n",
       "3  December 29, 2017   fake  \n",
       "4  December 25, 2017   fake  "
      ]
     },
     "execution_count": 20,
     "metadata": {},
     "output_type": "execute_result"
    }
   ],
   "source": [
    "news.head()"
   ]
  },
  {
   "cell_type": "code",
   "execution_count": 21,
   "metadata": {},
   "outputs": [],
   "source": [
    "x_train,x_test,y_train,y_test = train_test_split(news['text'], news.target, test_size=0.2, random_state=2020)\n",
    "# y_test_copy =y_test.copy()"
   ]
  },
  {
   "cell_type": "code",
   "execution_count": 22,
   "metadata": {},
   "outputs": [
    {
     "name": "stdout",
     "output_type": "stream",
     "text": [
      "accuracy: 99.05%\n"
     ]
    }
   ],
   "source": [
    "pipe = Pipeline([('vect', CountVectorizer()),\n",
    "                 ('tfidf', TfidfTransformer()),\n",
    "                 ('model', RandomForestClassifier())])\n",
    "\n",
    "model = pipe.fit(x_train, y_train)\n",
    "prediction = model.predict(x_test)\n",
    "print(\"accuracy: {}%\".format(round(accuracy_score(y_test, prediction)*100,2)))"
   ]
  },
  {
   "cell_type": "code",
   "execution_count": 23,
   "metadata": {
    "scrolled": true
   },
   "outputs": [
    {
     "name": "stdout",
     "output_type": "stream",
     "text": [
      "accuracy: 99.05%\n"
     ]
    }
   ],
   "source": [
    "from sklearn.metrics import accuracy_score\n",
    "print(\"accuracy: {}%\".format(round(accuracy_score(y_test, prediction)*100,2)))"
   ]
  },
  {
   "cell_type": "markdown",
   "metadata": {},
   "source": [
    "<a class=\"list-group-item list-group-item-action\" data-toggle=\"list\" href=\"#Model-Evaluation\" role=\"tab\" aria-controls=\"messages\">Go to top<span class=\"badge badge-primary badge-pill\"></span></a>\n"
   ]
  },
  {
   "cell_type": "markdown",
   "metadata": {},
   "source": [
    "# Cohen’s kappa \n",
    "\n",
    "It is a statistic that **measures inter-annotator agreement**.\n",
    "\n",
    "This function computes Cohen’s kappa, a **score that expresses the level of agreement between two annotators** on a classification problem. It is defined as:<<br>\n",
    "$[\\kappa = (p_o - p_e) / (1 - p_e)]$<br>\n",
    "where  is the empirical probability of agreement on the label assigned to any sample (the observed agreement ratio), and  is the expected agreement when both annotators assign labels randomly.  is estimated using a per-annotator empirical prior over the class labels"
   ]
  },
  {
   "cell_type": "code",
   "execution_count": 24,
   "metadata": {},
   "outputs": [
    {
     "data": {
      "text/plain": [
       "0.9810118237654452"
      ]
     },
     "execution_count": 24,
     "metadata": {},
     "output_type": "execute_result"
    }
   ],
   "source": [
    "from sklearn.metrics import cohen_kappa_score\n",
    "cohen_kappa_score(y_test, prediction)\n"
   ]
  },
  {
   "cell_type": "markdown",
   "metadata": {},
   "source": [
    "<a class=\"list-group-item list-group-item-action\" data-toggle=\"list\" href=\"#Model-Evaluation\" role=\"tab\" aria-controls=\"messages\">Go to top<span class=\"badge badge-primary badge-pill\"></span></a>\n"
   ]
  },
  {
   "cell_type": "markdown",
   "metadata": {},
   "source": [
    "# Hamming Loss\n",
    "The hamming_loss computes the average Hamming loss or **Hamming distance between two sets of samples**.\n",
    "\n",
    "If $hat{y}_j$ is the predicted value for the $j$-th label of a given sample, $y_j$ is the corresponding true value, and $n_text{labels}$ is the number of classes or labels, then the Hamming loss $L_{Hamming}$ between two samples is defined as:<br>\n",
    "$L_{Hamming}(y, \\hat{y}) = \\frac{1}{n_\\text{labels}} \\sum_{j=0}^{n_\\text{labels} - 1} 1(\\hat{y}_j \\not= y_j)$<br>\n",
    "where $1(x)$ is the indicator function.\n",
    "\n"
   ]
  },
  {
   "cell_type": "code",
   "execution_count": 25,
   "metadata": {
    "scrolled": true
   },
   "outputs": [
    {
     "data": {
      "text/plain": [
       "0.009465478841870824"
      ]
     },
     "execution_count": 25,
     "metadata": {},
     "output_type": "execute_result"
    }
   ],
   "source": [
    "from sklearn.metrics import hamming_loss\n",
    "hamming_loss(y_test, prediction)\n"
   ]
  },
  {
   "cell_type": "markdown",
   "metadata": {},
   "source": [
    "<a class=\"list-group-item list-group-item-action\" data-toggle=\"list\" href=\"#Model-Evaluation\" role=\"tab\" aria-controls=\"messages\">Go to top<span class=\"badge badge-primary badge-pill\"></span></a>\n",
    "\n"
   ]
  },
  {
   "cell_type": "markdown",
   "metadata": {},
   "source": [
    "# Confusion Matrix\n",
    "\n",
    "A confusion matrix is a summary of prediction results on a classification problem. The number of correct and incorrect predictions are summarized with count values and broken down by each class. This is the key to the confusion matrix. The confusion matrix shows the ways in which your classification model is confused when it makes predictions. It gives us insight not only into the errors being made by a classifier but more importantly the types of errors that are being made."
   ]
  },
  {
   "attachments": {
    "confusion%20matrix.PNG": {
     "image/png": "[encoded data removed]"
    }
   },
   "cell_type": "markdown",
   "metadata": {},
   "source": [
    "![confusion%20matrix.PNG](attachment:confusion%20matrix.PNG)\n",
    "\n",
    "Here,\n",
    "\n",
    "<br>Class 1 : Positive\n",
    "<br>Class 2 : Negative\n",
    "\n",
    "**Definition of the Terms:**\n",
    "\n",
    "<br>Positive (P) : Observation is positive (for example: is an apple).\n",
    "<br>Negative (N) : Observation is not positive (for example: is not an apple).\n",
    "<br>True Positive (TP) : Observation is positive, and is predicted to be positive.\n",
    "<br>False Negative (FN) : Observation is positive, but is predicted negative.\n",
    "<br>True Negative (TN) : Observation is negative, and is predicted to be negative.\n",
    "<br>False Positive (FP) : Observation is negative, but is predicted positive."
   ]
  },
  {
   "cell_type": "code",
   "execution_count": 26,
   "metadata": {},
   "outputs": [
    {
     "data": {
      "text/plain": [
       "Text(0.5, 1, 'Confusion Matix')"
      ]
     },
     "execution_count": 26,
     "metadata": {},
     "output_type": "execute_result"
    },
    {
     "data": {
      "image/png": "[encoded data removed]",
      "text/plain": [
       "<Figure size 432x288 with 2 Axes>"
      ]
     },
     "metadata": {
      "needs_background": "light"
     },
     "output_type": "display_data"
    }
   ],
   "source": [
    "#using plot_confusion_matrix\n",
    "from sklearn.metrics import confusion_matrix\n",
    "table2=confusion_matrix(y_test, prediction)\n",
    "#using seaborn\n",
    "# fake = 0, true = 1\n",
    "import seaborn as sns\n",
    "ax = sns.heatmap(table2,annot=True,cmap='Blues', fmt='g')\n",
    "ax.set(xlabel=\"Predticted label\", ylabel = \"True label\")\n",
    "ax.set_title('Confusion Matix')"
   ]
  },
  {
   "cell_type": "markdown",
   "metadata": {},
   "source": [
    "<a class=\"list-group-item list-group-item-action\" data-toggle=\"list\" href=\"#Model-Evaluation\" role=\"tab\" aria-controls=\"messages\">Go to top<span class=\"badge badge-primary badge-pill\"></span></a>\n",
    "\n"
   ]
  },
  {
   "cell_type": "markdown",
   "metadata": {},
   "source": [
    "# Precision-Recall (PR) Curve\n",
    "A PR curve is simply a graph with **Precision values on the y-axis and Recall values on the x-axis**. In other words, the PR curve contains TP/(TP+FN) on the y-axis and TP/(TP+FP) on the x-axis.\n",
    "\n",
    "1. It is important to note that Precision is also called the Positive Predictive Value (PPV).\n",
    "2. Recall is also called Sensitivity, Hit Rate or True Positive Rate (TPR)."
   ]
  },
  {
   "cell_type": "code",
   "execution_count": 27,
   "metadata": {
    "scrolled": true
   },
   "outputs": [
    {
     "data": {
      "text/plain": [
       "Text(0.5, 1.0, '2-class Precision-Recall curve')"
      ]
     },
     "execution_count": 27,
     "metadata": {},
     "output_type": "execute_result"
    },
    {
     "data": {
      "image/png": "[encoded data removed]",
      "text/plain": [
       "<Figure size 432x288 with 1 Axes>"
      ]
     },
     "metadata": {
      "needs_background": "light"
     },
     "output_type": "display_data"
    }
   ],
   "source": [
    "from sklearn.metrics import plot_precision_recall_curve\n",
    "disp = plot_precision_recall_curve(model, x_test, y_test)\n",
    "disp.ax_.set_title('2-class Precision-Recall curve')"
   ]
  },
  {
   "cell_type": "markdown",
   "metadata": {},
   "source": [
    "<a class=\"list-group-item list-group-item-action\" data-toggle=\"list\" href=\"#Model-Evaluation\" role=\"tab\" aria-controls=\"messages\">Go to top<span class=\"badge badge-primary badge-pill\"></span></a>\n",
    "\n"
   ]
  },
  {
   "cell_type": "markdown",
   "metadata": {},
   "source": [
    "# ROC (Receiver Operating Characteristics)"
   ]
  },
  {
   "cell_type": "markdown",
   "metadata": {},
   "source": [
    "ROC Curves are used to see how well your classifier can separate positive and negative examples and to identify the best threshold for separating them."
   ]
  },
  {
   "cell_type": "markdown",
   "metadata": {},
   "source": [
    "In ROC curves, the true positive rate (TPR, y-axis) is plotted against the false positive rate (FPR, x-axis). These quantities are defined as follows:<br>\n",
    "**TPR(True Positve Rate) = TP/(TP+FN)<br>\n",
    "FPR(False Positve Rate) = FP/(TN+FP)**\n"
   ]
  },
  {
   "cell_type": "code",
   "execution_count": 28,
   "metadata": {},
   "outputs": [],
   "source": [
    "pre = pd.Series(prediction)\n",
    "y_test.replace(to_replace = 'true',value=1,inplace = True)\n",
    "y_test.replace(to_replace = 'fake',value= 0,inplace = True)\n",
    "pre.replace(to_replace = 'fake',value= 0,inplace = True,)\n",
    "pre.replace(to_replace = 'true',value= 1,inplace = True)"
   ]
  },
  {
   "cell_type": "code",
   "execution_count": 29,
   "metadata": {},
   "outputs": [
    {
     "name": "stdout",
     "output_type": "stream",
     "text": [
      "0.9905486227211209\n"
     ]
    }
   ],
   "source": [
    "import sklearn.metrics as metrics\n",
    "fpr, tpr, threshold = metrics.roc_curve(y_test, prediction)\n",
    "roc_auc = metrics.auc(fpr, tpr)\n",
    "print(roc_auc)"
   ]
  },
  {
   "cell_type": "code",
   "execution_count": 30,
   "metadata": {
    "scrolled": true
   },
   "outputs": [
    {
     "data": {
      "image/png": "[encoded data removed]",
      "text/plain": [
       "<Figure size 432x288 with 1 Axes>"
      ]
     },
     "metadata": {
      "needs_background": "light"
     },
     "output_type": "display_data"
    }
   ],
   "source": [
    "import matplotlib.pyplot as plt\n",
    "plt.title('ROC Curve')\n",
    "plt.plot(fpr, tpr, 'b', label = 'AUC = %0.2f' % roc_auc)\n",
    "plt.legend(loc = 'lower right')\n",
    "plt.plot([0, 1], [0, 1],'r--')\n",
    "plt.xlim([0, 1])\n",
    "plt.ylim([0, 1])\n",
    "plt.ylabel('True Positive Rate')\n",
    "plt.xlabel('False Positive Rate')\n",
    "plt.show()\n"
   ]
  },
  {
   "cell_type": "markdown",
   "metadata": {},
   "source": [
    "<a class=\"list-group-item list-group-item-action\" data-toggle=\"list\" href=\"#Model-Evaluation\" role=\"tab\" aria-controls=\"messages\">Go to top<span class=\"badge badge-primary badge-pill\"></span></a>\n",
    "\n"
   ]
  },
  {
   "cell_type": "markdown",
   "metadata": {},
   "source": [
    "# AUC (Area Under the Curve)\n",
    "The model performance is determined by looking at the area under the ROC curve (or AUC). **An excellent model has AUC near to the 1.0**, which means it has a good measure of separability. For your model, the AUC is the combined are of the blue, green and purple rectangles,\n",
    "<br>so the AUC = 0.4 x 0.6 + 0.2 x 0.8 + 0.4 x 1.0 = 0.80."
   ]
  },
  {
   "attachments": {
    "AUC.PNG": {
     "image/png": "[encoded data removed]"
    }
   },
   "cell_type": "markdown",
   "metadata": {},
   "source": [
    "![AUC.PNG](attachment:AUC.PNG)"
   ]
  },
  {
   "cell_type": "code",
   "execution_count": 31,
   "metadata": {},
   "outputs": [
    {
     "name": "stdout",
     "output_type": "stream",
     "text": [
      "0.9905486227211209\n"
     ]
    }
   ],
   "source": [
    "# AUC explaned in above illustration \n",
    "roc_auc = metrics.auc(fpr, tpr)\n",
    "print(roc_auc)"
   ]
  },
  {
   "cell_type": "markdown",
   "metadata": {},
   "source": [
    "<a class=\"list-group-item list-group-item-action\" data-toggle=\"list\" href=\"#Model-Evaluation\" role=\"tab\" aria-controls=\"messages\">Go to top<span class=\"badge badge-primary badge-pill\"></span></a>\n",
    "\n"
   ]
  },
  {
   "cell_type": "markdown",
   "metadata": {},
   "source": [
    "# Accuracy Metrics for Multi-Class Classification\n",
    "In multiclass and multilabel classification task, the notions of precision, recall, and F-measures can be applied to each label independently. There are a few ways to combine results across labels, specified by the average argument to the average_precision_score (multilabel only), f1_score, fbeta_score, precision_recall_fscore_support, precision_score and recall_score functions, as described above. <br><br>\n",
    "Note that if all labels are included, “micro”-averaging in a multiclass setting will produce precision, recall and $F$ that are all identical to accuracy. Also note that “weighted” averaging may produce an F-score that is not between precision and recall."
   ]
  },
  {
   "cell_type": "markdown",
   "metadata": {},
   "source": [
    "## Accuarcy Score\n",
    "The accuracy_score function **computes the accuracy, either the fraction (default) or the count (normalize=False) of correct predictions**.\n",
    "\n",
    "**In multilabel classification, the function returns the subset accuracy**. If the entire set of predicted labels for a sample strictly match with the true set of labels, then the subset accuracy is 1.0; otherwise it is 0.0.\n",
    "\n",
    "If $\\hat{y}_i$ is the predicted value of the $i$-th sample and $y_i$ is the corresponding true value, then the fraction of correct predictions over $n_\\text{samples}$ is defined as:<br>\n",
    "$\\texttt{accuracy}(y, \\hat{y}) = \\frac{1}{n_\\text{samples}} \\sum_{i=0}^{n_\\text{samples}-1} 1(\\hat{y}_i = y_i)$<br>\n",
    "where $1(x)$ is the indicator function."
   ]
  },
  {
   "cell_type": "markdown",
   "metadata": {},
   "source": [
    "<a class=\"list-group-item list-group-item-action\" data-toggle=\"list\" href=\"#Model-Evaluation\" role=\"tab\" aria-controls=\"messages\">Go to top<span class=\"badge badge-primary badge-pill\"></span></a>\n"
   ]
  },
  {
   "cell_type": "markdown",
   "metadata": {},
   "source": [
    "## Precision, recall and F-measures\n",
    "The precision is the ratio **tp / (tp + fp)** where tp is the number of true positives and fp the number of false positives. The precision is intuitively the **ability of the classifier not to label as positive a sample that is negative**.<br><br>\n",
    "The best value is 1 and the worst value is 0."
   ]
  },
  {
   "cell_type": "markdown",
   "metadata": {},
   "source": [
    "The **recall** is the ratio **tp / (tp + fn)** where tp is the number of true positives and fn the number of false negatives. The recall is intuitively the **ability of the classifier to find all the positive samples**.\n",
    "\n",
    "The best value is 1 and the worst value is 0."
   ]
  },
  {
   "cell_type": "markdown",
   "metadata": {},
   "source": [
    "The **F-measure** $(F_\\beta$ and $F_1$ measures) can be interpreted as a weighted harmonic mean of the precision and recall. A $F_\\beta$ measure reaches its best value at 1 and its worst score at 0. With $\\beta = 1$, $F_\\beta$ and $F_1$ are equivalent, and the recall and the precision are equally important.\n",
    "\n",
    "The **average_precision_score** function computes the average precision (AP) from prediction scores. The value is between 0 and 1 and higher is better. AP is defined as: <br>\n",
    "$\\text{AP} = \\sum_n (R_n - R_{n-1}) P_n$<br>\n",
    "where $P_n$ and $R_n$ are the precision and recall at the nth threshold. With random predictions, the AP is the fraction of positive samples."
   ]
  },
  {
   "cell_type": "markdown",
   "metadata": {},
   "source": [
    "<a class=\"list-group-item list-group-item-action\" data-toggle=\"list\" href=\"#Model-Evaluation\" role=\"tab\" aria-controls=\"messages\">Go to top<span class=\"badge badge-primary badge-pill\"></span></a>\n"
   ]
  },
  {
   "cell_type": "markdown",
   "metadata": {},
   "source": [
    "To show how these metrics can evaluate our model, we first import the dataset for multiclass classification. We will be using the fruit dataset for classification of fruits on the basis of the features such as mass, height, etc. The dataframe can be downloaded from the following link:<br> https://github.com/susanli2016/Machine-Learning-with-Python/blob/master/fruit_data_with_colors.txt"
   ]
  },
  {
   "cell_type": "code",
   "execution_count": 32,
   "metadata": {},
   "outputs": [
    {
     "data": {
      "text/html": [
       "<div>\n",
       "<style scoped>\n",
       "    .dataframe tbody tr th:only-of-type {\n",
       "        vertical-align: middle;\n",
       "    }\n",
       "\n",
       "    .dataframe tbody tr th {\n",
       "        vertical-align: top;\n",
       "    }\n",
       "\n",
       "    .dataframe thead th {\n",
       "        text-align: right;\n",
       "    }\n",
       "</style>\n",
       "<table border=\"1\" class=\"dataframe\">\n",
       "  <thead>\n",
       "    <tr style=\"text-align: right;\">\n",
       "      <th></th>\n",
       "      <th>fruit_label</th>\n",
       "      <th>fruit_name</th>\n",
       "      <th>fruit_subtype</th>\n",
       "      <th>mass</th>\n",
       "      <th>width</th>\n",
       "      <th>height</th>\n",
       "      <th>color_score</th>\n",
       "    </tr>\n",
       "  </thead>\n",
       "  <tbody>\n",
       "    <tr>\n",
       "      <th>0</th>\n",
       "      <td>1</td>\n",
       "      <td>apple</td>\n",
       "      <td>granny_smith</td>\n",
       "      <td>192</td>\n",
       "      <td>8.4</td>\n",
       "      <td>7.3</td>\n",
       "      <td>0.55</td>\n",
       "    </tr>\n",
       "    <tr>\n",
       "      <th>1</th>\n",
       "      <td>1</td>\n",
       "      <td>apple</td>\n",
       "      <td>granny_smith</td>\n",
       "      <td>180</td>\n",
       "      <td>8.0</td>\n",
       "      <td>6.8</td>\n",
       "      <td>0.59</td>\n",
       "    </tr>\n",
       "    <tr>\n",
       "      <th>2</th>\n",
       "      <td>1</td>\n",
       "      <td>apple</td>\n",
       "      <td>granny_smith</td>\n",
       "      <td>176</td>\n",
       "      <td>7.4</td>\n",
       "      <td>7.2</td>\n",
       "      <td>0.60</td>\n",
       "    </tr>\n",
       "    <tr>\n",
       "      <th>3</th>\n",
       "      <td>2</td>\n",
       "      <td>mandarin</td>\n",
       "      <td>mandarin</td>\n",
       "      <td>86</td>\n",
       "      <td>6.2</td>\n",
       "      <td>4.7</td>\n",
       "      <td>0.80</td>\n",
       "    </tr>\n",
       "    <tr>\n",
       "      <th>4</th>\n",
       "      <td>2</td>\n",
       "      <td>mandarin</td>\n",
       "      <td>mandarin</td>\n",
       "      <td>84</td>\n",
       "      <td>6.0</td>\n",
       "      <td>4.6</td>\n",
       "      <td>0.79</td>\n",
       "    </tr>\n",
       "  </tbody>\n",
       "</table>\n",
       "</div>"
      ],
      "text/plain": [
       "   fruit_label fruit_name fruit_subtype  mass  width  height  color_score\n",
       "0            1      apple  granny_smith   192    8.4     7.3         0.55\n",
       "1            1      apple  granny_smith   180    8.0     6.8         0.59\n",
       "2            1      apple  granny_smith   176    7.4     7.2         0.60\n",
       "3            2   mandarin      mandarin    86    6.2     4.7         0.80\n",
       "4            2   mandarin      mandarin    84    6.0     4.6         0.79"
      ]
     },
     "execution_count": 32,
     "metadata": {},
     "output_type": "execute_result"
    }
   ],
   "source": [
    "fruits = pd.read_table(r'dataset/Fruit.txt')\n",
    "fruits.head()"
   ]
  },
  {
   "cell_type": "markdown",
   "metadata": {},
   "source": [
    "We have 59 pieces of fruits, 7 features in the dataset and 4 types of fruits in the dataset:"
   ]
  },
  {
   "cell_type": "code",
   "execution_count": 33,
   "metadata": {},
   "outputs": [
    {
     "name": "stdout",
     "output_type": "stream",
     "text": [
      "(15,)\n",
      "(15, 4)\n"
     ]
    }
   ],
   "source": [
    "#Specify Targets and features\n",
    "feature_names = ['mass', 'width', 'height', 'color_score']\n",
    "X = fruits[feature_names]\n",
    "y = fruits['fruit_label']\n",
    "\n",
    "#split data into test and train\n",
    "X_train, X_test, y_train, y_test = train_test_split(X, y, random_state=0)\n",
    "\n",
    "#Scaling Our data\n",
    "from sklearn.preprocessing import MinMaxScaler\n",
    "scaler = MinMaxScaler()\n",
    "X_train = scaler.fit_transform(X_train)\n",
    "X_test = scaler.transform(X_test)\n",
    "print(y_test.shape)\n",
    "print(X_test.shape)"
   ]
  },
  {
   "cell_type": "code",
   "execution_count": 34,
   "metadata": {},
   "outputs": [],
   "source": [
    "# Import RF Regressor\n",
    "from sklearn.ensemble import RandomForestClassifier\n",
    "rf = RandomForestClassifier()\n",
    "\n",
    "#fit the model\n",
    "model = rf.fit(X_train, y_train)\n",
    "\n",
    "#Make predictions\n",
    "y_pred = model.predict(X_test)"
   ]
  },
  {
   "cell_type": "markdown",
   "metadata": {},
   "source": [
    "<a class=\"list-group-item list-group-item-action\" data-toggle=\"list\" href=\"#Model-Evaluation\" role=\"tab\" aria-controls=\"messages\">Go to top<span class=\"badge badge-primary badge-pill\"></span></a>\n"
   ]
  },
  {
   "cell_type": "markdown",
   "metadata": {},
   "source": [
    "The methods that we have explained above have been demonstrated in the block below"
   ]
  },
  {
   "cell_type": "code",
   "execution_count": 35,
   "metadata": {},
   "outputs": [
    {
     "name": "stdout",
     "output_type": "stream",
     "text": [
      "accuracy: 86.67%\n",
      "Precision Score:  0.8666666666666666\n",
      "Recall_score:  0.8666666666666667\n",
      "f1_score:  0.8675132275132273\n",
      "fbeta_score:  0.8712797619047619\n",
      "precision_recall_fscore_support:  (array([0.8       , 1.        , 1.        , 0.66666667]), array([1.  , 1.  , 0.75, 1.  ]), array([0.83333333, 1.        , 0.9375    , 0.71428571]), array([4, 1, 8, 2], dtype=int64))\n"
     ]
    }
   ],
   "source": [
    "from sklearn import metrics\n",
    "from sklearn.metrics import accuracy_score\n",
    "print(\"accuracy: {}%\".format(round(accuracy_score(y_test, y_pred)*100,2)))\n",
    "print(\"Precision Score: \", metrics.precision_score(y_test, y_pred, average='macro'))\n",
    "print(\"Recall_score: \", metrics.recall_score(y_test, y_pred, average='micro'))\n",
    "print(\"f1_score: \", metrics.f1_score(y_test, y_pred, average='weighted'))\n",
    "print(\"fbeta_score: \", metrics.fbeta_score(y_test, y_pred, average='macro', beta=0.5))\n",
    "print(\"precision_recall_fscore_support: \", metrics.precision_recall_fscore_support(y_test, y_pred, beta=0.5, average=None))"
   ]
  },
  {
   "cell_type": "markdown",
   "metadata": {},
   "source": [
    "## Confusion Matrix for MultiClass\n",
    "The multilabel_confusion_matrix function **computes class-wise (default) or sample-wise (samplewise=True) multilabel confusion matrix to evaluate the accuracy of a classification**. multilabel_confusion_matrix also treats multiclass data as if it were multilabel, as this is a transformation commonly applied to evaluate multiclass problems with binary classification metrics (such as precision, recall, etc.).\n",
    "\n",
    "When calculating class-wise multilabel confusion matrix $C$, the count of true negatives for class $i$ is $C_{i,0,0}$, false negatives is $C_{i,1,0}$, true positives is $C_{i,1,1}$ and false positives is $C_{i,0,1}$"
   ]
  },
  {
   "cell_type": "code",
   "execution_count": 36,
   "metadata": {},
   "outputs": [
    {
     "name": "stdout",
     "output_type": "stream",
     "text": [
      "Confusion matrix, without normalization\n",
      "[[4 0 0 0]\n",
      " [0 1 0 0]\n",
      " [1 0 6 1]\n",
      " [0 0 0 2]]\n"
     ]
    },
    {
     "data": {
      "image/png": "[encoded data removed]",
      "text/plain": [
       "<Figure size 432x288 with 2 Axes>"
      ]
     },
     "metadata": {
      "needs_background": "light"
     },
     "output_type": "display_data"
    }
   ],
   "source": [
    "from sklearn.metrics import multilabel_confusion_matrix\n",
    "multilabel_confusion_matrix(y_test, y_pred)\n",
    "\n",
    "# Plot non-normalized confusion matrix\n",
    "titles_options = [(\"Confusion matrix, without normalization\", None)\n",
    "                 ]\n",
    "for title, normalize in titles_options:\n",
    "    disp = plot_confusion_matrix(model, X_test, y_test,\n",
    "                                 cmap=plt.cm.GnBu,\n",
    "                                 normalize=normalize)\n",
    "    disp.ax_.set_title(title)\n",
    "\n",
    "    print(title)\n",
    "    print(disp.confusion_matrix)\n",
    "    \n",
    "plt.show()\n"
   ]
  },
  {
   "cell_type": "markdown",
   "metadata": {},
   "source": [
    "<a class=\"list-group-item list-group-item-action\" data-toggle=\"list\" href=\"#Model-Evaluation\" role=\"tab\" aria-controls=\"messages\">Go to top<span class=\"badge badge-primary badge-pill\"></span></a>\n",
    "\n"
   ]
  },
  {
   "cell_type": "markdown",
   "metadata": {},
   "source": [
    "## ROC and AUC\n",
    "An example of Receiver Operating Characteristic (ROC) metric to evaluate classifier output quality.\n",
    "\n",
    "**ROC curves typically feature true positive rate on the Y axis, and false positive rate on the X axis**. This means that the top left corner of the plot is the “ideal” point - a false positive rate of zero, and a true positive rate of one. This is not very realistic, but it does mean that a larger area under the curve (AUC) is usually better.\n",
    "\n",
    "The “steepness” of ROC curves is also important, since it is ideal to maximize the true positive rate while minimizing the false positive rate.\n",
    "\n",
    "**ROC curves are typically used in binary classification** to study the output of a classifier. In order to extend ROC curve and ROC area to multi-label classification, **it is necessary to binarize the output**. **One ROC curve can be drawn per label**, but one can also draw a ROC curve by considering each element of the label indicator matrix as a binary prediction (micro-averaging).\n",
    "\n",
    "**Another evaluation measure for multi-label classification is macro-averaging, which gives equal weight to the classification of each label**."
   ]
  },
  {
   "cell_type": "code",
   "execution_count": 37,
   "metadata": {
    "jupyter": {
     "outputs_hidden": false
    }
   },
   "outputs": [],
   "source": [
    "# print(__doc__)\n",
    "\n",
    "import numpy as np\n",
    "import matplotlib.pyplot as plt\n",
    "from itertools import cycle\n",
    "\n",
    "from sklearn import svm, datasets\n",
    "from sklearn.metrics import roc_curve, auc\n",
    "from sklearn.model_selection import train_test_split\n",
    "from sklearn.preprocessing import label_binarize\n",
    "from sklearn.multiclass import OneVsRestClassifier\n",
    "from scipy import interp\n",
    "from sklearn.metrics import roc_auc_score\n",
    "\n",
    "# Import some data just check which format is in the file before executing this code\n",
    "fruits = pd.read_table(r'dataset/Fruit.txt')\n",
    "feature_names = ['mass', 'width', 'height', 'color_score']\n",
    "X = fruits[feature_names]\n",
    "y = fruits['fruit_label']\n",
    "# Binarize the output\n",
    "Y_1 = label_binarize(y, classes=[1, 2, 3, 4])\n",
    "n_classes = Y_1.shape[1]\n",
    "\n",
    "# Add noisy features to make the problem harder\n",
    "# random_state = np.random.RandomState(0)\n",
    "# n_samples, n_features = X.shape\n",
    "# X = np.c_[X, random_state.randn(n_samples, 200 * n_features)]\n",
    "\n",
    "# shuffle and split training and test sets\n",
    "X_train, X_test, y_train, y_test = train_test_split(X, Y_1, test_size=.5,\n",
    "                                                    random_state=0)\n",
    "\n",
    "# Learn to predict each class against the other\n",
    "classifier = OneVsRestClassifier(svm.SVC(kernel='linear', probability=True,\n",
    "                                 random_state= 0))\n",
    "y_score = classifier.fit(X_train, y_train).decision_function(X_test)\n",
    "\n",
    "# Compute ROC curve and ROC area for each class\n",
    "fpr = dict()\n",
    "tpr = dict()\n",
    "roc_auc = dict()\n",
    "for i in range(n_classes):\n",
    "    fpr[i], tpr[i], _ = roc_curve(y_test[:, i], y_score[:, i])\n",
    "    roc_auc[i] = auc(fpr[i], tpr[i])\n",
    "\n",
    "# Compute micro-average ROC curve and ROC area\n",
    "fpr[\"micro\"], tpr[\"micro\"], _ = roc_curve(y_test.ravel(), y_score.ravel())\n",
    "roc_auc[\"micro\"] = auc(fpr[\"micro\"], tpr[\"micro\"])"
   ]
  },
  {
   "cell_type": "markdown",
   "metadata": {},
   "source": [
    "The plot of a ROC curve for a specific class has been shown below\n"
   ]
  },
  {
   "cell_type": "code",
   "execution_count": 38,
   "metadata": {
    "jupyter": {
     "outputs_hidden": false
    }
   },
   "outputs": [
    {
     "data": {
      "image/png": "[encoded data removed]",
      "text/plain": [
       "<Figure size 576x576 with 1 Axes>"
      ]
     },
     "metadata": {
      "needs_background": "light"
     },
     "output_type": "display_data"
    }
   ],
   "source": [
    "plt.figure(figsize=(8,8))\n",
    "lw = 2\n",
    "plt.plot(fpr[2], tpr[2], color='darkorange',\n",
    "         lw=lw, label='ROC curve (area = %0.2f)' % roc_auc[2])\n",
    "plt.plot([0, 1], [0, 1], color='navy', lw=lw, linestyle='--')\n",
    "plt.xlim([0.0, 1.0])\n",
    "plt.ylim([0.0, 1.05])\n",
    "plt.xlabel('False Positive Rate')\n",
    "plt.ylabel('True Positive Rate')\n",
    "plt.title('Receiver operating characteristic example')\n",
    "plt.legend(loc=\"lower right\")\n",
    "plt.text(0.41,0.8,'More accurate area',fontsize = 12)\n",
    "plt.text(0.63,0.4,'Less accurate area',fontsize = 12)\n",
    "plt.show()"
   ]
  },
  {
   "cell_type": "markdown",
   "metadata": {},
   "source": [
    "Plot ROC curves for all the classes ie a multilabel problem is shown below. It Computes macro-average ROC curve and ROC area. The Defference in Macro-average and micro-average is explained after the plot"
   ]
  },
  {
   "cell_type": "markdown",
   "metadata": {},
   "source": [
    "<a class=\"list-group-item list-group-item-action\" data-toggle=\"list\" href=\"#Model-Evaluation\" role=\"tab\" aria-controls=\"messages\">Go to top<span class=\"badge badge-primary badge-pill\"></span></a>\n",
    "\n"
   ]
  },
  {
   "cell_type": "code",
   "execution_count": 39,
   "metadata": {},
   "outputs": [
    {
     "data": {
      "text/plain": [
       "array([1, 2, 3, 4], dtype=int64)"
      ]
     },
     "execution_count": 39,
     "metadata": {},
     "output_type": "execute_result"
    }
   ],
   "source": [
    "fruits.fruit_label.unique()"
   ]
  },
  {
   "cell_type": "code",
   "execution_count": 40,
   "metadata": {
    "jupyter": {
     "outputs_hidden": false
    }
   },
   "outputs": [
    {
     "data": {
      "image/png": "[encoded data removed]",
      "text/plain": [
       "<Figure size 576x576 with 1 Axes>"
      ]
     },
     "metadata": {
      "needs_background": "light"
     },
     "output_type": "display_data"
    }
   ],
   "source": [
    "# First aggregate all false positive rates\n",
    "all_fpr = np.unique(np.concatenate([fpr[i] for i in range(n_classes)]))\n",
    "\n",
    "# Then interpolate all ROC curves at this points\n",
    "mean_tpr = np.zeros_like(all_fpr)\n",
    "for i in range(n_classes):\n",
    "    mean_tpr += interp(all_fpr, fpr[i], tpr[i])\n",
    "\n",
    "# Finally average it and compute AUC\n",
    "mean_tpr /= n_classes\n",
    "\n",
    "fpr[\"macro\"] = all_fpr\n",
    "tpr[\"macro\"] = mean_tpr\n",
    "roc_auc[\"macro\"] = auc(fpr[\"macro\"], tpr[\"macro\"])\n",
    "\n",
    "# Plot all ROC curves\n",
    "plt.figure(figsize=(8,8))\n",
    "plt.plot(fpr[\"micro\"], tpr[\"micro\"],\n",
    "         label='micro-average ROC curve (area = {0:0.2f})'\n",
    "               ''.format(roc_auc[\"micro\"]),\n",
    "         color='black', linestyle=':', linewidth=4)\n",
    "\n",
    "plt.plot(fpr[\"macro\"], tpr[\"macro\"],\n",
    "         label='macro-average ROC curve (area = {0:0.2f})'\n",
    "               ''.format(roc_auc[\"macro\"]),\n",
    "         color='grey', linestyle=':', linewidth=4)\n",
    "\n",
    "colors = cycle(['lightskyblue', 'darkorange', 'gold', 'yellowgreen'])\n",
    "for i, color in zip(range(n_classes), colors):\n",
    "    plt.plot(fpr[i], tpr[i], color=color, lw=lw,\n",
    "             label='ROC curve of class {0} (area = {1:0.2f})'\n",
    "             ''.format(i, roc_auc[i]))\n",
    "\n",
    "plt.plot([0, 1], [0, 1], 'k--', lw=lw)\n",
    "plt.xlim([0.0, 1.0])\n",
    "plt.ylim([0.0, 1.05])\n",
    "plt.xlabel('False Positive Rate')\n",
    "plt.ylabel('True Positive Rate')\n",
    "plt.title('Some extension of Receiver operating characteristic to multi-class')\n",
    "plt.legend(loc=\"best\")\n",
    "plt.text(0.4,0.6,'More accurate area',fontsize = 12, rotation=45)\n",
    "plt.text(0.63,0.4,'Less accurate area',fontsize = 12, rotation=45)\n",
    "plt.show()"
   ]
  },
  {
   "cell_type": "markdown",
   "metadata": {},
   "source": [
    "**Area under ROC for the multiclass problem**\n",
    "\n",
    "The func:`sklearn.metrics.roc_auc_score` function can be used for\n",
    "multi-class classification. The multi-class One-vs-One scheme compares every\n",
    "unique pairwise combination of classes. In this section, we calculate the AUC\n",
    "using the OvR and OvO schemes. We report a macro average, and a\n",
    "prevalence-weighted average.\n",
    "\n"
   ]
  },
  {
   "cell_type": "code",
   "execution_count": 41,
   "metadata": {
    "jupyter": {
     "outputs_hidden": false
    }
   },
   "outputs": [
    {
     "name": "stdout",
     "output_type": "stream",
     "text": [
      "One-vs-One ROC AUC scores:\n",
      "0.858890 (macro),\n",
      "0.797464 (weighted by prevalence)\n",
      "One-vs-Rest ROC AUC scores:\n",
      "0.858890 (macro),\n",
      "0.797464 (weighted by prevalence)\n"
     ]
    }
   ],
   "source": [
    "y_prob = classifier.predict_proba(X_test)\n",
    "\n",
    "macro_roc_auc_ovo = roc_auc_score(y_test, y_prob, multi_class=\"ovo\",\n",
    "                                  average=\"macro\")\n",
    "weighted_roc_auc_ovo = roc_auc_score(y_test, y_prob, multi_class=\"ovo\",\n",
    "                                     average=\"weighted\")\n",
    "macro_roc_auc_ovr = roc_auc_score(y_test, y_prob, multi_class=\"ovr\",\n",
    "                                  average=\"macro\")\n",
    "weighted_roc_auc_ovr = roc_auc_score(y_test, y_prob, multi_class=\"ovr\",\n",
    "                                     average=\"weighted\")\n",
    "print(\"One-vs-One ROC AUC scores:\\n{:.6f} (macro),\\n{:.6f} \"\n",
    "      \"(weighted by prevalence)\"\n",
    "      .format(macro_roc_auc_ovo, weighted_roc_auc_ovo))\n",
    "print(\"One-vs-Rest ROC AUC scores:\\n{:.6f} (macro),\\n{:.6f} \"\n",
    "      \"(weighted by prevalence)\"\n",
    "      .format(macro_roc_auc_ovr, weighted_roc_auc_ovr))"
   ]
  },
  {
   "cell_type": "markdown",
   "metadata": {},
   "source": [
    "<a class=\"list-group-item list-group-item-action\" data-toggle=\"list\" href=\"#Model-Evaluation\" role=\"tab\" aria-controls=\"messages\">Go to top<span class=\"badge badge-primary badge-pill\"></span></a>\n",
    "\n"
   ]
  },
  {
   "cell_type": "markdown",
   "metadata": {},
   "source": [
    "## Precision Recall Curve for Multiclass\n",
    "The precision recall curve with the fruit dataset is shown below<br>\n",
    "Precision-recall curves are typically used in binary classification to study the output of a classifier. In order to extend the precision-recall curve and average precision to multi-class or multi-label classification, it is necessary to binarize the output. One curve can be drawn per label, but one can also draw a precision-recall curve by considering each element of the label indicator matrix as a binary prediction (micro-averaging).\n",
    "\n"
   ]
  },
  {
   "cell_type": "code",
   "execution_count": 42,
   "metadata": {
    "jupyter": {
     "outputs_hidden": false
    }
   },
   "outputs": [],
   "source": [
    "from sklearn.preprocessing import label_binarize\n",
    "from sklearn import svm, datasets\n",
    "from sklearn.model_selection import train_test_split\n",
    "import numpy as np\n",
    "import warnings\n",
    "\n",
    "# Import some data \n",
    "fruits = pd.read_table(r'dataset/Fruit.txt')\n",
    "feature_names = ['mass', 'width', 'height', 'color_score']\n",
    "X = fruits[feature_names]\n",
    "y = fruits['fruit_label']\n",
    "random_state = np.random.RandomState(0)\n",
    "\n",
    "\n",
    "\n",
    "# Limit to the two first classes, and split into training and test\n",
    "# shuffle and split training and test sets\n",
    "X_train, X_test, y_train, y_test = train_test_split(X, y, test_size=.5,\n",
    "                                                    random_state=0)\n",
    "# Use label_binarize to be multi-label like settings\n",
    "Y = label_binarize(y, classes=[0, 1, 2])\n",
    "n_classes = Y.shape[1]\n",
    "\n",
    "# Split into training and test\n",
    "X_train, X_test, Y_train, Y_test = train_test_split(X, Y, test_size=.5,\n",
    "                                                    random_state=random_state)\n",
    "\n",
    "# We use OneVsRestClassifier for multi-label prediction\n",
    "from sklearn.multiclass import OneVsRestClassifier\n",
    "\n",
    "# Run classifier\n",
    "classifier = OneVsRestClassifier(svm.LinearSVC(random_state=random_state))\n",
    "classifier.fit(X_train, Y_train)\n",
    "y_score = classifier.decision_function(X_test)\n",
    "y_pred = classifier.predict(X_test)"
   ]
  },
  {
   "cell_type": "markdown",
   "metadata": {},
   "source": [
    "The average precision score in multi-label settings"
   ]
  },
  {
   "cell_type": "code",
   "execution_count": 43,
   "metadata": {
    "jupyter": {
     "outputs_hidden": false
    }
   },
   "outputs": [
    {
     "name": "stdout",
     "output_type": "stream",
     "text": [
      "Average precision score, micro-averaged over all classes: 0.34\n"
     ]
    }
   ],
   "source": [
    "from sklearn.metrics import precision_recall_curve\n",
    "from sklearn.metrics import average_precision_score\n",
    "\n",
    "# For each class\n",
    "precision = dict()\n",
    "recall = dict()\n",
    "average_precision = dict()\n",
    "for i in range(n_classes):\n",
    "    precision[i], recall[i], _ = precision_recall_curve(Y_test[:, i],\n",
    "                                                        y_score[:, i])\n",
    "    average_precision[i] = average_precision_score(Y_test[:, i], y_score[:, i])\n",
    "\n",
    "# A \"micro-average\": quantifying score on all classes jointly\n",
    "precision[\"micro\"], recall[\"micro\"], _ = precision_recall_curve(Y_test.ravel(),\n",
    "    y_score.ravel())\n",
    "average_precision[\"micro\"] = average_precision_score(Y_test, y_score,\n",
    "                                                     average=\"micro\")\n",
    "print('Average precision score, micro-averaged over all classes: {0:0.2f}'\n",
    "      .format(average_precision[\"micro\"]))"
   ]
  },
  {
   "cell_type": "markdown",
   "metadata": {},
   "source": [
    "Plot the micro-averaged Precision-Recall curve"
   ]
  },
  {
   "cell_type": "code",
   "execution_count": 44,
   "metadata": {
    "jupyter": {
     "outputs_hidden": false
    }
   },
   "outputs": [
    {
     "data": {
      "text/plain": [
       "Text(0.5, 1.0, 'Average precision score, micro-averaged over all classes: AP=0.34')"
      ]
     },
     "execution_count": 44,
     "metadata": {},
     "output_type": "execute_result"
    },
    {
     "data": {
      "image/png": "[encoded data removed]",
      "text/plain": [
       "<Figure size 432x288 with 1 Axes>"
      ]
     },
     "metadata": {
      "needs_background": "light"
     },
     "output_type": "display_data"
    }
   ],
   "source": [
    "plt.figure()\n",
    "plt.step(recall['micro'], precision['micro'], where='post')\n",
    "\n",
    "plt.xlabel('Recall')\n",
    "plt.ylabel('Precision')\n",
    "plt.ylim([0.0, 1.05])\n",
    "plt.xlim([0.0, 1.0])\n",
    "plt.title(\n",
    "    'Average precision score, micro-averaged over all classes: AP={0:0.2f}'\n",
    "    .format(average_precision[\"micro\"]))"
   ]
  },
  {
   "cell_type": "markdown",
   "metadata": {},
   "source": [
    "Plot Precision-Recall curve for each class and iso-f1 curves\n",
    ".............................................................\n",
    "\n",
    "\n"
   ]
  },
  {
   "cell_type": "code",
   "execution_count": 45,
   "metadata": {
    "jupyter": {
     "outputs_hidden": false
    }
   },
   "outputs": [
    {
     "data": {
      "image/png": "[encoded data removed]",
      "text/plain": [
       "<Figure size 504x576 with 1 Axes>"
      ]
     },
     "metadata": {
      "needs_background": "light"
     },
     "output_type": "display_data"
    }
   ],
   "source": [
    "from itertools import cycle\n",
    "# setup plot details\n",
    "colors = cycle(['navy', 'turquoise', 'darkorange', 'cornflowerblue', 'teal'])\n",
    "\n",
    "plt.figure(figsize=(7, 8))\n",
    "f_scores = np.linspace(0.2, 0.8, num=4)\n",
    "lines = []\n",
    "labels = []\n",
    "for f_score in f_scores:\n",
    "    x = np.linspace(0.01, 1)\n",
    "    y = f_score * x / (2 * x - f_score)\n",
    "    l, = plt.plot(x[y >= 0], y[y >= 0], color='gray', alpha=0.2)\n",
    "    plt.annotate('f1={0:0.1f}'.format(f_score), xy=(0.9, y[45] + 0.02))\n",
    "\n",
    "lines.append(l)\n",
    "labels.append('iso-f1 curves')\n",
    "l, = plt.plot(recall[\"micro\"], precision[\"micro\"], color='gold', lw=2)\n",
    "lines.append(l)\n",
    "labels.append('micro-average Precision-recall (area = {0:0.2f})'\n",
    "              ''.format(average_precision[\"micro\"]))\n",
    "\n",
    "for i, color in zip(range(n_classes), colors):\n",
    "    l, = plt.plot(recall[i], precision[i], color=color, lw=2)\n",
    "    lines.append(l)\n",
    "    labels.append('Precision-recall for class {0} (area = {1:0.2f})'\n",
    "                  ''.format(i, average_precision[i]))\n",
    "\n",
    "fig = plt.gcf()\n",
    "fig.subplots_adjust(bottom=0.25)\n",
    "plt.xlim([0.0, 1.0])\n",
    "plt.ylim([0.0, 1.05])\n",
    "plt.xlabel('Recall')\n",
    "plt.ylabel('Precision')\n",
    "plt.title('Extension of Precision-Recall curve to multi-class')\n",
    "plt.legend(lines, labels, loc=(0, -.38), prop=dict(size=14))\n",
    "\n",
    "\n",
    "plt.show()"
   ]
  },
  {
   "cell_type": "markdown",
   "metadata": {},
   "source": [
    "## Classification Report\n",
    "The classification_report function **builds a text report showing the main classification metrics**. Here is a small example with custom target_names and inferred labels<br>\n",
    "Below there is an example of classification report to give the evaluation of a logistic regression classification model on the fruit dataset.\n"
   ]
  },
  {
   "cell_type": "code",
   "execution_count": 46,
   "metadata": {},
   "outputs": [],
   "source": [
    "from sklearn.linear_model import LogisticRegression\n",
    "# Import some data \n",
    "fruits = pd.read_table(r'dataset/Fruit.txt')\n",
    "feature_names = ['mass', 'width', 'height', 'color_score']\n",
    "X = fruits[feature_names]\n",
    "y = fruits['fruit_label']\n",
    "#fir Logistic Regression\n",
    "LogReg = LogisticRegression()\n",
    "model = LogReg.fit(X_train, y_train)\n",
    "prediction = model.predict(X_test)"
   ]
  },
  {
   "cell_type": "code",
   "execution_count": 47,
   "metadata": {},
   "outputs": [
    {
     "name": "stdout",
     "output_type": "stream",
     "text": [
      "              precision    recall  f1-score   support\n",
      "\n",
      "           1       0.37      1.00      0.54         7\n",
      "           2       1.00      1.00      1.00         3\n",
      "           3       1.00      0.14      0.25        14\n",
      "           4       1.00      1.00      1.00         6\n",
      "\n",
      "    accuracy                           0.60        30\n",
      "   macro avg       0.84      0.79      0.70        30\n",
      "weighted avg       0.85      0.60      0.54        30\n",
      "\n"
     ]
    }
   ],
   "source": [
    "from sklearn.metrics import classification_report\n",
    "print(classification_report(y_test, prediction))"
   ]
  },
  {
   "cell_type": "markdown",
   "metadata": {},
   "source": [
    "<a class=\"list-group-item list-group-item-action\" data-toggle=\"list\" href=\"#Model-Evaluation\" role=\"tab\" aria-controls=\"messages\">Go to top<span class=\"badge badge-primary badge-pill\"></span></a>\n",
    "\n"
   ]
  }
 ],
 "metadata": {
  "kernelspec": {
   "display_name": "Python 3",
   "language": "python",
   "name": "python3"
  },
  "language_info": {
   "codemirror_mode": {
    "name": "ipython",
    "version": 3
   },
   "file_extension": ".py",
   "mimetype": "text/x-python",
   "name": "python",
   "nbconvert_exporter": "python",
   "pygments_lexer": "ipython3",
   "version": "3.7.6"
  }
 },
 "nbformat": 4,
 "nbformat_minor": 4
}
